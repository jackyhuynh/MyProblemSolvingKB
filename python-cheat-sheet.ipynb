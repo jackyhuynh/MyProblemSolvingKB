{
 "cells": [
  {
   "cell_type": "markdown",
   "id": "9cd4a022",
   "metadata": {},
   "source": [
    "# Truc Huynh Cheat Sheet"
   ]
  },
  {
   "cell_type": "markdown",
   "id": "2f07783f",
   "metadata": {},
   "source": [
    "### round the decimal\n",
    "The round function round the number to different float"
   ]
  },
  {
   "cell_type": "code",
   "execution_count": 1,
   "id": "1f762615",
   "metadata": {},
   "outputs": [
    {
     "data": {
      "text/plain": [
       "34.6"
      ]
     },
     "execution_count": 1,
     "metadata": {},
     "output_type": "execute_result"
    }
   ],
   "source": [
    "round(34.5646,1)"
   ]
  },
  {
   "cell_type": "markdown",
   "id": "d85c60e6",
   "metadata": {},
   "source": [
    "### absolute value\n",
    "return the absolute value of a number"
   ]
  },
  {
   "cell_type": "code",
   "execution_count": 2,
   "id": "b4b34ef3",
   "metadata": {},
   "outputs": [
    {
     "data": {
      "text/plain": [
       "11"
      ]
     },
     "execution_count": 2,
     "metadata": {},
     "output_type": "execute_result"
    }
   ],
   "source": [
    "abs(-11)"
   ]
  },
  {
   "cell_type": "markdown",
   "id": "93cf929f",
   "metadata": {},
   "source": [
    "### check if a string is digit\n",
    "Check if a string is a integer or not. Only work with integer, not float"
   ]
  },
  {
   "cell_type": "code",
   "execution_count": 3,
   "id": "10ce9c45",
   "metadata": {},
   "outputs": [
    {
     "name": "stdout",
     "output_type": "stream",
     "text": [
      "11 is an integer\n",
      "string is not an integer\n",
      "11.2 is not an integer\n"
     ]
    }
   ],
   "source": [
    "isdigit_list=['11','string','11.2']\n",
    "for i in isdigit_list:\n",
    "    print(f\"{i} is an integer\" if i.isdigit() else f\"{i} is not an integer\")"
   ]
  },
  {
   "cell_type": "code",
   "execution_count": 4,
   "id": "dd13f14c",
   "metadata": {},
   "outputs": [
    {
     "data": {
      "text/plain": [
       "True"
      ]
     },
     "execution_count": 4,
     "metadata": {},
     "output_type": "execute_result"
    }
   ],
   "source": [
    "'1'.isnumeric()"
   ]
  },
  {
   "cell_type": "markdown",
   "id": "9245f4e2",
   "metadata": {},
   "source": [
    "### check a string is float"
   ]
  },
  {
   "cell_type": "code",
   "execution_count": 19,
   "id": "a5b4422c",
   "metadata": {
    "collapsed": true
   },
   "outputs": [],
   "source": [
    "def test_decimal(s):\n",
    "    try:\n",
    "        float(s)\n",
    "        return True\n",
    "    except ValueError:\n",
    "        return False"
   ]
  },
  {
   "cell_type": "code",
   "execution_count": 20,
   "id": "626e44eb",
   "metadata": {},
   "outputs": [
    {
     "data": {
      "text/plain": [
       "True"
      ]
     },
     "execution_count": 20,
     "metadata": {},
     "output_type": "execute_result"
    }
   ],
   "source": [
    "s='3.4'\n",
    "test_decimal(s)"
   ]
  },
  {
   "cell_type": "code",
   "execution_count": 21,
   "id": "3c0521ce",
   "metadata": {},
   "outputs": [
    {
     "data": {
      "text/plain": [
       "False"
      ]
     },
     "execution_count": 21,
     "metadata": {},
     "output_type": "execute_result"
    }
   ],
   "source": [
    "s='3.sdfs4'\n",
    "test_decimal(s)"
   ]
  },
  {
   "cell_type": "markdown",
   "id": "a3c25db9",
   "metadata": {},
   "source": [
    "### math.floor(3.46)\n",
    "round a number(float, double) to the base level"
   ]
  },
  {
   "cell_type": "code",
   "execution_count": 2,
   "id": "77dd209d",
   "metadata": {
    "scrolled": true
   },
   "outputs": [
    {
     "data": {
      "text/plain": [
       "3"
      ]
     },
     "execution_count": 2,
     "metadata": {},
     "output_type": "execute_result"
    }
   ],
   "source": [
    "import math\n",
    "math.floor(3.46)"
   ]
  },
  {
   "cell_type": "markdown",
   "id": "c92edf10",
   "metadata": {},
   "source": [
    "### input\n",
    "Prints a string into the console,\n",
    "and asks the user for a string input."
   ]
  },
  {
   "cell_type": "code",
   "execution_count": 4,
   "id": "11d4f8dd",
   "metadata": {},
   "outputs": [
    {
     "name": "stdout",
     "output_type": "stream",
     "text": [
      "What's your name: Truc Huynh\n"
     ]
    },
    {
     "data": {
      "text/plain": [
       "'Truc Huynh'"
      ]
     },
     "execution_count": 4,
     "metadata": {},
     "output_type": "execute_result"
    }
   ],
   "source": [
    "input(\"What's your name: \")"
   ]
  },
  {
   "cell_type": "markdown",
   "id": "227da27d",
   "metadata": {},
   "source": [
    "### string concatenation\n",
    "You can add strings to string to create\n",
    "a new string. This is called concatenation.\n",
    "It results in a new string."
   ]
  },
  {
   "cell_type": "code",
   "execution_count": 5,
   "id": "5f472d5e",
   "metadata": {},
   "outputs": [
    {
     "data": {
      "text/plain": [
       "'HelloAngela'"
      ]
     },
     "execution_count": 5,
     "metadata": {},
     "output_type": "execute_result"
    }
   ],
   "source": [
    "\"Hello\" + \"Angela\"\n",
    "#becomes \"HelloAngela\""
   ]
  },
  {
   "cell_type": "markdown",
   "id": "ef166f0c",
   "metadata": {},
   "source": [
    "### escaping a string\n",
    "Because the double quote is special, it\n",
    "denotes a string, if you want to use it in\n",
    "a string, you need to escape it with a \\"
   ]
  },
  {
   "cell_type": "code",
   "execution_count": 7,
   "id": "f17b1de2",
   "metadata": {},
   "outputs": [
    {
     "name": "stdout",
     "output_type": "stream",
     "text": [
      "She said: \"Hi\"\n"
     ]
    }
   ],
   "source": [
    "speech = \"She said: \\\"Hi\\\"\"\n",
    "print(speech)\n",
    "#prints: She said: \"Hi\""
   ]
  },
  {
   "cell_type": "markdown",
   "id": "373d9d3d",
   "metadata": {},
   "source": [
    "### converting data types\n",
    "You can convert a variable from 1 data\n",
    "type to another.\n",
    "- Converting to float: float()\n",
    "- Converting to int: int()\n",
    "- Converting to string: str()"
   ]
  },
  {
   "cell_type": "code",
   "execution_count": 8,
   "id": "8f22bdf3",
   "metadata": {},
   "outputs": [
    {
     "name": "stdout",
     "output_type": "stream",
     "text": [
      "354.0\n"
     ]
    }
   ],
   "source": [
    "n = 354\n",
    "new_n = float(n)\n",
    "print(new_n) #result 354.0"
   ]
  },
  {
   "cell_type": "markdown",
   "id": "7391ad12",
   "metadata": {},
   "source": [
    "### checking data types\n",
    "You can use the type() function\n",
    "to check what is the data type of a\n",
    "particular variable.\n"
   ]
  },
  {
   "cell_type": "code",
   "execution_count": 23,
   "id": "3b8f26be",
   "metadata": {},
   "outputs": [
    {
     "data": {
      "text/plain": [
       "float"
      ]
     },
     "execution_count": 23,
     "metadata": {},
     "output_type": "execute_result"
    }
   ],
   "source": [
    "n = 3.14159\n",
    "type(n)"
   ]
  },
  {
   "cell_type": "markdown",
   "id": "c374fd7c",
   "metadata": {},
   "source": [
    "### arithmetic operators\n",
    "You can do mathematical calculations with\n",
    "Python as long as you know the right\n",
    "operators."
   ]
  },
  {
   "cell_type": "code",
   "execution_count": 16,
   "id": "332c9bb2",
   "metadata": {},
   "outputs": [
    {
     "name": "stdout",
     "output_type": "stream",
     "text": [
      "3 + 2 = 5\n",
      "4 - 1 = 3\n",
      "2 * 3 = 6\n",
      "5 / 2 = 2.5\n",
      "5 ** 2 = 25\n",
      "5 % 2 = 1\n",
      "5 // 2 = 2\n"
     ]
    }
   ],
   "source": [
    "print(f'3 + 2 = {3+2}')  #Add\n",
    "print(f'4 - 1 = {4-1}')  #Subtract\n",
    "print(f'2 * 3 = {2*3}')  #Multiply\n",
    "print(f'5 / 2 = {5/2}')  #Divide\n",
    "print(f'5 ** 2 = {5**2}')#Exponent\n",
    "print(f'5 % 2 = {5%2}')  #Modulas\n",
    "print(f'5 // 2 = {5//2}')#Floor Division"
   ]
  },
  {
   "cell_type": "markdown",
   "id": "4937491a",
   "metadata": {},
   "source": [
    "### % operator\n",
    "- Often you'll want to know what is the remainder after a division.\n",
    "- e.g. 4 ÷ 2 = 2 with no remainder but 5 ÷ 2 = 2 with 1 remainder\n",
    "- The modulo does not give you the result of the division, just the remainder. It can be really helpful in certain situations, e.g. figuring out if a number is odd or even."
   ]
  },
  {
   "cell_type": "markdown",
   "id": "33593b14",
   "metadata": {},
   "source": [
    "# ERROR"
   ]
  },
  {
   "cell_type": "markdown",
   "id": "c0177125",
   "metadata": {},
   "source": [
    "### zero division error\n",
    "This happens when you try to divide by zero,\n",
    "This is something that is mathematically\n",
    "impossible so Python will also complain."
   ]
  },
  {
   "cell_type": "code",
   "execution_count": 9,
   "id": "4c347254",
   "metadata": {},
   "outputs": [
    {
     "ename": "ZeroDivisionError",
     "evalue": "integer division or modulo by zero",
     "output_type": "error",
     "traceback": [
      "\u001b[1;31m---------------------------------------------------------------------------\u001b[0m",
      "\u001b[1;31mZeroDivisionError\u001b[0m                         Traceback (most recent call last)",
      "\u001b[1;32m<ipython-input-9-77226c89811e>\u001b[0m in \u001b[0;36m<module>\u001b[1;34m\u001b[0m\n\u001b[1;32m----> 1\u001b[1;33m \u001b[1;36m5\u001b[0m \u001b[1;33m%\u001b[0m \u001b[1;36m0\u001b[0m\u001b[1;33m\u001b[0m\u001b[1;33m\u001b[0m\u001b[0m\n\u001b[0m",
      "\u001b[1;31mZeroDivisionError\u001b[0m: integer division or modulo by zero"
     ]
    }
   ],
   "source": [
    "5 % 0"
   ]
  },
  {
   "cell_type": "markdown",
   "id": "bc11eb24",
   "metadata": {},
   "source": [
    "### syntax error\n",
    "Syntax errors happen when your code\n",
    "does not make any sense to the computer.\n",
    "This can happen because you've misspelt\n",
    "something or there's too many brackets or\n",
    "a missing comma."
   ]
  },
  {
   "cell_type": "code",
   "execution_count": 8,
   "id": "8d5c71e6",
   "metadata": {},
   "outputs": [
    {
     "ename": "SyntaxError",
     "evalue": "unmatched ')' (<ipython-input-8-ddd4b8f2de98>, line 1)",
     "output_type": "error",
     "traceback": [
      "\u001b[1;36m  File \u001b[1;32m\"<ipython-input-8-ddd4b8f2de98>\"\u001b[1;36m, line \u001b[1;32m1\u001b[0m\n\u001b[1;33m    print(12+4))\u001b[0m\n\u001b[1;37m               ^\u001b[0m\n\u001b[1;31mSyntaxError\u001b[0m\u001b[1;31m:\u001b[0m unmatched ')'\n"
     ]
    }
   ],
   "source": [
    "print(12+4))"
   ]
  },
  {
   "cell_type": "markdown",
   "id": "6ec2c957",
   "metadata": {},
   "source": [
    "### name error \n",
    "This happens when there is a variable\n",
    "with a name that the computer\n",
    "does not recognise. It's usually because\n",
    "you've misspelt the name of a variable\n",
    "you created earlier.\n",
    "Note: variable names are case sensitive!"
   ]
  },
  {
   "cell_type": "code",
   "execution_count": 7,
   "id": "491b8ef5",
   "metadata": {},
   "outputs": [
    {
     "ename": "NameError",
     "evalue": "name 'my_Number' is not defined",
     "output_type": "error",
     "traceback": [
      "\u001b[1;31m---------------------------------------------------------------------------\u001b[0m",
      "\u001b[1;31mNameError\u001b[0m                                 Traceback (most recent call last)",
      "\u001b[1;32m<ipython-input-7-1e9adc759809>\u001b[0m in \u001b[0;36m<module>\u001b[1;34m\u001b[0m\n\u001b[0;32m      1\u001b[0m \u001b[0mmy_number\u001b[0m \u001b[1;33m=\u001b[0m \u001b[1;36m4\u001b[0m\u001b[1;33m\u001b[0m\u001b[1;33m\u001b[0m\u001b[0m\n\u001b[1;32m----> 2\u001b[1;33m \u001b[0mmy_Number\u001b[0m \u001b[1;33m+\u001b[0m \u001b[1;36m2\u001b[0m\u001b[1;33m\u001b[0m\u001b[1;33m\u001b[0m\u001b[0m\n\u001b[0m",
      "\u001b[1;31mNameError\u001b[0m: name 'my_Number' is not defined"
     ]
    }
   ],
   "source": [
    "my_number = 4\n",
    "my_Number + 2"
   ]
  },
  {
   "cell_type": "markdown",
   "id": "9601d76d",
   "metadata": {},
   "source": [
    "# Function\n",
    "Function allow proframmer group a set of instruction together (and reuse it). The contents of the function must be indented to signal that it's inside."
   ]
  },
  {
   "cell_type": "code",
   "execution_count": 31,
   "id": "c6022bac",
   "metadata": {
    "collapsed": true
   },
   "outputs": [],
   "source": [
    "def my_function():\n",
    "    print(\"Hello\")\n",
    "    name = input(\"Your name:\")\n",
    "    print(\"Hello\")"
   ]
  },
  {
   "cell_type": "code",
   "execution_count": 32,
   "id": "d6384e92",
   "metadata": {},
   "outputs": [
    {
     "name": "stdout",
     "output_type": "stream",
     "text": [
      "Hello\n",
      "Your name:Truc Huynh\n",
      "Hello\n"
     ]
    }
   ],
   "source": [
    "# Calling Fuction:\n",
    "my_function()"
   ]
  },
  {
   "cell_type": "code",
   "execution_count": 34,
   "id": "abdb10b1",
   "metadata": {},
   "outputs": [
    {
     "name": "stdout",
     "output_type": "stream",
     "text": [
      "5\n"
     ]
    }
   ],
   "source": [
    "# Functions with Inputs\n",
    "def add(n1, n2):\n",
    "    print(n1 + n2)\n",
    "add(2, 3)"
   ]
  },
  {
   "cell_type": "code",
   "execution_count": 35,
   "id": "2be9eec6",
   "metadata": {
    "collapsed": true
   },
   "outputs": [],
   "source": [
    "# Function with output\n",
    "def add(n1, n2):\n",
    "    return n1 + n2\n",
    "result = add(2, 3)"
   ]
  },
  {
   "cell_type": "markdown",
   "id": "da8c3a75",
   "metadata": {},
   "source": [
    "### Variable Scope\n",
    "Variables created inside a function are\n",
    "destroyed once the function has executed.\n",
    "The location (line of code) that you use\n",
    "a variable will determine its value.\n",
    "Here n is 2 but inside my_function() n is 3.\n",
    "So printing n inside and outside the function\n",
    "will determine its value."
   ]
  },
  {
   "cell_type": "code",
   "execution_count": 38,
   "id": "76654bd3",
   "metadata": {},
   "outputs": [
    {
     "name": "stdout",
     "output_type": "stream",
     "text": [
      "2\n",
      "3\n"
     ]
    }
   ],
   "source": [
    "n = 2\n",
    "\n",
    "\n",
    "def my_function():\n",
    "    n = 3\n",
    "    print(n)\n",
    "    \n",
    "    \n",
    "print(n) #Prints 2\n",
    "my_function() #Prints 3"
   ]
  },
  {
   "cell_type": "markdown",
   "id": "28a0c195",
   "metadata": {},
   "source": [
    "### Keyword Arguments\n",
    "- When calling a function, you can provide a keyword argument or simply just the value.\n",
    "- Using a keyword argument means that you don't have to follow any order when providing the inputs.\n"
   ]
  },
  {
   "cell_type": "code",
   "execution_count": 39,
   "id": "6ea7abac",
   "metadata": {
    "collapsed": true
   },
   "outputs": [],
   "source": [
    "def divide(n1, n2):\n",
    "    result = n1 / n2\n",
    "#Option 1:\n",
    "divide(10, 5)\n",
    "#Option 2:\n",
    "divide(n2=5, n1=10)"
   ]
  },
  {
   "cell_type": "markdown",
   "id": "4d1b632a",
   "metadata": {},
   "source": [
    "# if condition\n",
    "### if\n",
    "This is the basic syntax to test if a condition is true. If so, the indented code will be executed, if not it will be skipped.\n",
    "### else\n",
    "This is a way to specify some code that will be executed if a condition is false.\n",
    "### elif\n",
    "In addition to the initial if statement condition, you can add extra conditions to test if the first condition is false.Once an elif condition is true, the rest of the elif conditions are no longer checked and are skipped.\n"
   ]
  },
  {
   "cell_type": "code",
   "execution_count": 40,
   "id": "d26ad810",
   "metadata": {},
   "outputs": [
    {
     "name": "stdout",
     "output_type": "stream",
     "text": [
      "bring sunglasses\n"
     ]
    }
   ],
   "source": [
    "weather = \"sunny\"\n",
    "if weather == \"rain\":\n",
    "    print(\"bring umbrella\")\n",
    "elif weather == \"sunny\":\n",
    "    print(\"bring sunglasses\")\n",
    "elif weather == \"snow\":\n",
    "    print(\"bring gloves\")\n"
   ]
  },
  {
   "cell_type": "markdown",
   "id": "a134e5a9",
   "metadata": {},
   "source": [
    "### and\n",
    "This expects both conditions either side of the and to be true.\n",
    "### or\n",
    "This expects either of the conditions either side of the or to be true. Basically, both conditions cannot be false.\n",
    "### not\n",
    "This will flip the orginal result of the condition\n",
    "### comparison operators\n",
    "These mathematical comparison operators allow you to refine your conditional checks.\n",
    "```\n",
    "> Greater than\n",
    "< Lesser than\n",
    ">= Greater than or equal to\n",
    "<= Lesser than or equal to\n",
    "== Is equal to\n",
    "!= Is not equal to\n",
    "```\n"
   ]
  },
  {
   "cell_type": "markdown",
   "id": "e1e0c317",
   "metadata": {},
   "source": [
    "# Loop"
   ]
  },
  {
   "cell_type": "markdown",
   "id": "55f80ab8",
   "metadata": {},
   "source": [
    "### while\n",
    "keep repeating until the condition become false "
   ]
  },
  {
   "cell_type": "code",
   "execution_count": 45,
   "id": "ed175c87",
   "metadata": {},
   "outputs": [
    {
     "name": "stdout",
     "output_type": "stream",
     "text": [
      "10\n"
     ]
    }
   ],
   "source": [
    "n = 1\n",
    "while n < 10:\n",
    "    n += 1\n",
    "    \n",
    "print(n)"
   ]
  },
  {
   "cell_type": "markdown",
   "id": "4500b6df",
   "metadata": {},
   "source": [
    "### for\n",
    "For loops give you more control than while loops. You can loop through anything\n",
    "that is iterable. e.g. a range, a list, a dictionary or tuple.\n"
   ]
  },
  {
   "cell_type": "code",
   "execution_count": 46,
   "id": "52dbda5e",
   "metadata": {},
   "outputs": [
    {
     "name": "stdout",
     "output_type": "stream",
     "text": [
      "apple\n",
      "banana\n",
      "orange\n"
     ]
    }
   ],
   "source": [
    "all_fruits = [\"apple\",\n",
    "\"banana\", \"orange\"]\n",
    "for fruit in all_fruits:\n",
    "    print(fruit)"
   ]
  },
  {
   "cell_type": "markdown",
   "id": "c0a93af6",
   "metadata": {},
   "source": [
    "### '_' in a For Loop\n",
    "If the value your for loop is iterating through, e.g. the number in the range, or the item in the list is not needed, you can replace it with an underscore."
   ]
  },
  {
   "cell_type": "markdown",
   "id": "a5fabe84",
   "metadata": {},
   "source": [
    "### break\n",
    "This keyword allows you to break free of the loop. You can use it in a for or while loop."
   ]
  },
  {
   "cell_type": "code",
   "execution_count": 47,
   "id": "5b442dcf",
   "metadata": {},
   "outputs": [
    {
     "name": "stdout",
     "output_type": "stream",
     "text": [
      "34\n",
      "67\n",
      "99\n",
      "Invalid\n"
     ]
    }
   ],
   "source": [
    "scores = [34, 67, 99, 105]\n",
    "for s in scores:\n",
    "    if s > 100:\n",
    "        print(\"Invalid\")\n",
    "        break\n",
    "    print(s)\n"
   ]
  },
  {
   "cell_type": "markdown",
   "id": "3072d8b6",
   "metadata": {},
   "source": [
    "### continue\n",
    "Skip this iteration on the loop and go to the next. The loop will still continue but start from the top"
   ]
  },
  {
   "cell_type": "markdown",
   "id": "eee729f3",
   "metadata": {},
   "source": [
    "# list comprehension\n",
    "\n",
    "- Source: [Python - List Comprehension from w3 school](https://www.w3schools.com/python/python_lists_comprehension.asp)\n",
    "- List comprehension offers a shorter syntax when you want to create a new list based on the values of an existing list.\n",
    "- Example: Based on a list of fruits, you want a new list, containing only the fruits with the letter \"a\" in the name. Without list comprehension you will have to write a for statement with a conditional test inside:"
   ]
  },
  {
   "cell_type": "code",
   "execution_count": 2,
   "id": "803c19b9",
   "metadata": {},
   "outputs": [
    {
     "name": "stdout",
     "output_type": "stream",
     "text": [
      "['apple', 'banana']\n",
      "['apple', 'banana']\n"
     ]
    }
   ],
   "source": [
    "fruits = [\"apple\", \"banana\", \"cherry\"]\n",
    "\n",
    "# Normal solution\n",
    "fruit_contain_a = []\n",
    "\n",
    "for x in fruits:\n",
    "    if \"a\" in x:\n",
    "        fruit_contain_a.append(x)\n",
    "        \n",
    "print(fruit_contain_a)\n",
    "\n",
    "# List comprehension\n",
    "print([x for x in fruits if \"a\" in x])"
   ]
  },
  {
   "cell_type": "code",
   "execution_count": null,
   "id": "b87ec777",
   "metadata": {},
   "outputs": [],
   "source": []
  },
  {
   "cell_type": "markdown",
   "id": "08d70c11",
   "metadata": {},
   "source": [
    "# list\n",
    "### adding lists together\n",
    "You can extend a list with another list by using the extend keyword, or the + symbol.\n",
    "```\n",
    "list1 = [1, 2, 3]\n",
    "list2 = [9, 8, 7]\n",
    "new_list = list1 + list2\n",
    "list1 += list2\n",
    "```"
   ]
  },
  {
   "cell_type": "markdown",
   "id": "e8f411a9",
   "metadata": {},
   "source": [
    "### list slicing\n",
    "Using the list index and the colon symbol you can slice up a list to get only the portion you want. Start is included, but end is not."
   ]
  },
  {
   "cell_type": "code",
   "execution_count": null,
   "id": "11b79323",
   "metadata": {
    "collapsed": true
   },
   "outputs": [],
   "source": [
    "# list[start:end]\n",
    "letters = [\"a\",\"b\",\"c\",\"d\"]\n",
    "letters[1:3]\n",
    "# Result: [\"b\", \"c\"]"
   ]
  },
  {
   "cell_type": "markdown",
   "id": "92ecd1ff",
   "metadata": {},
   "source": [
    "### range\n",
    "Often you will want to generate a range of numbers. You can specify the start, end and step. Start is included, but end is excluded: start >= range < end"
   ]
  },
  {
   "cell_type": "code",
   "execution_count": null,
   "id": "be52d4de",
   "metadata": {
    "collapsed": true
   },
   "outputs": [],
   "source": [
    "# range(start, end, step)\n",
    "for i in range(6, 0, -2):\n",
    "    print(i)\n",
    "# result: 6, 4, 2\n",
    "# 0 is not included."
   ]
  },
  {
   "cell_type": "markdown",
   "id": "336fc335",
   "metadata": {},
   "source": [
    "### randomisation\n",
    "- The random functions come from the random module which needs to be imported.\n",
    "- In this case, the start and end are both included start <= randint <= end"
   ]
  },
  {
   "cell_type": "markdown",
   "id": "52f67e00",
   "metadata": {},
   "source": [
    "# Modules\n",
    "\n",
    "### import\n",
    "- Some modules are pre-installed with python e.g. random/datetime\n",
    "- Some modules need to be installed from pypi.org\n",
    "\n",
    "### aliasing\n",
    "- use keyword to give module a different name\n",
    "```\n",
    "import pandas as pd\n",
    "```\n",
    "### import from module\n",
    "- You can import a specific thing from a module. e.g. a function/class/constant\n",
    "- You do this with the from keyword. It can save you from having to type the same thing many times.\n",
    "```\n",
    "from random import randint\n",
    "```\n",
    "### import everything\n",
    "- Use the wildcard (*) to import everthing from module\n",
    "- This usually reduces code readability (e.g. not sure where the function came from)\n",
    "```\n",
    "from random import *\n",
    "list = [1, 2, 3]\n",
    "choice(list)\n",
    "# More readable/understood\n",
    "#random.choice(list)\n",
    "```\n"
   ]
  },
  {
   "cell_type": "markdown",
   "id": "8aea23e7",
   "metadata": {},
   "source": [
    "# Class and object\n",
    "\n",
    "## class\n",
    "class is template to create object\n",
    "- class name should be 'capital'\n",
    "```\n",
    "class Car:\n",
    "    def __init__(self, name):\n",
    "        print(\"Building car\")\n",
    "        self.name = name\n",
    "```\n",
    "## Technique for identifying classes:\n",
    "#### Get written description of the problem domain\n",
    "- May be written by you or by an expert\n",
    "- Should include any or all of the following:\n",
    "```\n",
    "+ Physical objects simulated by the program\n",
    "+ The role played by a person \n",
    "+ The result of a business event\n",
    "+ Recordkeeping items\n",
    "```\n",
    "#### Identify all nouns in the description, each of which is a potential class\n",
    "- Should include noun phrases and pronouns\n",
    "- Some nouns may appear twice\n",
    "\n",
    "#### Refine the list to include only classes that are relevant to the problem\n",
    "- Remove nouns that mean the same thing\n",
    "- Remove nouns that represent items that the program does not need to be concerned with\n",
    "- Remove nouns that represent objects, not classes\n",
    "- Remove nouns that represent simple values that can be assigned to a variable\n",
    "\n",
    "## object\n",
    "use class to create object\n",
    "```\n",
    "my_toyota=Car('Truc')\n",
    "```\n",
    "#### Passing Objects as Arguments\n",
    "- When you pass an object as an argument, you are actually passing a reference to the object\n",
    "- The receiving method or function has access to the actual object\n",
    "- Methods of the object can be called within the receiving function or method, and attributes may be changed using mutator methods\n",
    "\n",
    "### Class Inheritance\n",
    "When you create a new class, you can inherit the methods and properties of another class.\n",
    "- Inherittance is a 'is a' Relatonship\n",
    "- Specialized object has a character of the general object + <b>unique</b> character\n",
    "```\n",
    "Superclass(parent): genearal class -> Subclass(child): specialized class : super().__init__(put parameter that super require)\n",
    "```"
   ]
  },
  {
   "cell_type": "code",
   "execution_count": 62,
   "id": "6801f217",
   "metadata": {
    "collapsed": true
   },
   "outputs": [],
   "source": [
    "class Animal:\n",
    "    def __init__(self):\n",
    "        pass\n",
    "    \n",
    "    def breathe(self):\n",
    "        print(\"breathing\")"
   ]
  },
  {
   "cell_type": "code",
   "execution_count": 64,
   "id": "8b3e6b07",
   "metadata": {},
   "outputs": [
    {
     "name": "stdout",
     "output_type": "stream",
     "text": [
      "breathing\n",
      "underwater\n"
     ]
    }
   ],
   "source": [
    "class Fish(Animal):\n",
    "    def __init__(self):\n",
    "        super().__init__()   # no arguments is almost always best in Python 3\n",
    "    \n",
    "    def breathe(self):\n",
    "        super(Fish,self).breathe()\n",
    "        print(\"underwater\")\n",
    "        \n",
    "        \n",
    "nemo = Fish()\n",
    "nemo.breathe()\n",
    "#Result:\n",
    "#breathing\n",
    "#underwater"
   ]
  },
  {
   "cell_type": "markdown",
   "id": "ddb2af5a",
   "metadata": {},
   "source": [
    "# String\n",
    "\n",
    "### rjust and str()"
   ]
  },
  {
   "cell_type": "code",
   "execution_count": 65,
   "id": "55b59f5f",
   "metadata": {},
   "outputs": [
    {
     "name": "stdout",
     "output_type": "stream",
     "text": [
      "     #####\n"
     ]
    }
   ],
   "source": [
    "i = 5\n",
    "n = 10\n",
    "\n",
    "print(str('#'*i).rjust(n))\n",
    "# print the string i times with the adjust to the n"
   ]
  },
  {
   "cell_type": "markdown",
   "id": "46001187",
   "metadata": {},
   "source": [
    "### string manipulation\n",
    "string in python can be sliced using\n",
    "```\n",
    "str[start_index:stop_index]\n",
    "```"
   ]
  },
  {
   "cell_type": "markdown",
   "id": "65c95164",
   "metadata": {},
   "source": [
    "### combination\n",
    "The total of sum that match the inner condition (s <= a+d <= t)\n",
    "```\n",
    "print(sum(s <= a+d <= t for d in apples))\n",
    "```"
   ]
  },
  {
   "cell_type": "code",
   "execution_count": null,
   "id": "1e5f7992",
   "metadata": {
    "collapsed": true
   },
   "outputs": [],
   "source": []
  },
  {
   "cell_type": "markdown",
   "id": "14b07545",
   "metadata": {},
   "source": [
    "# Evaluation\n",
    "\n",
    "### eval ()\n",
    "evaluate expression.\n",
    "### compile()\n",
    "\n",
    "### exec()\n",
    "execute can use with if, while, for."
   ]
  },
  {
   "cell_type": "markdown",
   "id": "a9b2515c",
   "metadata": {},
   "source": [
    "# DEBUG"
   ]
  },
  {
   "cell_type": "markdown",
   "id": "d0ad8f39",
   "metadata": {},
   "source": [
    "## logging model\n",
    "to filter what information want to see (doc.python/logging model).\n",
    "- DEBUG\n",
    "- INFO\n",
    "- WARNING\n",
    "- ERROR\n",
    "- CRITICAL"
   ]
  },
  {
   "cell_type": "code",
   "execution_count": 2,
   "id": "2f65ea49",
   "metadata": {
    "collapsed": true
   },
   "outputs": [],
   "source": [
    "import logging\n",
    "logging.debug(f\"print out the bug\")"
   ]
  },
  {
   "cell_type": "markdown",
   "id": "f0e8980c",
   "metadata": {},
   "source": [
    "## Scope - Search order\n",
    "\n",
    "The LEGB rule:\n",
    "1. Local(function)\n",
    "2. Enclosing(non-local)\n",
    "3. Global\n",
    "4. Built-in"
   ]
  },
  {
   "cell_type": "markdown",
   "id": "2c16c65b",
   "metadata": {},
   "source": [
    "# Decorator\n",
    "### Definition\n",
    "function take a function as a parameter and return a function\n",
    "### Syntax\n",
    "```\n",
    "@log_function_call\n",
    "def basic():\n",
    "    # something\n",
    "    return\n",
    "    \n",
    "@log_function_call is the decorator\n",
    "```"
   ]
  },
  {
   "cell_type": "markdown",
   "id": "16b5cd80",
   "metadata": {},
   "source": [
    "# SET\n",
    "A set can be use to update, intersect, diffrence between 2 set.\n"
   ]
  },
  {
   "cell_type": "code",
   "execution_count": 22,
   "id": "a2ce05ad",
   "metadata": {},
   "outputs": [
    {
     "name": "stdout",
     "output_type": "stream",
     "text": [
      "{'a', 'e', 'R', 'n', 'H', 'k', 'r', 'g', 'c'}\n"
     ]
    }
   ],
   "source": [
    "H = set(\"HackerRank\")\n",
    "R = set(\"Rang\")\n",
    "\n",
    "# add R to H\n",
    "H.update(R)\n",
    "print(H)\n"
   ]
  },
  {
   "cell_type": "code",
   "execution_count": 20,
   "id": "0a239336",
   "metadata": {},
   "outputs": [
    {
     "name": "stdout",
     "output_type": "stream",
     "text": [
      "{'a', 'n', 'R'}\n"
     ]
    }
   ],
   "source": [
    "# intersect 2 set: collect similar object between 2 set\n",
    "H = set(\"HackerRank\")\n",
    "R = set(\"Rang\")\n",
    "H.intersection_update(R)\n",
    "print(H)"
   ]
  },
  {
   "cell_type": "code",
   "execution_count": 21,
   "id": "6c56cd1f",
   "metadata": {},
   "outputs": [
    {
     "data": {
      "text/plain": [
       "{'H', 'c', 'e', 'g', 'k', 'r'}"
      ]
     },
     "execution_count": 21,
     "metadata": {},
     "output_type": "execute_result"
    }
   ],
   "source": [
    "H = set(\"HackerRank\")\n",
    "R = set(\"Rang\")\n",
    "# Update the set by only keeping the element found in set A but not found in set B: syntax A.s_d(B)\n",
    "H.symmetric_difference(R)"
   ]
  },
  {
   "cell_type": "markdown",
   "id": "d717d3b5",
   "metadata": {},
   "source": [
    "Problems Solved:\n",
    "- Sum of Set (Find the Unique number in a set)\n"
   ]
  },
  {
   "cell_type": "markdown",
   "id": "18b53ecc",
   "metadata": {},
   "source": [
    "# Python File\n",
    "\n",
    "Read and write \n",
    "- Read a text file -> Input some text\n",
    "- Open (file, mode, buffering)"
   ]
  },
  {
   "cell_type": "code",
   "execution_count": null,
   "id": "8939d740",
   "metadata": {
    "collapsed": true
   },
   "outputs": [],
   "source": [
    "with open(\"myfile.txt\", mode ='w') as file:\n",
    "    file.write(\"Happy New Year\")\n",
    "    file.close()"
   ]
  },
  {
   "cell_type": "markdown",
   "id": "b34f6f72",
   "metadata": {},
   "source": [
    "# Python underscore\n",
    "The _ is the name of a callable (function, callable object). It's usually used for the gettext function, for example in Django:"
   ]
  },
  {
   "cell_type": "code",
   "execution_count": 8,
   "id": "9690028a",
   "metadata": {},
   "outputs": [
    {
     "ename": "ModuleNotFoundError",
     "evalue": "No module named 'django'",
     "output_type": "error",
     "traceback": [
      "\u001b[1;31m---------------------------------------------------------------------------\u001b[0m",
      "\u001b[1;31mModuleNotFoundError\u001b[0m                       Traceback (most recent call last)",
      "\u001b[1;32m<ipython-input-8-d79f25f2743c>\u001b[0m in \u001b[0;36m<module>\u001b[1;34m\u001b[0m\n\u001b[1;32m----> 1\u001b[1;33m \u001b[1;32mfrom\u001b[0m \u001b[0mdjango\u001b[0m\u001b[1;33m.\u001b[0m\u001b[0mutils\u001b[0m\u001b[1;33m.\u001b[0m\u001b[0mtranslation\u001b[0m \u001b[1;32mimport\u001b[0m \u001b[0mugettext\u001b[0m \u001b[1;32mas\u001b[0m \u001b[0mugt\u001b[0m\u001b[1;33m\u001b[0m\u001b[1;33m\u001b[0m\u001b[0m\n\u001b[0m\u001b[0;32m      2\u001b[0m \u001b[0mprint\u001b[0m \u001b[1;33m(\u001b[0m\u001b[0mugt\u001b[0m\u001b[1;33m(\u001b[0m\u001b[1;34m\"Hello!\"\u001b[0m\u001b[1;33m)\u001b[0m\u001b[1;33m)\u001b[0m\u001b[1;33m\u001b[0m\u001b[1;33m\u001b[0m\u001b[0m\n\u001b[0;32m      3\u001b[0m \u001b[1;33m\u001b[0m\u001b[0m\n\u001b[0;32m      4\u001b[0m \u001b[1;31m# Will print Hello! if the current language is English\u001b[0m\u001b[1;33m\u001b[0m\u001b[1;33m\u001b[0m\u001b[1;33m\u001b[0m\u001b[0m\n\u001b[0;32m      5\u001b[0m \u001b[1;31m# \"Bonjour !\" in French\u001b[0m\u001b[1;33m\u001b[0m\u001b[1;33m\u001b[0m\u001b[1;33m\u001b[0m\u001b[0m\n",
      "\u001b[1;31mModuleNotFoundError\u001b[0m: No module named 'django'"
     ]
    }
   ],
   "source": [
    "from django.utils.translation import ugettext as ugt\n",
    "print (ugt(\"Hello!\"))\n",
    "\n",
    "# Will print Hello! if the current language is English\n",
    "# \"Bonjour !\" in French\n",
    "# ¡Holà! in Spanish, etc."
   ]
  },
  {
   "cell_type": "markdown",
   "id": "7bfdbcc5",
   "metadata": {},
   "source": [
    "# Python Ternary Operator\n",
    "- If-else one line\n",
    "- [Python Ternary Operator](https://pythongeeks.org/python-ternary-operators/#:~:text=Syntax%20of%20Python%20Ternary%20Operator%20with%20Example%201,used%20to%20determine%20the%20value%20of%20a%20variable.)"
   ]
  },
  {
   "cell_type": "code",
   "execution_count": 6,
   "id": "cb30bd5b",
   "metadata": {
    "collapsed": true
   },
   "outputs": [],
   "source": [
    "# <variable> = <true_value> if <condition> else <false_value>"
   ]
  },
  {
   "cell_type": "markdown",
   "id": "bd891ca5",
   "metadata": {},
   "source": [
    "# Array Slicing in Python\n",
    "- [Array Slicing in Python](https://www.askpython.com/python/array/array-slicing-in-python)\n"
   ]
  },
  {
   "cell_type": "code",
   "execution_count": 12,
   "id": "625b561c",
   "metadata": {},
   "outputs": [
    {
     "name": "stdout",
     "output_type": "stream",
     "text": [
      "07\n",
      "05\n",
      "PM\n"
     ]
    }
   ],
   "source": [
    "s = '07:05:45PM'\n",
    "print(s[0:2])\n",
    "print(s[3:5])\n",
    "print(s[8:10])"
   ]
  },
  {
   "cell_type": "code",
   "execution_count": 14,
   "id": "777d94ea",
   "metadata": {},
   "outputs": [
    {
     "data": {
      "text/plain": [
       "True"
      ]
     },
     "execution_count": 14,
     "metadata": {},
     "output_type": "execute_result"
    }
   ],
   "source": [
    "s[8:10]=='PM'"
   ]
  },
  {
   "cell_type": "code",
   "execution_count": 16,
   "id": "6b4474a4",
   "metadata": {},
   "outputs": [
    {
     "name": "stdout",
     "output_type": "stream",
     "text": [
      ":05:45\n"
     ]
    }
   ],
   "source": [
    "print(s[2:8])"
   ]
  },
  {
   "cell_type": "markdown",
   "id": "84434a06",
   "metadata": {},
   "source": [
    "# Array of 0\n",
    "\n",
    "Create an array of 0"
   ]
  },
  {
   "cell_type": "code",
   "execution_count": 17,
   "id": "911ec930",
   "metadata": {
    "collapsed": true
   },
   "outputs": [],
   "source": [
    "bucket=[0]*100"
   ]
  },
  {
   "cell_type": "code",
   "execution_count": 19,
   "id": "0344df54",
   "metadata": {},
   "outputs": [
    {
     "data": {
      "text/plain": [
       "100"
      ]
     },
     "execution_count": 19,
     "metadata": {},
     "output_type": "execute_result"
    }
   ],
   "source": [
    "len(bucket)"
   ]
  },
  {
   "cell_type": "code",
   "execution_count": 30,
   "id": "844b7402",
   "metadata": {},
   "outputs": [
    {
     "data": {
      "text/plain": [
       "2"
      ]
     },
     "execution_count": 30,
     "metadata": {},
     "output_type": "execute_result"
    }
   ],
   "source": [
    "import math\n",
    "\n",
    "math.ceil(3/2)"
   ]
  },
  {
   "cell_type": "code",
   "execution_count": 40,
   "id": "d24eb0d2",
   "metadata": {},
   "outputs": [
    {
     "data": {
      "text/plain": [
       "2"
      ]
     },
     "execution_count": 40,
     "metadata": {},
     "output_type": "execute_result"
    }
   ],
   "source": [
    "# Devide and get the base\n",
    "5//2"
   ]
  },
  {
   "cell_type": "code",
   "execution_count": 51,
   "id": "768458fc",
   "metadata": {},
   "outputs": [
    {
     "name": "stdout",
     "output_type": "stream",
     "text": [
      "1 2 5 4 3\n"
     ]
    }
   ],
   "source": [
    "\"\"\"\n",
    "The Zigzag Sequences\n",
    "\n",
    "\"\"\"\n",
    "def findZigZagSequence(a, n):\n",
    "    a.sort()\n",
    "    mid = int(n//2)\n",
    "    a[mid], a[n-1] = a[n-1], a[mid]\n",
    "\n",
    "    st = mid + 1\n",
    "    ed = n - 2\n",
    "    while(st <= ed):\n",
    "        a[st], a[ed] = a[ed], a[st]\n",
    "        st = st + 1\n",
    "        ed = ed - 1\n",
    "\n",
    "    for i in range (n):\n",
    "        if i == n-1:\n",
    "            print(a[i])\n",
    "        else:\n",
    "            print(a[i], end = ' ')\n",
    "    return\n",
    "\n",
    "\n",
    "# define a\n",
    "a=[2,3,5,1,4]\n",
    "# test run\n",
    "findZigZagSequence(a,len(a))"
   ]
  },
  {
   "cell_type": "code",
   "execution_count": 75,
   "id": "d9aea6b3",
   "metadata": {
    "collapsed": true
   },
   "outputs": [],
   "source": [
    "def towerBreakers(n, m):\n",
    "    # current hold the current position\n",
    "    current = 0\n",
    "    \n",
    "    for i in range (1, m+1):\n",
    "        x = n\n",
    "        y = x - 1\n",
    "        while 1 <= y:\n",
    "            if x % y == 0:\n",
    "                current += 1\n",
    "                print(current)\n",
    "            y -= 1\n",
    "    \n",
    "    print(f'final {current}')\n",
    "    turn = 1 if current % 2 == 1 else 2\n",
    "    return turn\n",
    "\n"
   ]
  },
  {
   "cell_type": "code",
   "execution_count": 77,
   "id": "4176705c",
   "metadata": {},
   "outputs": [
    {
     "name": "stdout",
     "output_type": "stream",
     "text": [
      "final 0\n"
     ]
    },
    {
     "data": {
      "text/plain": [
       "2"
      ]
     },
     "execution_count": 77,
     "metadata": {},
     "output_type": "execute_result"
    }
   ],
   "source": [
    "towerBreakers(1, 4)"
   ]
  },
  {
   "cell_type": "markdown",
   "id": "c23c6ca2",
   "metadata": {},
   "source": [
    "## Stair Case Problem\n",
    "\n",
    "rjust print out the string in the space of right adjustment"
   ]
  },
  {
   "cell_type": "code",
   "execution_count": 1,
   "id": "6d3b16e8",
   "metadata": {
    "collapsed": true
   },
   "outputs": [],
   "source": [
    "\"\"\"\n",
    "   #\n",
    "  ##\n",
    " ###\n",
    "####\n",
    "\"\"\"\n",
    "\n",
    "def staircase(n):\n",
    "    # Write your code here\n",
    "    for i in range(1, n + 1):\n",
    "        print(str('#'*i).rjust(n))"
   ]
  },
  {
   "cell_type": "code",
   "execution_count": 2,
   "id": "90d5bf9a",
   "metadata": {
    "collapsed": true
   },
   "outputs": [],
   "source": [
    "def birthdayCakeCandles(candles):\n",
    "    # Write your code here\n",
    "    MaxPairs=[candles[0],0]\n",
    "    \n",
    "    for i in range(len(candles)):\n",
    "        if MaxPairs[0]>candles[i]:\n",
    "            continue\n",
    "        elif MaxPairs[0]<candles[i]:\n",
    "            MaxPairs[0]=candles[i]\n",
    "            MaxPairs[1]=1\n",
    "        else:\n",
    "            MaxPairs[1]+=1\n",
    "\n",
    "    return MaxPairs[1]"
   ]
  },
  {
   "cell_type": "code",
   "execution_count": 3,
   "id": "0c46f3dd",
   "metadata": {},
   "outputs": [
    {
     "data": {
      "text/plain": [
       "[3, 0]"
      ]
     },
     "execution_count": 3,
     "metadata": {},
     "output_type": "execute_result"
    }
   ],
   "source": [
    "a = [3,3,1,2]\n",
    "\n",
    "b = [a[0],0]\n",
    "\n",
    "b"
   ]
  },
  {
   "cell_type": "code",
   "execution_count": 19,
   "id": "189e20f4",
   "metadata": {},
   "outputs": [
    {
     "ename": "AttributeError",
     "evalue": "type object 'str' has no attribute 'celling'",
     "output_type": "error",
     "traceback": [
      "\u001b[1;31m---------------------------------------------------------------------------\u001b[0m",
      "\u001b[1;31mAttributeError\u001b[0m                            Traceback (most recent call last)",
      "\u001b[1;32m<ipython-input-19-dc6418a2dcb3>\u001b[0m in \u001b[0;36m<module>\u001b[1;34m\u001b[0m\n\u001b[1;32m----> 1\u001b[1;33m \u001b[0mstr\u001b[0m\u001b[1;33m.\u001b[0m\u001b[0mcelling\u001b[0m\u001b[1;33m(\u001b[0m\u001b[1;36m61\u001b[0m\u001b[1;33m/\u001b[0m\u001b[1;36m50\u001b[0m\u001b[1;33m)\u001b[0m\u001b[1;33m\u001b[0m\u001b[1;33m\u001b[0m\u001b[0m\n\u001b[0m",
      "\u001b[1;31mAttributeError\u001b[0m: type object 'str' has no attribute 'celling'"
     ]
    }
   ],
   "source": [
    "str.celling(61/50)\n"
   ]
  }
 ],
 "metadata": {
  "kernelspec": {
   "display_name": "Python 3",
   "language": "python",
   "name": "python3"
  },
  "language_info": {
   "codemirror_mode": {
    "name": "ipython",
    "version": 3
   },
   "file_extension": ".py",
   "mimetype": "text/x-python",
   "name": "python",
   "nbconvert_exporter": "python",
   "pygments_lexer": "ipython3",
   "version": "3.8.8"
  }
 },
 "nbformat": 4,
 "nbformat_minor": 5
}
