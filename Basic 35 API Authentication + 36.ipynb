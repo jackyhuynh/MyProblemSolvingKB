{
 "cells": [
  {
   "cell_type": "markdown",
   "id": "c8dac36b",
   "metadata": {},
   "source": [
    "# API Key\n",
    "## Implement weather map:\n",
    "- https://openweathermap.org/current\n",
    "- https://openweathermap.org/api/one-call-api\n",
    "- https://www.latlong.net/\n",
    "\n",
    "## How Browser work 😃:\n",
    "- Need to read to develop documents: https://developer.mozilla.org/en-US/docs/Web/HTML/Element/Heading_Elements\n",
    "- <meta charset=\"UTF-8\">: give extra meta data to render corectly\n",
    "- https://docs.emmet.io/cheat-sheet/"
   ]
  },
  {
   "cell_type": "code",
   "execution_count": null,
   "id": "42bf644f",
   "metadata": {},
   "outputs": [],
   "source": []
  }
 ],
 "metadata": {
  "kernelspec": {
   "display_name": "Python 3",
   "language": "python",
   "name": "python3"
  },
  "language_info": {
   "codemirror_mode": {
    "name": "ipython",
    "version": 3
   },
   "file_extension": ".py",
   "mimetype": "text/x-python",
   "name": "python",
   "nbconvert_exporter": "python",
   "pygments_lexer": "ipython3",
   "version": "3.8.8"
  }
 },
 "nbformat": 4,
 "nbformat_minor": 5
}
