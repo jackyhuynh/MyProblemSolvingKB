{
 "cells": [
  {
   "cell_type": "markdown",
   "id": "f11ad977",
   "metadata": {},
   "source": [
    "# Programming with Python"
   ]
  },
  {
   "cell_type": "markdown",
   "id": "4512b7e0",
   "metadata": {},
   "source": [
    "## How to rotate a matrix:\n",
    "- Input: [[1,2,3],[4,5,6],[7,8,9]]\n",
    "- Output: [[7,4,1],[8,5,2],[9,6,3]]"
   ]
  },
  {
   "cell_type": "code",
   "execution_count": 14,
   "id": "faa89a87",
   "metadata": {},
   "outputs": [],
   "source": [
    "import math\n",
    "def rotate_matrix(matrix):\n",
    "    if len(matrix) == 0 or len(matrix) != len(matrix[0]):\n",
    "        return false\n",
    "    matrix_len = len(matrix);\n",
    "    for layer in range(0,math.floor(matrix_len/2)):\n",
    "        first = layer\n",
    "        last = matrix_len - 1 - layer\n",
    "        for i in range(first, last):\n",
    "            offset = i - first\n",
    "            top = matrix[first][i]\n",
    "            matrix[first][i] = matrix[last-offset][first]\n",
    "            matrix[last-offset][first] = matrix[last][last-offset]\n",
    "            matrix[last][last-offset] = matrix[i][last]\n",
    "            matrix[i][last] = top\n",
    "    return matrix"
   ]
  },
  {
   "cell_type": "code",
   "execution_count": 29,
   "id": "0376261f",
   "metadata": {},
   "outputs": [],
   "source": [
    "def pretty_print(input_):\n",
    "    for line in input_:\n",
    "        print(line)"
   ]
  },
  {
   "cell_type": "code",
   "execution_count": 30,
   "id": "f29f4f01",
   "metadata": {},
   "outputs": [
    {
     "name": "stdout",
     "output_type": "stream",
     "text": [
      "[7, 4, 1]\n",
      "[8, 5, 2]\n",
      "[9, 6, 3]\n"
     ]
    }
   ],
   "source": [
    "# The user input \n",
    "input_= [[1,2,3],[4,5,6],[7,8,9]]\n",
    "\n",
    "# Print out\n",
    "pretty_print(input_)"
   ]
  },
  {
   "cell_type": "code",
   "execution_count": 26,
   "id": "f10ec245",
   "metadata": {},
   "outputs": [
    {
     "name": "stdout",
     "output_type": "stream",
     "text": [
      "[7, 4, 1]\n",
      "[8, 5, 2]\n",
      "[9, 6, 3]\n"
     ]
    }
   ],
   "source": [
    "# The rotate matrix is rotate the matrix\n",
    "rotate_matrix(input_)\n",
    "\n",
    "# Print out\n",
    "pretty_print(input_)"
   ]
  },
  {
   "cell_type": "code",
   "execution_count": null,
   "id": "41c146cf",
   "metadata": {},
   "outputs": [],
   "source": []
  }
 ],
 "metadata": {
  "kernelspec": {
   "display_name": "Python 3",
   "language": "python",
   "name": "python3"
  },
  "language_info": {
   "codemirror_mode": {
    "name": "ipython",
    "version": 3
   },
   "file_extension": ".py",
   "mimetype": "text/x-python",
   "name": "python",
   "nbconvert_exporter": "python",
   "pygments_lexer": "ipython3",
   "version": "3.8.8"
  }
 },
 "nbformat": 4,
 "nbformat_minor": 5
}
