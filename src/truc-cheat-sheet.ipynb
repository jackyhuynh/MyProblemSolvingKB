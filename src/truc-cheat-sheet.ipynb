{
 "cells": [
  {
   "cell_type": "markdown",
   "id": "1371890d",
   "metadata": {},
   "source": [
    "# Truc Huynh Cheat Sheet"
   ]
  },
  {
   "cell_type": "markdown",
   "id": "de76f716",
   "metadata": {},
   "source": [
    "### round the decimal\n",
    "The round function round the number to different float"
   ]
  },
  {
   "cell_type": "code",
   "execution_count": 2,
   "id": "64391dd0",
   "metadata": {},
   "outputs": [
    {
     "data": {
      "text/plain": [
       "34.6"
      ]
     },
     "execution_count": 2,
     "metadata": {},
     "output_type": "execute_result"
    }
   ],
   "source": [
    "round(34.5646,1)"
   ]
  },
  {
   "cell_type": "markdown",
   "id": "508d9e3a",
   "metadata": {},
   "source": [
    "### check if a string is digit\n",
    "Check if a string is a integer or not. Only work with integer, not float"
   ]
  },
  {
   "cell_type": "code",
   "execution_count": 7,
   "id": "22cfd7ae",
   "metadata": {},
   "outputs": [
    {
     "name": "stdout",
     "output_type": "stream",
     "text": [
      "11 is True\n",
      "11 is an integer\n",
      "string is False\n",
      "string is not an integer\n",
      "11.2 is False\n",
      "11.2 is not an integer\n"
     ]
    }
   ],
   "source": [
    "isdigit_list=['11','string','11.2']\n",
    "for i in isdigit_list:\n",
    "    print(f\"{i} is an integer\" if i.isdigit() else f\"{i} is not an integer\")"
   ]
  },
  {
   "cell_type": "code",
   "execution_count": 22,
   "id": "52d84239",
   "metadata": {},
   "outputs": [
    {
     "data": {
      "text/plain": [
       "True"
      ]
     },
     "execution_count": 22,
     "metadata": {},
     "output_type": "execute_result"
    }
   ],
   "source": [
    "'1'.isnumeric()"
   ]
  },
  {
   "cell_type": "markdown",
   "id": "1a42fe47",
   "metadata": {},
   "source": [
    "### check a string is float"
   ]
  },
  {
   "cell_type": "code",
   "execution_count": 19,
   "id": "25347945",
   "metadata": {},
   "outputs": [],
   "source": [
    "def test_decimal(s):\n",
    "    try:\n",
    "        float(s)\n",
    "        return True\n",
    "    except ValueError:\n",
    "        return False"
   ]
  },
  {
   "cell_type": "code",
   "execution_count": 20,
   "id": "6e6a616a",
   "metadata": {},
   "outputs": [
    {
     "data": {
      "text/plain": [
       "True"
      ]
     },
     "execution_count": 20,
     "metadata": {},
     "output_type": "execute_result"
    }
   ],
   "source": [
    "s='3.4'\n",
    "test_decimal(s)"
   ]
  },
  {
   "cell_type": "code",
   "execution_count": 21,
   "id": "859d11e4",
   "metadata": {},
   "outputs": [
    {
     "data": {
      "text/plain": [
       "False"
      ]
     },
     "execution_count": 21,
     "metadata": {},
     "output_type": "execute_result"
    }
   ],
   "source": [
    "s='3.sdfs4'\n",
    "test_decimal(s)"
   ]
  },
  {
   "cell_type": "markdown",
   "id": "7a5bfdf2",
   "metadata": {},
   "source": [
    "### math.floor(3.46)\n",
    "round a number(float, double) to the base level"
   ]
  },
  {
   "cell_type": "code",
   "execution_count": 2,
   "id": "21a85eff",
   "metadata": {
    "scrolled": true
   },
   "outputs": [
    {
     "data": {
      "text/plain": [
       "3"
      ]
     },
     "execution_count": 2,
     "metadata": {},
     "output_type": "execute_result"
    }
   ],
   "source": [
    "import math\n",
    "math.floor(3.46)"
   ]
  },
  {
   "cell_type": "markdown",
   "id": "3842cdcc",
   "metadata": {},
   "source": [
    "### input\n",
    "Prints a string into the console,\n",
    "and asks the user for a string input."
   ]
  },
  {
   "cell_type": "code",
   "execution_count": 4,
   "id": "b49fca98",
   "metadata": {},
   "outputs": [
    {
     "name": "stdout",
     "output_type": "stream",
     "text": [
      "What's your name: Truc Huynh\n"
     ]
    },
    {
     "data": {
      "text/plain": [
       "'Truc Huynh'"
      ]
     },
     "execution_count": 4,
     "metadata": {},
     "output_type": "execute_result"
    }
   ],
   "source": [
    "input(\"What's your name: \")"
   ]
  },
  {
   "cell_type": "markdown",
   "id": "946db2a8",
   "metadata": {},
   "source": [
    "### string concatenation\n",
    "You can add strings to string to create\n",
    "a new string. This is called concatenation.\n",
    "It results in a new string."
   ]
  },
  {
   "cell_type": "code",
   "execution_count": 5,
   "id": "dbffb7b4",
   "metadata": {},
   "outputs": [
    {
     "data": {
      "text/plain": [
       "'HelloAngela'"
      ]
     },
     "execution_count": 5,
     "metadata": {},
     "output_type": "execute_result"
    }
   ],
   "source": [
    "\"Hello\" + \"Angela\"\n",
    "#becomes \"HelloAngela\""
   ]
  },
  {
   "cell_type": "markdown",
   "id": "4c99ecd7",
   "metadata": {},
   "source": [
    "### escaping a string\n",
    "Because the double quote is special, it\n",
    "denotes a string, if you want to use it in\n",
    "a string, you need to escape it with a \\"
   ]
  },
  {
   "cell_type": "code",
   "execution_count": 7,
   "id": "8810ab27",
   "metadata": {},
   "outputs": [
    {
     "name": "stdout",
     "output_type": "stream",
     "text": [
      "She said: \"Hi\"\n"
     ]
    }
   ],
   "source": [
    "speech = \"She said: \\\"Hi\\\"\"\n",
    "print(speech)\n",
    "#prints: She said: \"Hi\""
   ]
  },
  {
   "cell_type": "markdown",
   "id": "4c26e296",
   "metadata": {},
   "source": [
    "### converting data types\n",
    "You can convert a variable from 1 data\n",
    "type to another.\n",
    "- Converting to float: float()\n",
    "- Converting to int: int()\n",
    "- Converting to string: str()"
   ]
  },
  {
   "cell_type": "code",
   "execution_count": 8,
   "id": "6287e756",
   "metadata": {},
   "outputs": [
    {
     "name": "stdout",
     "output_type": "stream",
     "text": [
      "354.0\n"
     ]
    }
   ],
   "source": [
    "n = 354\n",
    "new_n = float(n)\n",
    "print(new_n) #result 354.0"
   ]
  },
  {
   "cell_type": "markdown",
   "id": "71794e01",
   "metadata": {},
   "source": [
    "### checking data types\n",
    "You can use the type() function\n",
    "to check what is the data type of a\n",
    "particular variable.\n"
   ]
  },
  {
   "cell_type": "code",
   "execution_count": 23,
   "id": "1a5c62b7",
   "metadata": {},
   "outputs": [
    {
     "data": {
      "text/plain": [
       "float"
      ]
     },
     "execution_count": 23,
     "metadata": {},
     "output_type": "execute_result"
    }
   ],
   "source": [
    "n = 3.14159\n",
    "type(n)"
   ]
  },
  {
   "cell_type": "markdown",
   "id": "383bdf67",
   "metadata": {},
   "source": [
    "### arithmetic operators\n",
    "You can do mathematical calculations with\n",
    "Python as long as you know the right\n",
    "operators."
   ]
  },
  {
   "cell_type": "code",
   "execution_count": 24,
   "id": "64783f7b",
   "metadata": {},
   "outputs": [
    {
     "data": {
      "text/plain": [
       "25"
      ]
     },
     "execution_count": 24,
     "metadata": {},
     "output_type": "execute_result"
    }
   ],
   "source": [
    "3+2 #Add\n",
    "4-1 #Subtract\n",
    "2*3 #Multiply\n",
    "5/2 #Divide\n",
    "5**2 #Exponent"
   ]
  },
  {
   "cell_type": "markdown",
   "id": "53d4ae0a",
   "metadata": {},
   "source": [
    "### % operator\n",
    "- Often you'll want to know what is the remainder after a division.\n",
    "- e.g. 4 ÷ 2 = 2 with no remainder but 5 ÷ 2 = 2 with 1 remainder\n",
    "- The modulo does not give you the result of the division, just the remainder. It can be really helpful in certain situations, e.g. figuring out if a number is odd or even."
   ]
  },
  {
   "cell_type": "markdown",
   "id": "15acf2c6",
   "metadata": {},
   "source": [
    "# ERROR"
   ]
  },
  {
   "cell_type": "markdown",
   "id": "d275cd80",
   "metadata": {},
   "source": [
    "### zero division error\n",
    "This happens when you try to divide by zero,\n",
    "This is something that is mathematically\n",
    "impossible so Python will also complain."
   ]
  },
  {
   "cell_type": "code",
   "execution_count": 26,
   "id": "3c48a891",
   "metadata": {},
   "outputs": [
    {
     "ename": "ZeroDivisionError",
     "evalue": "integer division or modulo by zero",
     "output_type": "error",
     "traceback": [
      "\u001b[1;31m---------------------------------------------------------------------------\u001b[0m",
      "\u001b[1;31mZeroDivisionError\u001b[0m                         Traceback (most recent call last)",
      "\u001b[1;32m<ipython-input-26-77226c89811e>\u001b[0m in \u001b[0;36m<module>\u001b[1;34m\u001b[0m\n\u001b[1;32m----> 1\u001b[1;33m \u001b[1;36m5\u001b[0m \u001b[1;33m%\u001b[0m \u001b[1;36m0\u001b[0m\u001b[1;33m\u001b[0m\u001b[1;33m\u001b[0m\u001b[0m\n\u001b[0m",
      "\u001b[1;31mZeroDivisionError\u001b[0m: integer division or modulo by zero"
     ]
    }
   ],
   "source": [
    "5 % 0"
   ]
  },
  {
   "cell_type": "markdown",
   "id": "4c66997f",
   "metadata": {},
   "source": [
    "### syntax error\n",
    "Syntax errors happen when your code\n",
    "does not make any sense to the computer.\n",
    "This can happen because you've misspelt\n",
    "something or there's too many brackets or\n",
    "a missing comma."
   ]
  }
 ],
 "metadata": {
  "kernelspec": {
   "display_name": "Python 3",
   "language": "python",
   "name": "python3"
  },
  "language_info": {
   "codemirror_mode": {
    "name": "ipython",
    "version": 3
   },
   "file_extension": ".py",
   "mimetype": "text/x-python",
   "name": "python",
   "nbconvert_exporter": "python",
   "pygments_lexer": "ipython3",
   "version": "3.8.8"
  }
 },
 "nbformat": 4,
 "nbformat_minor": 5
}
