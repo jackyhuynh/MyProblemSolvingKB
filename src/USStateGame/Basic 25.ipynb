{
 "cells": [
  {
   "cell_type": "markdown",
   "id": "88e2fe60",
   "metadata": {},
   "source": [
    "# Pandas documentation\n",
    "\n",
    "https://realpython.com/pandas-groupby/\n",
    "https://pandas.pydata.org/docs/index.html\n",
    "\n",
    "# The US States Games\n",
    "Source: https://www.udemy.com/course/100-days-of-code/\n"
   ]
  },
  {
   "cell_type": "code",
   "execution_count": 2,
   "id": "cf8f51df",
   "metadata": {},
   "outputs": [
    {
     "ename": "Terminator",
     "evalue": "",
     "output_type": "error",
     "traceback": [
      "\u001b[1;31m---------------------------------------------------------------------------\u001b[0m",
      "\u001b[1;31mTerminator\u001b[0m                                Traceback (most recent call last)",
      "\u001b[1;32m<ipython-input-2-1e350078ba27>\u001b[0m in \u001b[0;36m<module>\u001b[1;34m\u001b[0m\n\u001b[0;32m     10\u001b[0m \u001b[1;33m\u001b[0m\u001b[0m\n\u001b[0;32m     11\u001b[0m \u001b[1;31m# add the shape of the turtle is the image\u001b[0m\u001b[1;33m\u001b[0m\u001b[1;33m\u001b[0m\u001b[1;33m\u001b[0m\u001b[0m\n\u001b[1;32m---> 12\u001b[1;33m \u001b[0mturtle\u001b[0m\u001b[1;33m.\u001b[0m\u001b[0mshape\u001b[0m\u001b[1;33m(\u001b[0m\u001b[0mimage\u001b[0m\u001b[1;33m)\u001b[0m\u001b[1;33m\u001b[0m\u001b[1;33m\u001b[0m\u001b[0m\n\u001b[0m\u001b[0;32m     13\u001b[0m \u001b[1;33m\u001b[0m\u001b[0m\n\u001b[0;32m     14\u001b[0m \u001b[1;31m# def get_mouse_click_coor (x,y):\u001b[0m\u001b[1;33m\u001b[0m\u001b[1;33m\u001b[0m\u001b[1;33m\u001b[0m\u001b[0m\n",
      "\u001b[1;32m~\\anaconda3\\lib\\turtle.py\u001b[0m in \u001b[0;36mshape\u001b[1;34m(name)\u001b[0m\n",
      "\u001b[1;31mTerminator\u001b[0m: "
     ]
    }
   ],
   "source": [
    "import turtle\n",
    "import pandas as pd\n",
    "\n",
    "screen = turtle.Screen()\n",
    "screen.title(\"U.S States Game\")\n",
    "image = \"blank_states_img.gif\"\n",
    "\n",
    "# add the shape of the screen is the image\n",
    "screen.addshape(image)\n",
    "\n",
    "# add the shape of the turtle is the image\n",
    "turtle.shape(image)\n",
    "\n",
    "# def get_mouse_click_coor (x,y):\n",
    "#     print(x,y)\n",
    "# # event listenner that listen to the turtle \n",
    "# turtle.onscreenclick(get_mouse_click_coor)\n",
    "# turtle.mainloop()\n",
    "data = pd.read_csv(\"50_states.csv\")\n",
    "all_states = data.state.to_list()\n",
    "\n",
    "answer_state = screen.textinput(title=\"Guess the state\", prompt=\"What's the another state name? \")\n",
    "\n",
    "if answer_state in all_states:\n",
    "    t = turtle.Turtle()\n",
    "    t.hidetrurtle()\n",
    "    t.penup()\n",
    "    state_date = data[data.state == answer_state] \n",
    "    t.goto(int(state_data.X), int(state_data.Y))\n",
    "    t.write(state_data.state)\n",
    "\n",
    "\n",
    "# exit on click\n"
   ]
  },
  {
   "cell_type": "code",
   "execution_count": null,
   "id": "7ece8cb0",
   "metadata": {},
   "outputs": [],
   "source": []
  }
 ],
 "metadata": {
  "kernelspec": {
   "display_name": "Python 3",
   "language": "python",
   "name": "python3"
  },
  "language_info": {
   "codemirror_mode": {
    "name": "ipython",
    "version": 3
   },
   "file_extension": ".py",
   "mimetype": "text/x-python",
   "name": "python",
   "nbconvert_exporter": "python",
   "pygments_lexer": "ipython3",
   "version": "3.8.8"
  }
 },
 "nbformat": 4,
 "nbformat_minor": 5
}
