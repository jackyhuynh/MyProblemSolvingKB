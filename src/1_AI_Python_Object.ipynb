{
 "cells": [
  {
   "cell_type": "code",
   "execution_count": 5,
   "metadata": {},
   "outputs": [
    {
     "name": "stdout",
     "output_type": "stream",
     "text": [
      "9\n",
      "8\n",
      "7\n",
      "6\n",
      "5\n",
      "4\n",
      "3\n",
      "2\n",
      "1\n"
     ]
    }
   ],
   "source": [
    "class StackNode():\n",
    "    # next can default to \"None\", meaning the end of a Stack\n",
    "    def __init__(self, data, next=None):\n",
    "        self.data = data\n",
    "        self.next = next\n",
    "\n",
    "class Stack():\n",
    "    def __init__(self):\n",
    "        self.size = 0\n",
    "        self.front = None # Nothing in stack to start\n",
    "    \n",
    "    # Add a new element to the \"Stack\"\n",
    "    def push(self, data):\n",
    "        node = StackNode(data)\n",
    "        if self.size == 0:\n",
    "            self.front = node\n",
    "        else:\n",
    "            current = self.front\n",
    "            while current.next!=None:\n",
    "                current = current.next\n",
    "            current.next=node\n",
    "        self.size+=1\n",
    "    \n",
    "    # Remove the last element added to the Stack\n",
    "    def pop(self):\n",
    "        current = self.front\n",
    "        if self.size == 0: # Empty Stack\n",
    "            return None\n",
    "        if self.size == 1: # Only 1 Element in Stack\n",
    "            popped = current\n",
    "            self.front = None\n",
    "        else: # More than 1 element\n",
    "            # Go to the last element added\n",
    "            while current.next.next != None:\n",
    "                current = current.next\n",
    "            popped = current.next\n",
    "            current.next = None\n",
    "        \n",
    "        self.size -=1\n",
    "        return popped.data\n",
    "\n",
    "if __name__=='__main__':\n",
    "    s = Stack()\n",
    "    for i in range(1,10):\n",
    "        s.push(i) # Add numbers to the stack\n",
    "    \n",
    "    while s.size>0:\n",
    "        print(s.pop()) # Remove the number in reverse order\n",
    "    "
   ]
  },
  {
   "cell_type": "code",
   "execution_count": 7,
   "metadata": {},
   "outputs": [
    {
     "name": "stdout",
     "output_type": "stream",
     "text": [
      "Unknown Channel\n",
      "Current Volume: 20\n",
      "Current Channel: 1\n"
     ]
    }
   ],
   "source": [
    "class TV():\n",
    "  def __init__(self):\n",
    "    self.channel = 1\n",
    "    self.volume = 10\n",
    "    self.on = False\n",
    "\n",
    "  def turn_on(self):\n",
    "    self.on = True\n",
    "\n",
    "  def turn_off(self):\n",
    "    self.on = False\n",
    "\n",
    "  def increase_volume(self):\n",
    "    self.volume += 1\n",
    "\n",
    "  def decrease_volume(self):\n",
    "    self.volume -= 1\n",
    "\n",
    "  def channel_up(self):\n",
    "    # Only 120 channels\n",
    "    self.channel = (self.channel + 1) % 120\n",
    "\n",
    "  def channel_down(self):\n",
    "    # Only 120 channels\n",
    "    self.channel = (self.channel - 1) % 120\n",
    "\n",
    "  def set_channel(self, new_channel):\n",
    "    if new_channel > 0 and new_channel <= 120:\n",
    "      self.channel = new_channel\n",
    "    else:\n",
    "      print(\"Unknown Channel\")\n",
    "\n",
    "if __name__ == '__main__':\n",
    "  tv = TV()\n",
    "  for i in range(10):\n",
    "    tv.increase_volume()\n",
    "\n",
    "  tv.set_channel(300)\n",
    "\n",
    "  print(\"Current Volume:\", tv.volume)\n",
    "  print(\"Current Channel:\", tv.channel)"
   ]
  },
  {
   "cell_type": "code",
   "execution_count": 8,
   "metadata": {},
   "outputs": [
    {
     "name": "stdout",
     "output_type": "stream",
     "text": [
      "5\n",
      "25\n",
      "Rectangle: [width=5, height=5, area=25]\n"
     ]
    }
   ],
   "source": [
    "class Rectangle():\n",
    "  def __init__(self, width, height):\n",
    "    self.width = width\n",
    "    self.height = height\n",
    "\n",
    "  def get_area(self):\n",
    "    return self.width * self.height\n",
    "\n",
    "  def __str__(self):\n",
    "    line = \"Rectangle: [width={0}, height={1}, area={2}]\"\n",
    "    return line.format(self.width, self.height, self.get_area())\n",
    "\n",
    "if __name__ == '__main__':\n",
    "  r = Rectangle(5, 5)\n",
    "  print(r.width)\n",
    "  print(r.get_area())\n",
    "  print(r)"
   ]
  },
  {
   "cell_type": "code",
   "execution_count": 10,
   "metadata": {},
   "outputs": [],
   "source": [
    "class Exercise():\n",
    "    def __init__(self, exerlang, title, desc):\n",
    "        self.exerlang = exerlang\n",
    "        self.title = title\n",
    "        self.desc = desc\n",
    "        self.visible = False\n",
    "        self.created = datetime.utcnow()\n",
    "\n",
    "  # Uncommon, but for when you accidentally save in the wrong language\n",
    "    def update_exerlang(self, exerlang):\n",
    "            self.exerlang = exerlang\n",
    "\n",
    "    def update_title(self, title):\n",
    "            self.title = title\n",
    "            \n",
    "    def update_desc(self, desc):\n",
    "        self.desc = desc\n",
    "\n",
    "    def toggle_visibility(self):\n",
    "        self.visible = not self.visible # Flip the value\n",
    "    \n",
    "    def __str__(self):\n",
    "        # Should return something like:\n",
    "        # \"<Exercise (Typing Exercise - Representing TYPOS Exercises)>\"\n",
    "        # \"<Exercise (Document Code - Check Exercise)>\"\n",
    "        return '<Exercise ({0} - {1})>'.format(self.title, self.exertype)\n",
    "\n",
    "class TypingExercise(Exercise):\n",
    "    def __init__(self, exerlang, title, desc, image_data, source_code):\n",
    "        super().__init__(exerlang, title, desc)\n",
    "        self.source_code = source_code\n",
    "        self.image_data = image_data\n",
    "\n",
    "    def update_image_data(self, image):\n",
    "        self.image_data = image\n",
    "\n",
    "    def get_image_data(self):\n",
    "        return self.image_data"
   ]
  },
  {
   "cell_type": "code",
   "execution_count": 11,
   "metadata": {},
   "outputs": [
    {
     "name": "stdout",
     "output_type": "stream",
     "text": [
      "Original list is : [1, 4, 3, 6, 7]\n",
      "Modified list is : [4, 3, 6, 7]\n"
     ]
    }
   ],
   "source": [
    "# Python3 code to demonstrate \n",
    "# removing front element\n",
    "# using pop(0)\n",
    "  \n",
    "# initializing list \n",
    "test_list = [1, 4, 3, 6, 7]\n",
    "  \n",
    "# Printing original list\n",
    "print (\"Original list is : \" + str(test_list))\n",
    "  \n",
    "# using pop(0) to\n",
    "# perform removal\n",
    "test_list.pop(0)\n",
    "      \n",
    "# Printing modified list \n",
    "print (\"Modified list is : \" + str(test_list))"
   ]
  },
  {
   "cell_type": "code",
   "execution_count": 16,
   "metadata": {},
   "outputs": [],
   "source": [
    "class Queue():\n",
    "    def __init__(self):\n",
    "        self.numbers = []\n",
    "        self.size = 0\n",
    "\n",
    "    def enqueue(self, number):\n",
    "        self.size += 1\n",
    "        self.numbers.append(number)\n",
    "\n",
    "    def is_empty(self):\n",
    "        return self.size == 0\n",
    "\n",
    "    def dequeue(self):\n",
    "    # Enter your implementation here\n",
    "        if len(self.numbers)>0:\n",
    "            return self.numbers.pop(0)\n"
   ]
  },
  {
   "cell_type": "code",
   "execution_count": 18,
   "metadata": {},
   "outputs": [],
   "source": [
    "# Do not alter the lines below\n",
    "def test_queue(a_list):\n",
    "    q = Queue()\n",
    "    for item in a_list:\n",
    "        q.enqueue(item)\n",
    "\n",
    "    output = []\n",
    "    while q.is_empty() == False:\n",
    "        output.append(q.dequeue())\n",
    "\n",
    "    return output"
   ]
  },
  {
   "cell_type": "code",
   "execution_count": 19,
   "metadata": {},
   "outputs": [
    {
     "ename": "KeyboardInterrupt",
     "evalue": "",
     "output_type": "error",
     "traceback": [
      "\u001b[1;31m---------------------------------------------------------------------------\u001b[0m",
      "\u001b[1;31mKeyboardInterrupt\u001b[0m                         Traceback (most recent call last)",
      "\u001b[1;32m<ipython-input-19-afd911d7aa3a>\u001b[0m in \u001b[0;36m<module>\u001b[1;34m\u001b[0m\n\u001b[0;32m      1\u001b[0m \u001b[0mtest_list\u001b[0m \u001b[1;33m=\u001b[0m \u001b[1;33m[\u001b[0m\u001b[1;36m1\u001b[0m\u001b[1;33m,\u001b[0m \u001b[1;36m4\u001b[0m\u001b[1;33m,\u001b[0m \u001b[1;36m3\u001b[0m\u001b[1;33m,\u001b[0m \u001b[1;36m6\u001b[0m\u001b[1;33m,\u001b[0m \u001b[1;36m7\u001b[0m\u001b[1;33m]\u001b[0m\u001b[1;33m\u001b[0m\u001b[1;33m\u001b[0m\u001b[0m\n\u001b[1;32m----> 2\u001b[1;33m \u001b[0mtest_queue\u001b[0m\u001b[1;33m(\u001b[0m\u001b[0mtest_list\u001b[0m\u001b[1;33m)\u001b[0m\u001b[1;33m\u001b[0m\u001b[1;33m\u001b[0m\u001b[0m\n\u001b[0m",
      "\u001b[1;32m<ipython-input-18-9fdcf147f1d3>\u001b[0m in \u001b[0;36mtest_queue\u001b[1;34m(a_list)\u001b[0m\n\u001b[0;32m      7\u001b[0m     \u001b[0moutput\u001b[0m \u001b[1;33m=\u001b[0m \u001b[1;33m[\u001b[0m\u001b[1;33m]\u001b[0m\u001b[1;33m\u001b[0m\u001b[1;33m\u001b[0m\u001b[0m\n\u001b[0;32m      8\u001b[0m     \u001b[1;32mwhile\u001b[0m \u001b[0mq\u001b[0m\u001b[1;33m.\u001b[0m\u001b[0mis_empty\u001b[0m\u001b[1;33m(\u001b[0m\u001b[1;33m)\u001b[0m \u001b[1;33m==\u001b[0m \u001b[1;32mFalse\u001b[0m\u001b[1;33m:\u001b[0m\u001b[1;33m\u001b[0m\u001b[1;33m\u001b[0m\u001b[0m\n\u001b[1;32m----> 9\u001b[1;33m         \u001b[0moutput\u001b[0m\u001b[1;33m.\u001b[0m\u001b[0mappend\u001b[0m\u001b[1;33m(\u001b[0m\u001b[0mq\u001b[0m\u001b[1;33m.\u001b[0m\u001b[0mdequeue\u001b[0m\u001b[1;33m(\u001b[0m\u001b[1;33m)\u001b[0m\u001b[1;33m)\u001b[0m\u001b[1;33m\u001b[0m\u001b[1;33m\u001b[0m\u001b[0m\n\u001b[0m\u001b[0;32m     10\u001b[0m \u001b[1;33m\u001b[0m\u001b[0m\n\u001b[0;32m     11\u001b[0m     \u001b[1;32mreturn\u001b[0m \u001b[0moutput\u001b[0m\u001b[1;33m\u001b[0m\u001b[1;33m\u001b[0m\u001b[0m\n",
      "\u001b[1;31mKeyboardInterrupt\u001b[0m: "
     ]
    }
   ],
   "source": [
    "test_list = [1, 4, 3, 6, 7]\n",
    "test_queue(test_list)"
   ]
  }
 ],
 "metadata": {
  "kernelspec": {
   "display_name": "Python 3 (ipykernel)",
   "language": "python",
   "name": "python3"
  },
  "language_info": {
   "codemirror_mode": {
    "name": "ipython",
    "version": 3
   },
   "file_extension": ".py",
   "mimetype": "text/x-python",
   "name": "python",
   "nbconvert_exporter": "python",
   "pygments_lexer": "ipython3",
   "version": "3.8.5"
  }
 },
 "nbformat": 4,
 "nbformat_minor": 4
}
