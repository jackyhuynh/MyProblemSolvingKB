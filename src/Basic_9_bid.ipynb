{
 "cells": [
  {
   "cell_type": "code",
   "execution_count": 10,
   "id": "916bd150",
   "metadata": {},
   "outputs": [
    {
     "name": "stdout",
     "output_type": "stream",
     "text": [
      "\n",
      "                         ___________\n",
      "                         \\         /\n",
      "                          )_______(\n",
      "                          |\"\"\"\"\"\"\"|_.-._,.---------.,_.-._\n",
      "                          |       | | |               | | ''-.\n",
      "                          |       |_| |_             _| |_..-'\n",
      "                          |_______| '-' `'---------'` '-'\n",
      "                          )\"\"\"\"\"\"\"(\n",
      "                         /_________\\\n",
      "                       .-------------.\n",
      "                      /_______________\\\n",
      "\n",
      "WHat is your name? asd\n",
      "What is your bid? 12\n",
      "Are there any other bids? Type 'y' or 'n'.y\n",
      "WHat is your name? 234\n",
      "What is your bid? 342\n",
      "Are there any other bids? Type 'y' or 'n'.n\n"
     ]
    }
   ],
   "source": [
    "from os import system, name\n",
    "\n",
    "# clear function\n",
    "def clear():\n",
    "    # for windows\n",
    "    if name == 'nt':\n",
    "        _ = system('cls')\n",
    "    # for mac and linux(here, os.name is 'posix')\n",
    "    else:\n",
    "        _ = system('clear')\n",
    "\n",
    "        \n",
    "logo = '''\n",
    "                         ___________\n",
    "                         \\         /\n",
    "                          )_______(\n",
    "                          |\"\"\"\"\"\"\"|_.-._,.---------.,_.-._\n",
    "                          |       | | |               | | ''-.\n",
    "                          |       |_| |_             _| |_..-'\n",
    "                          |_______| '-' `'---------'` '-'\n",
    "                          )\"\"\"\"\"\"\"(\n",
    "                         /_________\\\\\n",
    "                       .-------------.\n",
    "                      /_______________\\\\\n",
    "'''\n",
    "\n",
    "print(logo)\n",
    "StopC=False\n",
    "bid={}\n",
    "\n",
    "def find_highest_bidder(bidding_record)\n",
    "    highestBid=0\n",
    "    winner=''\n",
    "    for bidder in bidding_record:\n",
    "        bidAmount= bidding_record[bidder]\n",
    "        if bidAmount > highestBid:\n",
    "            highestBid=bidAmount\n",
    "            winner=bidder\n",
    "    print(f\"The winner is {winner} with the bid of ${highestBid}\")\n",
    "    \n",
    "while not StopC:\n",
    "    name=input(\"WHat is your name?: \")\n",
    "    price=int(input(\"What is your bid?: $\"))\n",
    "    bid[name]=price\n",
    "    continue_=input(\"Are there any other bids? Type 'y' or 'n'.\")\n",
    "    \n",
    "    if continue_=='n':\n",
    "        StopC=True\n",
    "    elif continue_=='y':\n",
    "        clear()\n",
    "    \n"
   ]
  }
 ],
 "metadata": {
  "kernelspec": {
   "display_name": "Python 3 (ipykernel)",
   "language": "python",
   "name": "python3"
  },
  "language_info": {
   "codemirror_mode": {
    "name": "ipython",
    "version": 3
   },
   "file_extension": ".py",
   "mimetype": "text/x-python",
   "name": "python",
   "nbconvert_exporter": "python",
   "pygments_lexer": "ipython3",
   "version": "3.8.5"
  }
 },
 "nbformat": 4,
 "nbformat_minor": 5
}
