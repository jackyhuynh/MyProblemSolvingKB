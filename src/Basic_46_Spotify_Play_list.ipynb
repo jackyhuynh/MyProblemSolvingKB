{
 "cells": [
  {
   "cell_type": "code",
   "execution_count": 13,
   "id": "68fd790c",
   "metadata": {},
   "outputs": [
    {
     "name": "stdout",
     "output_type": "stream",
     "text": [
      "Which year you want to travel to? Type the date in this format YYYY-MM-DD:2011-11-11\n"
     ]
    }
   ],
   "source": [
    "from bs4 import BeautifulSoup\n",
    "import requests\n",
    "import datetime\n",
    "\n",
    "def validate(date_text):\n",
    "    try:\n",
    "        datetime.datetime.strptime(date_text, '%Y-%m-%d')\n",
    "    except ValueError:\n",
    "        raise ValueError(\"Incorrect date format, should be YYYY-MM-DD\")\n",
    "\n",
    "URL = \"https://www.billboard.com/charts/hot-100/\"\n",
    "\n",
    "input_date = input(\"Which year you want to travel to? Type the date in this format YYYY-MM-DD:\")\n",
    "\n",
    "# if validate(input_date):\n",
    "#     pass\n",
    "\n",
    "response = requests.get(URL+input_date)\n",
    "# print(response.text)\n",
    "soup = BeautifulSoup(response.text, 'html.parser')\n"
   ]
  },
  {
   "cell_type": "code",
   "execution_count": 17,
   "id": "a190e52e",
   "metadata": {},
   "outputs": [
    {
     "name": "stdout",
     "output_type": "stream",
     "text": [
      "[]\n"
     ]
    }
   ],
   "source": [
    "song_names_spans = soup.find_all(name=\"span\", class_=\"chart-element__information__song text--truncate color--primary\")\n",
    "song_names = [song.getText() for song in song_names_spans]\n",
    "print(song_names_spans)"
   ]
  },
  {
   "cell_type": "code",
   "execution_count": 22,
   "id": "94951e07",
   "metadata": {},
   "outputs": [],
   "source": [
    "results = soup.find_all(\"h3\",id_=\"title-of-a-story\")"
   ]
  },
  {
   "cell_type": "code",
   "execution_count": 24,
   "id": "684a082c",
   "metadata": {},
   "outputs": [
    {
     "name": "stdout",
     "output_type": "stream",
     "text": [
      "what year would you like to travel to? Type the date in YYYY-MM-DD format:2011-11-11\n",
      "[]\n",
      "0\n"
     ]
    }
   ],
   "source": [
    "import requests\n",
    "from bs4 import BeautifulSoup\n",
    "import lxml\n",
    "\n",
    "selection = input(\"what year would you like to travel to? Type the date in YYYY-MM-DD format:\")\n",
    "\n",
    "url = f\"https://www.billboard.com/charts/hot-100/{selection}\"\n",
    "\n",
    "html_text = requests.get(f\"{url}\").text\n",
    "\n",
    "soup = BeautifulSoup(html_text, \"lxml\")\n",
    "\n",
    "results = soup.find_all(\"li\",class_=\"chart-list__element display--flex\")\n",
    "top_100_songs = []\n",
    "\n",
    "for result in results:\n",
    "    song_name = result.find(\"span\",class_=\"chart-element__information__song text--truncate color--primary\").text\n",
    "    top_100_songs.append(song_name)\n",
    "\n",
    "print(top_100_songs)\n",
    "print(len(top_100_songs))"
   ]
  }
 ],
 "metadata": {
  "kernelspec": {
   "display_name": "Python 3",
   "language": "python",
   "name": "python3"
  },
  "language_info": {
   "codemirror_mode": {
    "name": "ipython",
    "version": 3
   },
   "file_extension": ".py",
   "mimetype": "text/x-python",
   "name": "python",
   "nbconvert_exporter": "python",
   "pygments_lexer": "ipython3",
   "version": "3.8.8"
  }
 },
 "nbformat": 4,
 "nbformat_minor": 5
}
