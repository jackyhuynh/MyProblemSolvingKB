{
 "cells": [
  {
   "cell_type": "code",
   "execution_count": 15,
   "id": "96734373",
   "metadata": {},
   "outputs": [
    {
     "name": "stdout",
     "output_type": "stream",
     "text": [
      "94.97\n"
     ]
    }
   ],
   "source": [
    "\"\"\"\n",
    "This part is for scraping the web information\n",
    "My HTTP header: http://myhttpheader.com/\n",
    "\"\"\"\n",
    "from bs4 import BeautifulSoup\n",
    "import requests\n",
    "import lxml\n",
    "\n",
    "\n",
    "url = \"https://www.amazon.com/dp/B09CTJMLQP/ref=va_live_carousel?pf_rd_r=RSRQ36WA0VYACY47JYB6&pf_rd_p=422c135c-949e-47f3-b5bb-189764debfc5&pf_rd_m=ATVPDKIKX0DER&pf_rd_t=HighVelocityEvent&pf_rd_i=epicdeals_1_desktop&pf_rd_s=slot-4&linkCode=ilv&tag=tiffanyalliso-20&ascsubtag=Todays_Deals_211211111924&asc_contentid=amzn1.amazonlive.broadcast.5d7614f3-3746-4c86-b2eb-1e8403477ccc&pd_rd_i=B09CTJMLQP&th=1&psc=1\"\n",
    "header = {\n",
    "    \"User-Agent\" : \"Mozilla/5.0 (Windows NT 10.0; Win64; x64) AppleWebKit/537.36 (KHTML, like Gecko) Chrome/96.0.4664.93 Safari/537.36\",\n",
    "    \"Accept-Language\" : \"en-US,en;q=0.9,vi;q=0.8\"\n",
    "}\n",
    "\n",
    "\n",
    "response = requests.get(url, headers=header) \n",
    "# print(response)\n",
    "soup = BeautifulSoup(response.content, \"lxml\")\n",
    "# print(soup)\n",
    "\n",
    "price = float(soup.find(name=\"span\", class_=\"a-offscreen\").getText().split('$')[1])\n",
    "# print(price)\n",
    "\n",
    "title = soup.find(id='productTitle').getText().strip()\n",
    "# print(title)"
   ]
  },
  {
   "cell_type": "code",
   "execution_count": 16,
   "id": "f1eaaec6",
   "metadata": {},
   "outputs": [
    {
     "name": "stdout",
     "output_type": "stream",
     "text": [
      "FANTTIK T8 APEX Jump Starter Standard Package, 2000 Amp Portable Jump Starter for Up to 8.5L Gas and 6L Diesel Engines, Digital Screen, 65W Fast Charging, 12V Car Battery Booster\n"
     ]
    }
   ],
   "source": [
    "title = soup.find(id='productTitle').getText().strip()\n",
    "print(title)"
   ]
  },
  {
   "cell_type": "code",
   "execution_count": 19,
   "id": "cbecbe2b",
   "metadata": {},
   "outputs": [],
   "source": [
    "\"\"\"\n",
    "This part is for sending email\n",
    "\"\"\"\n",
    "import smtplib\n",
    "\n",
    "BUY_PRICE = 100.00\n",
    "MY_EMAIL = \"YOUR_OWN_EMAIL\"\n",
    "MY_PASSWORD = 'YOUR_PASSWORD'\n",
    "\n",
    "if price < BUY_PRICE:\n",
    "    message = f\"{title} is now {price}\"\n",
    "    \n",
    "    with smtplib.SMTP(\"YOUR_SMTP_ADDRESS\", 587) as connection:\n",
    "        connection.starttls()\n",
    "        connection.login(user=MY_EMAIL, password=MY_PASSWORD)\n",
    "        connection.sendmail(\n",
    "            from_addr=MY_EMAIL,\n",
    "            to_addrs='DESTINATION_EMAIL_ADDRESS',\n",
    "            msg=f'Subject: Price Tracker\\n\\n{message}'\n",
    "        )"
   ]
  }
 ],
 "metadata": {
  "kernelspec": {
   "display_name": "Python 3",
   "language": "python",
   "name": "python3"
  },
  "language_info": {
   "codemirror_mode": {
    "name": "ipython",
    "version": 3
   },
   "file_extension": ".py",
   "mimetype": "text/x-python",
   "name": "python",
   "nbconvert_exporter": "python",
   "pygments_lexer": "ipython3",
   "version": "3.8.8"
  }
 },
 "nbformat": 4,
 "nbformat_minor": 5
}
