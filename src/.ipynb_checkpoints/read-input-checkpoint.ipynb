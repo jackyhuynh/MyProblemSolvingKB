{
 "cells": [
  {
   "cell_type": "code",
   "execution_count": null,
   "id": "75481743",
   "metadata": {},
   "outputs": [],
   "source": [
    "# Python read"
   ]
  }
 ],
 "metadata": {
  "kernelspec": {
   "display_name": "Python 3",
   "language": "python",
   "name": "python3"
  }
 },
 "nbformat": 4,
 "nbformat_minor": 5
}
