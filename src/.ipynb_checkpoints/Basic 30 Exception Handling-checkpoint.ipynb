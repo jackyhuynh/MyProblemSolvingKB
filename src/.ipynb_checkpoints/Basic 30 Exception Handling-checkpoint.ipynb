{
 "cells": [
  {
   "cell_type": "markdown",
   "id": "ad7719c4",
   "metadata": {},
   "source": [
    "## File not found"
   ]
  },
  {
   "cell_type": "code",
   "execution_count": null,
   "id": "7aec437e",
   "metadata": {},
   "outputs": [],
   "source": [
    "try:\n",
    "    file = open(\"a_file.txt\")\n",
    "# The except key word will ignore all error in try block\n",
    "# Focus on catch a specific situation\n",
    "except FileNotFoundError:\n",
    "    open(\"a_file.txt\", \"w\")\n",
    "except KeyError as error_message:\n",
    "    print(f\"The key {error_message} does not exit.\")\n",
    "else:\n",
    "    content = file.read()\n",
    "    print(content)\n",
    "finally:\n",
    "    file.close()\n",
    "    print(\"File was close\")\n"
   ]
  }
 ],
 "metadata": {
  "kernelspec": {
   "display_name": "Python 3",
   "language": "python",
   "name": "python3"
  },
  "language_info": {
   "codemirror_mode": {
    "name": "ipython",
    "version": 3
   },
   "file_extension": ".py",
   "mimetype": "text/x-python",
   "name": "python",
   "nbconvert_exporter": "python",
   "pygments_lexer": "ipython3",
   "version": "3.8.8"
  }
 },
 "nbformat": 4,
 "nbformat_minor": 5
}
