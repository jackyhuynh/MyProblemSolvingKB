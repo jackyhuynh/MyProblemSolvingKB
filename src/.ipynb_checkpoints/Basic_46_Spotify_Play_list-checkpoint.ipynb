{
 "cells": [
  {
   "cell_type": "code",
   "execution_count": 13,
   "id": "a6b2043d",
   "metadata": {},
   "outputs": [
    {
     "name": "stdout",
     "output_type": "stream",
     "text": [
      "Which year you want to travel to? Type the date in this format YYYY-MM-DD:2011-11-11\n"
     ]
    }
   ],
   "source": [
    "from bs4 import BeautifulSoup\n",
    "import requests\n",
    "import datetime\n",
    "\n",
    "def validate(date_text):\n",
    "    try:\n",
    "        datetime.datetime.strptime(date_text, '%Y-%m-%d')\n",
    "    except ValueError:\n",
    "        raise ValueError(\"Incorrect date format, should be YYYY-MM-DD\")\n",
    "\n",
    "URL = \"https://www.billboard.com/charts/hot-100/\"\n",
    "\n",
    "input_date = input(\"Which year you want to travel to? Type the date in this format YYYY-MM-DD:\")\n",
    "\n",
    "# if validate(input_date):\n",
    "#     pass\n",
    "\n",
    "response = requests.get(URL+input_date)\n",
    "# print(response.text)\n",
    "soup = BeautifulSoup(response.text, 'html.parser')\n"
   ]
  },
  {
   "cell_type": "code",
   "execution_count": null,
   "id": "080c8236",
   "metadata": {},
   "outputs": [],
   "source": [
    "song_names_spans = soup.find_all(name=\"span\", class_=\"\")\n",
    "song_names = [song.getText() for song in song_names_spans]"
   ]
  }
 ],
 "metadata": {
  "kernelspec": {
   "display_name": "Python 3",
   "language": "python",
   "name": "python3"
  },
  "language_info": {
   "codemirror_mode": {
    "name": "ipython",
    "version": 3
   },
   "file_extension": ".py",
   "mimetype": "text/x-python",
   "name": "python",
   "nbconvert_exporter": "python",
   "pygments_lexer": "ipython3",
   "version": "3.8.8"
  }
 },
 "nbformat": 4,
 "nbformat_minor": 5
}
