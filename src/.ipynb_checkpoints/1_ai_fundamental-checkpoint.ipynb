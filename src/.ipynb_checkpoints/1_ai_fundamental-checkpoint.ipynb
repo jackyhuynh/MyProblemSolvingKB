{
 "cells": [
  {
   "cell_type": "markdown",
   "metadata": {},
   "source": [
    "# Selection Sort"
   ]
  },
  {
   "cell_type": "code",
   "execution_count": 147,
   "metadata": {},
   "outputs": [],
   "source": [
    "def selection_sort(alist):\n",
    "  for i in range(len(alist)):\n",
    "    currentMin = alist[i]\n",
    "    currentMinIndex = i\n",
    "    \n",
    "    for j in range(i, len(alist) - 1):\n",
    "      if currentMin > alist[j]:\n",
    "        currentMin = alist[j]\n",
    "        \n",
    "        currentMinIndex = j\n",
    "        print(currentMin,\", \",currentMinIndex)\n",
    "        \n",
    "    if currentMinIndex != 1:\n",
    "      alist[currentMinIndex] = alist[i]\n",
    "      alist[i] = currentMin"
   ]
  },
  {
   "cell_type": "code",
   "execution_count": 148,
   "metadata": {},
   "outputs": [],
   "source": [
    "L=[6,4,1,9,7,3,2,8]"
   ]
  },
  {
   "cell_type": "code",
   "execution_count": 149,
   "metadata": {},
   "outputs": [
    {
     "name": "stdout",
     "output_type": "stream",
     "text": [
      "4 ,  1\n",
      "1 ,  2\n",
      "3 ,  5\n",
      "2 ,  6\n",
      "3 ,  5\n",
      "7 ,  4\n",
      "6 ,  5\n",
      "4 ,  6\n",
      "6 ,  5\n"
     ]
    }
   ],
   "source": [
    "selection_sort(L)"
   ]
  },
  {
   "cell_type": "code",
   "execution_count": 157,
   "metadata": {},
   "outputs": [
    {
     "name": "stdout",
     "output_type": "stream",
     "text": [
      "New Guess 20.5\n",
      "New Guess 11.225609756097562\n",
      "New Guess 7.394445290867901\n",
      "New Guess 6.40195561907565\n",
      "New Guess 6.325023209103984\n",
      "New Guess 6.324555337642616\n",
      "The approximate square root of 40 is 6.324555337642616\n"
     ]
    }
   ],
   "source": [
    "N = 40\n",
    "epsilon = 0.00001 # Level of Precision\n",
    "guess = 1 # An initial, but wrong guess\n",
    "\n",
    "while guess <= N:\n",
    "  if (abs(guess**2 - N)) <= epsilon: # if guess is 'close enough' to N\n",
    "    break # Exit the loop\n",
    "  else:\n",
    "    guess = (1/2) * (guess + (N / guess))\n",
    "    print(\"New Guess\", guess)\n",
    "\n",
    "print(\"The approximate square root of\", N, \"is\", guess)"
   ]
  }
 ],
 "metadata": {
  "kernelspec": {
   "display_name": "Python 3",
   "language": "python",
   "name": "python3"
  },
  "language_info": {
   "codemirror_mode": {
    "name": "ipython",
    "version": 3
   },
   "file_extension": ".py",
   "mimetype": "text/x-python",
   "name": "python",
   "nbconvert_exporter": "python",
   "pygments_lexer": "ipython3",
   "version": "3.8.8"
  }
 },
 "nbformat": 4,
 "nbformat_minor": 4
}
