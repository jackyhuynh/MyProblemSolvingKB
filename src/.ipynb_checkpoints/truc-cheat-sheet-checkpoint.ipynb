{
 "cells": [
  {
   "cell_type": "markdown",
   "id": "1371890d",
   "metadata": {},
   "source": [
    "# Truc Huynh Cheat Sheet"
   ]
  },
  {
   "cell_type": "markdown",
   "id": "de76f716",
   "metadata": {},
   "source": [
    "### round (number,index)\n",
    "The round function round the number to different float"
   ]
  },
  {
   "cell_type": "code",
   "execution_count": 2,
   "id": "64391dd0",
   "metadata": {},
   "outputs": [
    {
     "data": {
      "text/plain": [
       "34.6"
      ]
     },
     "execution_count": 2,
     "metadata": {},
     "output_type": "execute_result"
    }
   ],
   "source": [
    "round(34.5646,1)"
   ]
  },
  {
   "cell_type": "markdown",
   "id": "508d9e3a",
   "metadata": {},
   "source": [
    "### string.isdigit()\n",
    "Check if a string is a integer or not. Only work with integer, not float"
   ]
  },
  {
   "cell_type": "code",
   "execution_count": 7,
   "id": "22cfd7ae",
   "metadata": {},
   "outputs": [
    {
     "name": "stdout",
     "output_type": "stream",
     "text": [
      "11 is True\n",
      "11 is an integer\n",
      "string is False\n",
      "string is not an integer\n",
      "11.2 is False\n",
      "11.2 is not an integer\n"
     ]
    }
   ],
   "source": [
    "isdigit_list=['11','string','11.2']\n",
    "for i in isdigit_list:\n",
    "    print(f\"{i} is an integer\" if i.isdigit() else f\"{i} is not an integer\")"
   ]
  },
  {
   "cell_type": "markdown",
   "id": "4fdb5557",
   "metadata": {},
   "source": [
    "### math.floor(3.46)\n",
    "round a number to the base level"
   ]
  },
  {
   "cell_type": "code",
   "execution_count": 1,
   "id": "a5fd5e9f",
   "metadata": {},
   "outputs": [
    {
     "data": {
      "text/plain": [
       "3"
      ]
     },
     "execution_count": 1,
     "metadata": {},
     "output_type": "execute_result"
    }
   ],
   "source": [
    "import math\n",
    "math.floor(3.46)"
   ]
  }
 ],
 "metadata": {
  "kernelspec": {
   "display_name": "Python 3",
   "language": "python",
   "name": "python3"
  },
  "language_info": {
   "codemirror_mode": {
    "name": "ipython",
    "version": 3
   },
   "file_extension": ".py",
   "mimetype": "text/x-python",
   "name": "python",
   "nbconvert_exporter": "python",
   "pygments_lexer": "ipython3",
   "version": "3.8.8"
  }
 },
 "nbformat": 4,
 "nbformat_minor": 5
}
