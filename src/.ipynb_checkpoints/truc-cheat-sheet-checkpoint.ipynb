{
 "cells": [
  {
   "cell_type": "markdown",
   "id": "1371890d",
   "metadata": {},
   "source": [
    "# Truc Huynh Cheat Sheet"
   ]
  },
  {
   "cell_type": "markdown",
   "id": "de76f716",
   "metadata": {},
   "source": [
    "### round the decimal\n",
    "The round function round the number to different float"
   ]
  },
  {
   "cell_type": "code",
   "execution_count": 2,
   "id": "64391dd0",
   "metadata": {},
   "outputs": [
    {
     "data": {
      "text/plain": [
       "34.6"
      ]
     },
     "execution_count": 2,
     "metadata": {},
     "output_type": "execute_result"
    }
   ],
   "source": [
    "round(34.5646,1)"
   ]
  },
  {
   "cell_type": "markdown",
   "id": "508d9e3a",
   "metadata": {},
   "source": [
    "### check if a string is digit\n",
    "Check if a string is a integer or not. Only work with integer, not float"
   ]
  },
  {
   "cell_type": "code",
   "execution_count": 7,
   "id": "22cfd7ae",
   "metadata": {},
   "outputs": [
    {
     "name": "stdout",
     "output_type": "stream",
     "text": [
      "11 is True\n",
      "11 is an integer\n",
      "string is False\n",
      "string is not an integer\n",
      "11.2 is False\n",
      "11.2 is not an integer\n"
     ]
    }
   ],
   "source": [
    "isdigit_list=['11','string','11.2']\n",
    "for i in isdigit_list:\n",
    "    print(f\"{i} is an integer\" if i.isdigit() else f\"{i} is not an integer\")"
   ]
  },
  {
   "cell_type": "code",
   "execution_count": 22,
   "id": "8a70033b",
   "metadata": {},
   "outputs": [
    {
     "data": {
      "text/plain": [
       "True"
      ]
     },
     "execution_count": 22,
     "metadata": {},
     "output_type": "execute_result"
    }
   ],
   "source": [
    "'1'.isnumeric()"
   ]
  },
  {
   "cell_type": "markdown",
   "id": "dcc331b7",
   "metadata": {},
   "source": [
    "### check a string is float"
   ]
  },
  {
   "cell_type": "code",
   "execution_count": 19,
   "id": "b3709e24",
   "metadata": {},
   "outputs": [],
   "source": [
    "def test_decimal(s):\n",
    "    try:\n",
    "        float(s)\n",
    "        return True\n",
    "    except ValueError:\n",
    "        return False"
   ]
  },
  {
   "cell_type": "code",
   "execution_count": 20,
   "id": "5fb1007b",
   "metadata": {},
   "outputs": [
    {
     "data": {
      "text/plain": [
       "True"
      ]
     },
     "execution_count": 20,
     "metadata": {},
     "output_type": "execute_result"
    }
   ],
   "source": [
    "s='3.4'\n",
    "test_decimal(s)"
   ]
  },
  {
   "cell_type": "code",
   "execution_count": 21,
   "id": "aa4ce30b",
   "metadata": {},
   "outputs": [
    {
     "data": {
      "text/plain": [
       "False"
      ]
     },
     "execution_count": 21,
     "metadata": {},
     "output_type": "execute_result"
    }
   ],
   "source": [
    "s='3.sdfs4'\n",
    "test_decimal(s)"
   ]
  },
  {
   "cell_type": "markdown",
   "id": "91d9c429",
   "metadata": {},
   "source": [
    "### math.floor(3.46)\n",
    "round a number(float, double) to the base level"
   ]
  },
  {
   "cell_type": "code",
   "execution_count": 2,
   "id": "781a5a27",
   "metadata": {
    "scrolled": true
   },
   "outputs": [
    {
     "data": {
      "text/plain": [
       "3"
      ]
     },
     "execution_count": 2,
     "metadata": {},
     "output_type": "execute_result"
    }
   ],
   "source": [
    "import math\n",
    "math.floor(3.46)"
   ]
  },
  {
   "cell_type": "markdown",
   "id": "96113f56",
   "metadata": {},
   "source": [
    "### input\n",
    "Prints a string into the console,\n",
    "and asks the user for a string input."
   ]
  },
  {
   "cell_type": "code",
   "execution_count": 4,
   "id": "a50644f0",
   "metadata": {},
   "outputs": [
    {
     "name": "stdout",
     "output_type": "stream",
     "text": [
      "What's your name: Truc Huynh\n"
     ]
    },
    {
     "data": {
      "text/plain": [
       "'Truc Huynh'"
      ]
     },
     "execution_count": 4,
     "metadata": {},
     "output_type": "execute_result"
    }
   ],
   "source": [
    "input(\"What's your name: \")"
   ]
  },
  {
   "cell_type": "markdown",
   "id": "ac456601",
   "metadata": {},
   "source": [
    "### string concatenation\n",
    "You can add strings to string to create\n",
    "a new string. This is called concatenation.\n",
    "It results in a new string."
   ]
  },
  {
   "cell_type": "code",
   "execution_count": 5,
   "id": "881aeac1",
   "metadata": {},
   "outputs": [
    {
     "data": {
      "text/plain": [
       "'HelloAngela'"
      ]
     },
     "execution_count": 5,
     "metadata": {},
     "output_type": "execute_result"
    }
   ],
   "source": [
    "\"Hello\" + \"Angela\"\n",
    "#becomes \"HelloAngela\""
   ]
  },
  {
   "cell_type": "markdown",
   "id": "d31f2c99",
   "metadata": {},
   "source": [
    "### escaping a string\n",
    "Because the double quote is special, it\n",
    "denotes a string, if you want to use it in\n",
    "a string, you need to escape it with a \\"
   ]
  },
  {
   "cell_type": "code",
   "execution_count": 7,
   "id": "c59d173e",
   "metadata": {},
   "outputs": [
    {
     "name": "stdout",
     "output_type": "stream",
     "text": [
      "She said: \"Hi\"\n"
     ]
    }
   ],
   "source": [
    "speech = \"She said: \\\"Hi\\\"\"\n",
    "print(speech)\n",
    "#prints: She said: \"Hi\""
   ]
  },
  {
   "cell_type": "markdown",
   "id": "3d398a58",
   "metadata": {},
   "source": [
    "### converting data types\n",
    "You can convert a variable from 1 data\n",
    "type to another.\n",
    "- Converting to float: float()\n",
    "- Converting to int: int()\n",
    "- Converting to string: str()"
   ]
  },
  {
   "cell_type": "code",
   "execution_count": 8,
   "id": "d14b41b8",
   "metadata": {},
   "outputs": [
    {
     "name": "stdout",
     "output_type": "stream",
     "text": [
      "354.0\n"
     ]
    }
   ],
   "source": [
    "n = 354\n",
    "new_n = float(n)\n",
    "print(new_n) #result 354.0"
   ]
  },
  {
   "cell_type": "markdown",
   "id": "cffee1a0",
   "metadata": {},
   "source": [
    "### checking data types\n",
    "You can use the type() function\n",
    "to check what is the data type of a\n",
    "particular variable.\n"
   ]
  },
  {
   "cell_type": "code",
   "execution_count": 23,
   "id": "9afa4dbe",
   "metadata": {},
   "outputs": [
    {
     "data": {
      "text/plain": [
       "float"
      ]
     },
     "execution_count": 23,
     "metadata": {},
     "output_type": "execute_result"
    }
   ],
   "source": [
    "n = 3.14159\n",
    "type(n)"
   ]
  },
  {
   "cell_type": "markdown",
   "id": "545647aa",
   "metadata": {},
   "source": [
    "### arithmetic operators\n",
    "You can do mathematical calculations with\n",
    "Python as long as you know the right\n",
    "operators."
   ]
  },
  {
   "cell_type": "code",
   "execution_count": 24,
   "id": "afcdaf95",
   "metadata": {},
   "outputs": [
    {
     "data": {
      "text/plain": [
       "25"
      ]
     },
     "execution_count": 24,
     "metadata": {},
     "output_type": "execute_result"
    }
   ],
   "source": [
    "3+2 #Add\n",
    "4-1 #Subtract\n",
    "2*3 #Multiply\n",
    "5/2 #Divide\n",
    "5**2 #Exponent"
   ]
  },
  {
   "cell_type": "markdown",
   "id": "a1f963ec",
   "metadata": {},
   "source": [
    "### % operator\n",
    "- Often you'll want to know what is the remainder after a division.\n",
    "- e.g. 4 ÷ 2 = 2 with no remainder but 5 ÷ 2 = 2 with 1 remainder\n",
    "- The modulo does not give you the result of the division, just the remainder. It can be really helpful in certain situations, e.g. figuring out if a number is odd or even."
   ]
  },
  {
   "cell_type": "markdown",
   "id": "99caa50d",
   "metadata": {},
   "source": [
    "# ERROR"
   ]
  },
  {
   "cell_type": "markdown",
   "id": "3f629c63",
   "metadata": {},
   "source": [
    "### zero division error\n",
    "This happens when you try to divide by zero,\n",
    "This is something that is mathematically\n",
    "impossible so Python will also complain."
   ]
  },
  {
   "cell_type": "code",
   "execution_count": 26,
   "id": "3defe3fc",
   "metadata": {},
   "outputs": [
    {
     "ename": "ZeroDivisionError",
     "evalue": "integer division or modulo by zero",
     "output_type": "error",
     "traceback": [
      "\u001b[1;31m---------------------------------------------------------------------------\u001b[0m",
      "\u001b[1;31mZeroDivisionError\u001b[0m                         Traceback (most recent call last)",
      "\u001b[1;32m<ipython-input-26-77226c89811e>\u001b[0m in \u001b[0;36m<module>\u001b[1;34m\u001b[0m\n\u001b[1;32m----> 1\u001b[1;33m \u001b[1;36m5\u001b[0m \u001b[1;33m%\u001b[0m \u001b[1;36m0\u001b[0m\u001b[1;33m\u001b[0m\u001b[1;33m\u001b[0m\u001b[0m\n\u001b[0m",
      "\u001b[1;31mZeroDivisionError\u001b[0m: integer division or modulo by zero"
     ]
    }
   ],
   "source": [
    "5 % 0"
   ]
  },
  {
   "cell_type": "markdown",
   "id": "55790416",
   "metadata": {},
   "source": [
    "### syntax error\n",
    "Syntax errors happen when your code\n",
    "does not make any sense to the computer.\n",
    "This can happen because you've misspelt\n",
    "something or there's too many brackets or\n",
    "a missing comma."
   ]
  },
  {
   "cell_type": "code",
   "execution_count": 28,
   "id": "f73afa23",
   "metadata": {},
   "outputs": [
    {
     "ename": "SyntaxError",
     "evalue": "unmatched ')' (<ipython-input-28-ddd4b8f2de98>, line 1)",
     "output_type": "error",
     "traceback": [
      "\u001b[1;36m  File \u001b[1;32m\"<ipython-input-28-ddd4b8f2de98>\"\u001b[1;36m, line \u001b[1;32m1\u001b[0m\n\u001b[1;33m    print(12+4))\u001b[0m\n\u001b[1;37m               ^\u001b[0m\n\u001b[1;31mSyntaxError\u001b[0m\u001b[1;31m:\u001b[0m unmatched ')'\n"
     ]
    }
   ],
   "source": [
    "print(12+4))"
   ]
  },
  {
   "cell_type": "markdown",
   "id": "11d88610",
   "metadata": {},
   "source": [
    "### name error \n",
    "This happens when there is a variable\n",
    "with a name that the computer\n",
    "does not recognise. It's usually because\n",
    "you've misspelt the name of a variable\n",
    "you created earlier.\n",
    "Note: variable names are case sensitive!"
   ]
  },
  {
   "cell_type": "code",
   "execution_count": 29,
   "id": "b6ef36f4",
   "metadata": {},
   "outputs": [
    {
     "ename": "NameError",
     "evalue": "name 'my_Number' is not defined",
     "output_type": "error",
     "traceback": [
      "\u001b[1;31m---------------------------------------------------------------------------\u001b[0m",
      "\u001b[1;31mNameError\u001b[0m                                 Traceback (most recent call last)",
      "\u001b[1;32m<ipython-input-29-1e9adc759809>\u001b[0m in \u001b[0;36m<module>\u001b[1;34m\u001b[0m\n\u001b[0;32m      1\u001b[0m \u001b[0mmy_number\u001b[0m \u001b[1;33m=\u001b[0m \u001b[1;36m4\u001b[0m\u001b[1;33m\u001b[0m\u001b[1;33m\u001b[0m\u001b[0m\n\u001b[1;32m----> 2\u001b[1;33m \u001b[0mmy_Number\u001b[0m \u001b[1;33m+\u001b[0m \u001b[1;36m2\u001b[0m\u001b[1;33m\u001b[0m\u001b[1;33m\u001b[0m\u001b[0m\n\u001b[0m",
      "\u001b[1;31mNameError\u001b[0m: name 'my_Number' is not defined"
     ]
    }
   ],
   "source": [
    "my_number = 4\n",
    "my_Number + 2"
   ]
  },
  {
   "cell_type": "markdown",
   "id": "7bfd60a2",
   "metadata": {},
   "source": [
    "# Function\n",
    "Function allow proframmer group a set of instruction together (and reuse it). The contents of the function must be indented to signal that it's inside."
   ]
  },
  {
   "cell_type": "code",
   "execution_count": 31,
   "id": "34706868",
   "metadata": {},
   "outputs": [],
   "source": [
    "def my_function():\n",
    "    print(\"Hello\")\n",
    "    name = input(\"Your name:\")\n",
    "    print(\"Hello\")"
   ]
  },
  {
   "cell_type": "code",
   "execution_count": 32,
   "id": "f5d192a8",
   "metadata": {},
   "outputs": [
    {
     "name": "stdout",
     "output_type": "stream",
     "text": [
      "Hello\n",
      "Your name:Truc Huynh\n",
      "Hello\n"
     ]
    }
   ],
   "source": [
    "# Calling Fuction:\n",
    "my_function()"
   ]
  },
  {
   "cell_type": "code",
   "execution_count": 34,
   "id": "2bc61381",
   "metadata": {},
   "outputs": [
    {
     "name": "stdout",
     "output_type": "stream",
     "text": [
      "5\n"
     ]
    }
   ],
   "source": [
    "# Functions with Inputs\n",
    "def add(n1, n2):\n",
    "    print(n1 + n2)\n",
    "add(2, 3)"
   ]
  },
  {
   "cell_type": "code",
   "execution_count": 35,
   "id": "266a344a",
   "metadata": {},
   "outputs": [],
   "source": [
    "# Function with output\n",
    "def add(n1, n2):\n",
    "    return n1 + n2\n",
    "result = add(2, 3)"
   ]
  },
  {
   "cell_type": "markdown",
   "id": "b8a9f807",
   "metadata": {},
   "source": [
    "### Variable Scope\n",
    "Variables created inside a function are\n",
    "destroyed once the function has executed.\n",
    "The location (line of code) that you use\n",
    "a variable will determine its value.\n",
    "Here n is 2 but inside my_function() n is 3.\n",
    "So printing n inside and outside the function\n",
    "will determine its value."
   ]
  },
  {
   "cell_type": "code",
   "execution_count": 38,
   "id": "9cdc1aaa",
   "metadata": {},
   "outputs": [
    {
     "name": "stdout",
     "output_type": "stream",
     "text": [
      "2\n",
      "3\n"
     ]
    }
   ],
   "source": [
    "n = 2\n",
    "\n",
    "\n",
    "def my_function():\n",
    "    n = 3\n",
    "    print(n)\n",
    "    \n",
    "    \n",
    "print(n) #Prints 2\n",
    "my_function() #Prints 3"
   ]
  },
  {
   "cell_type": "markdown",
   "id": "dbe20c10",
   "metadata": {},
   "source": [
    "### Keyword Arguments\n",
    "- When calling a function, you can provide a keyword argument or simply just the value.\n",
    "- Using a keyword argument means that you don't have to follow any order when providing the inputs.\n"
   ]
  },
  {
   "cell_type": "code",
   "execution_count": 39,
   "id": "a6e904a8",
   "metadata": {},
   "outputs": [],
   "source": [
    "def divide(n1, n2):\n",
    "    result = n1 / n2\n",
    "#Option 1:\n",
    "divide(10, 5)\n",
    "#Option 2:\n",
    "divide(n2=5, n1=10)"
   ]
  },
  {
   "cell_type": "markdown",
   "id": "b94c3524",
   "metadata": {},
   "source": [
    "# if condition\n",
    "### if\n",
    "This is the basic syntax to test if a condition is true. If so, the indented code will be executed, if not it will be skipped.\n",
    "### else\n",
    "This is a way to specify some code that will be executed if a condition is false.\n",
    "### elif\n",
    "In addition to the initial if statement condition, you can add extra conditions to test if the first condition is false.Once an elif condition is true, the rest of the elif conditions are no longer checked and are skipped.\n"
   ]
  },
  {
   "cell_type": "code",
   "execution_count": 40,
   "id": "ea8633a2",
   "metadata": {},
   "outputs": [
    {
     "name": "stdout",
     "output_type": "stream",
     "text": [
      "bring sunglasses\n"
     ]
    }
   ],
   "source": [
    "weather = \"sunny\"\n",
    "if weather == \"rain\":\n",
    "    print(\"bring umbrella\")\n",
    "elif weather == \"sunny\":\n",
    "    print(\"bring sunglasses\")\n",
    "elif weather == \"snow\":\n",
    "    print(\"bring gloves\")\n"
   ]
  },
  {
   "cell_type": "markdown",
   "id": "121c3283",
   "metadata": {},
   "source": [
    "### and\n",
    "This expects both conditions either side of the and to be true.\n",
    "### or\n",
    "This expects either of the conditions either side of the or to be true. Basically, both conditions cannot be false.\n",
    "### not\n",
    "This will flip the orginal result of the condition\n",
    "### comparison operators\n",
    "These mathematical comparison operators allow you to refine your conditional checks.\n",
    "```\n",
    "> Greater than\n",
    "< Lesser than\n",
    ">= Greater than or equal to\n",
    "<= Lesser than or equal to\n",
    "== Is equal to\n",
    "!= Is not equal to\n",
    "```\n"
   ]
  },
  {
   "cell_type": "markdown",
   "id": "890eb191",
   "metadata": {},
   "source": [
    "# Loop"
   ]
  },
  {
   "cell_type": "markdown",
   "id": "0364b027",
   "metadata": {},
   "source": [
    "### while\n",
    "keep repeating until the condition become false "
   ]
  },
  {
   "cell_type": "code",
   "execution_count": 45,
   "id": "7670fb35",
   "metadata": {},
   "outputs": [
    {
     "name": "stdout",
     "output_type": "stream",
     "text": [
      "10\n"
     ]
    }
   ],
   "source": [
    "n = 1\n",
    "while n < 10:\n",
    "    n += 1\n",
    "    \n",
    "print(n)"
   ]
  },
  {
   "cell_type": "markdown",
   "id": "55dd7134",
   "metadata": {},
   "source": [
    "### for\n",
    "For loops give you more control than while loops. You can loop through anything\n",
    "that is iterable. e.g. a range, a list, a dictionary or tuple.\n"
   ]
  },
  {
   "cell_type": "code",
   "execution_count": 46,
   "id": "a5c98bb2",
   "metadata": {},
   "outputs": [
    {
     "name": "stdout",
     "output_type": "stream",
     "text": [
      "apple\n",
      "banana\n",
      "orange\n"
     ]
    }
   ],
   "source": [
    "all_fruits = [\"apple\",\n",
    "\"banana\", \"orange\"]\n",
    "for fruit in all_fruits:\n",
    "    print(fruit)"
   ]
  },
  {
   "cell_type": "markdown",
   "id": "355660f8",
   "metadata": {},
   "source": [
    "### '_' in a For Loop\n",
    "If the value your for loop is iterating through, e.g. the number in the range, or the item in the list is not needed, you can replace it with an underscore."
   ]
  },
  {
   "cell_type": "markdown",
   "id": "f4c6bd1c",
   "metadata": {},
   "source": [
    "### break\n",
    "This keyword allows you to break free of the loop. You can use it in a for or while loop."
   ]
  },
  {
   "cell_type": "code",
   "execution_count": 47,
   "id": "fdd60e4c",
   "metadata": {},
   "outputs": [
    {
     "name": "stdout",
     "output_type": "stream",
     "text": [
      "34\n",
      "67\n",
      "99\n",
      "Invalid\n"
     ]
    }
   ],
   "source": [
    "scores = [34, 67, 99, 105]\n",
    "for s in scores:\n",
    "    if s > 100:\n",
    "        print(\"Invalid\")\n",
    "        break\n",
    "    print(s)\n"
   ]
  },
  {
   "cell_type": "markdown",
   "id": "84697f2d",
   "metadata": {},
   "source": [
    "### continue\n",
    "Skip this iteration on the loop and go to the next. The loop will still continue but start from the top"
   ]
  },
  {
   "cell_type": "markdown",
   "id": "3cb4d3b2",
   "metadata": {},
   "source": [
    "# list\n",
    "### adding lists together\n",
    "You can extend a list with another list by using the extend keyword, or the + symbol.\n",
    "```\n",
    "list1 = [1, 2, 3]\n",
    "list2 = [9, 8, 7]\n",
    "new_list = list1 + list2\n",
    "list1 += list2\n",
    "```"
   ]
  },
  {
   "cell_type": "markdown",
   "id": "b9075044",
   "metadata": {},
   "source": [
    "### list slicing\n",
    "Using the list index and the colon symbol you can slice up a list to get only the portion you want. Start is included, but end is not."
   ]
  },
  {
   "cell_type": "code",
   "execution_count": null,
   "id": "62f8da65",
   "metadata": {},
   "outputs": [],
   "source": [
    "# list[start:end]\n",
    "letters = [\"a\",\"b\",\"c\",\"d\"]\n",
    "letters[1:3]\n",
    "# Result: [\"b\", \"c\"]"
   ]
  },
  {
   "cell_type": "markdown",
   "id": "316a8c0b",
   "metadata": {},
   "source": [
    "### range\n",
    "Often you will want to generate a range of numbers. You can specify the start, end and step. Start is included, but end is excluded: start >= range < end"
   ]
  },
  {
   "cell_type": "code",
   "execution_count": null,
   "id": "dc7ead50",
   "metadata": {},
   "outputs": [],
   "source": [
    "# range(start, end, step)\n",
    "for i in range(6, 0, -2):\n",
    "    print(i)\n",
    "# result: 6, 4, 2\n",
    "# 0 is not included."
   ]
  },
  {
   "cell_type": "markdown",
   "id": "c6a2ff7d",
   "metadata": {},
   "source": [
    "### randomisation\n",
    "- The random functions come from the random module which needs to be imported.\n",
    "- In this case, the start and end are both included start <= randint <= end"
   ]
  },
  {
   "cell_type": "code",
   "execution_count": null,
   "id": "1d4b626d",
   "metadata": {},
   "outputs": [],
   "source": []
  }
 ],
 "metadata": {
  "kernelspec": {
   "display_name": "Python 3",
   "language": "python",
   "name": "python3"
  },
  "language_info": {
   "codemirror_mode": {
    "name": "ipython",
    "version": 3
   },
   "file_extension": ".py",
   "mimetype": "text/x-python",
   "name": "python",
   "nbconvert_exporter": "python",
   "pygments_lexer": "ipython3",
   "version": "3.8.8"
  }
 },
 "nbformat": 4,
 "nbformat_minor": 5
}
