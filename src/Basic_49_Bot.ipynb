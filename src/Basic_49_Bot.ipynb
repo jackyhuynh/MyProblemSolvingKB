{
 "cells": [
  {
   "cell_type": "code",
   "execution_count": 1,
   "id": "fc987f19",
   "metadata": {},
   "outputs": [
    {
     "ename": "ModuleNotFoundError",
     "evalue": "No module named 'selenium'",
     "output_type": "error",
     "traceback": [
      "\u001b[1;31m---------------------------------------------------------------------------\u001b[0m",
      "\u001b[1;31mModuleNotFoundError\u001b[0m                       Traceback (most recent call last)",
      "\u001b[1;32m<ipython-input-1-5e8f0f65fc12>\u001b[0m in \u001b[0;36m<module>\u001b[1;34m\u001b[0m\n\u001b[1;32m----> 1\u001b[1;33m \u001b[1;32mfrom\u001b[0m \u001b[0mselenium\u001b[0m \u001b[1;32mimport\u001b[0m \u001b[0mwebdriver\u001b[0m\u001b[1;33m\u001b[0m\u001b[1;33m\u001b[0m\u001b[0m\n\u001b[0m\u001b[0;32m      2\u001b[0m \u001b[1;32mfrom\u001b[0m \u001b[0mselenium\u001b[0m\u001b[1;33m.\u001b[0m\u001b[0mwebdriver\u001b[0m\u001b[1;33m.\u001b[0m\u001b[0mcommon\u001b[0m\u001b[1;33m.\u001b[0m\u001b[0mby\u001b[0m \u001b[1;32mimport\u001b[0m \u001b[0mBy\u001b[0m\u001b[1;33m\u001b[0m\u001b[1;33m\u001b[0m\u001b[0m\n\u001b[0;32m      3\u001b[0m \u001b[1;32mfrom\u001b[0m \u001b[0mselenium\u001b[0m\u001b[1;33m.\u001b[0m\u001b[0mwebdriver\u001b[0m\u001b[1;33m.\u001b[0m\u001b[0mcommon\u001b[0m\u001b[1;33m.\u001b[0m\u001b[0mkeys\u001b[0m \u001b[1;32mimport\u001b[0m \u001b[0mKeys\u001b[0m\u001b[1;33m\u001b[0m\u001b[1;33m\u001b[0m\u001b[0m\n\u001b[0;32m      4\u001b[0m \u001b[1;32mimport\u001b[0m \u001b[0mtime\u001b[0m\u001b[1;33m\u001b[0m\u001b[1;33m\u001b[0m\u001b[0m\n",
      "\u001b[1;31mModuleNotFoundError\u001b[0m: No module named 'selenium'"
     ]
    }
   ],
   "source": [
    "from selenium import webdriver\n",
    "from selenium.webdriver.common.by import By\n",
    "from selenium.webdriver.common.keys import Keys\n",
    "import time"
   ]
  },
  {
   "cell_type": "code",
   "execution_count": null,
   "id": "e1295817",
   "metadata": {},
   "outputs": [],
   "source": [
    "PROMISED_DOWN = 10\n",
    "PROMISED_UP = 50\n",
    "CHROME_DRIVER_PATH = r\"C:\\Users\\jacky\\Documents\\Development\\chromedriver_win32\\chromedriver.exe\"\n",
    "TWITTER_EMAIL = \"jackyhuynh87@gmail.com\"\n",
    "TWITTER_PASSWORD = 'Twikhongbiet88'\n",
    "# https://stackoverflow.com/questions/69875125/find-element-by-commands-are-deprecated-in-selenium/69875984\n",
    "\n",
    "\n",
    "class InternetSpeedTwitterBot:\n",
    "    def __init__(self, driver_path):\n",
    "        self.driver = webdriver.Chrome(executable_path=driver_path)\n",
    "        self.up = 0\n",
    "        self.down = 0\n",
    "\n",
    "    def get_internet_speed(self):\n",
    "        self.driver.get(\"https://fast.com/\")\n",
    "\n",
    "        time.sleep(10)\n",
    "        show_info = self.driver.find_element(By.ID, \"show-more-details-link\")\n",
    "        show_info.click()\n",
    "        self.up = self.driver.find_element(By.ID, 'speed-value')\n",
    "        self.down = self.driver.find_element(By.ID, 'upload-value')\n",
    "        print(self.down.text, self.up.text)\n",
    "\n",
    "    def tweet_at_provider(self):\n",
    "        self.driver.get(\"https://twitter.com/login\")\n",
    "\n",
    "        time.sleep(2)\n",
    "        email = self.driver.find_element_by_xpath(\n",
    "            '//*[@id=\"react-root\"]/div/div/div[2]/main/div/div/div[1]/form/div/div[1]/label/div/div[2]/div/input')\n",
    "        email.send_keys(TWITTER_EMAIL)\n",
    "\n",
    "        time.sleep(2)\n",
    "        password = self.driver.find_element_by_xpath(\n",
    "            '//*[@id=\"react-root\"]/div/div/div[2]/main/div/div/div[1]/form/div/div[2]/label/div/div[2]/div/input')\n",
    "        password.send_keys(TWITTER_PASSWORD)\n",
    "\n",
    "        time.sleep(2)\n",
    "        password.send_keys(Keys.ENTER)\n",
    "\n",
    "        time.sleep(5)\n",
    "        tweet_compose = self.driver.find_element_by_xpath(\n",
    "            '//*[@id=\"react-root\"]/div/div/div[2]/main/div/div/div/div/div/div[2]/div/div[2]/div[1]/div/div/div/div[2]/div[1]/div/div/div/div/div/div/div/div/div/div[1]/div/div/div/div[2]/div/div/div/div')\n",
    "\n",
    "        tweet = f\"Hey Internet Provider, why is my internet speed {self.down}down/{self.up}up when I pay for {PROMISED_DOWN}down/{PROMISED_UP}up?\"\n",
    "        tweet_compose.send_keys(tweet)\n",
    "        time.sleep(3)\n",
    "\n",
    "        tweet_button = self.driver.find_element_by_xpath(\n",
    "            '//*[@id=\"react-root\"]/div/div/div[2]/main/div/div/div/div/div/div[2]/div/div[2]/div[1]/div/div/div/div[2]/div[4]/div/div/div[2]/div[3]')\n",
    "        tweet_button.click()\n",
    "\n",
    "        time.sleep(2)\n",
    "        self.driver.quit()"
   ]
  }
 ],
 "metadata": {
  "kernelspec": {
   "display_name": "Python 3",
   "language": "python",
   "name": "python3"
  },
  "language_info": {
   "codemirror_mode": {
    "name": "ipython",
    "version": 3
   },
   "file_extension": ".py",
   "mimetype": "text/x-python",
   "name": "python",
   "nbconvert_exporter": "python",
   "pygments_lexer": "ipython3",
   "version": "3.8.8"
  }
 },
 "nbformat": 4,
 "nbformat_minor": 5
}
