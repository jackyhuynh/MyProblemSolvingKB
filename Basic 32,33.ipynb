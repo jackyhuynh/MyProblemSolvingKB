{
 "cells": [
  {
   "cell_type": "markdown",
   "id": "085af64a",
   "metadata": {},
   "source": [
    "## Google Spreadsheet to transform csv file"
   ]
  },
  {
   "cell_type": "code",
   "execution_count": null,
   "id": "27f81a33",
   "metadata": {},
   "outputs": [],
   "source": [
    "# Use the excel sheet in google sheet for translation\n",
    "# Flash card app"
   ]
  },
  {
   "cell_type": "markdown",
   "id": "2ee6a9a5",
   "metadata": {},
   "source": [
    "- SMTP: emails protocal client"
   ]
  },
  {
   "cell_type": "markdown",
   "id": "d59f2f28",
   "metadata": {},
   "source": [
    "https://www.pythonanywhere.com/user/jackyhuynh87Pyt/files/home/jackyhuynh87Pyt/main.py?edit\n",
    "- Use this to automate task (sending email, script, schedule task) same as AWS but this is free. "
   ]
  },
  {
   "cell_type": "markdown",
   "id": "ab049554",
   "metadata": {},
   "source": [
    "## API Request:\n",
    "- Make request to the source code.\n",
    "- This is the open source for ISS: http://open-notify.org/Open-Notify-API/ISS-Location-Now/\n",
    "- Google Chrome add-on for better view of ISS Json file https://chrome.google.com/webstore/detail/json-viewer/gbmdgpbipfallnflgajpaliibnhdgobh/related"
   ]
  },
  {
   "cell_type": "code",
   "execution_count": 7,
   "id": "9f5aa303",
   "metadata": {},
   "outputs": [
    {
     "name": "stdout",
     "output_type": "stream",
     "text": [
      "<Response [200]>\n",
      "('24.2696', '-166.4970')\n"
     ]
    }
   ],
   "source": [
    "import requests\n",
    "\n",
    "response = requests.get(url='http://api.open-notify.org/iss-now.json')\n",
    "print(response)\n",
    "# <Response [200]> is identify that it is good.\n",
    "# request model for unsucessful request.\n",
    "response.raise_for_status()\n",
    "\n",
    "data = response.json()\n",
    "\n",
    "longitude = data[\"iss_position\"][\"longitude\"]\n",
    "latitude = data[\"iss_position\"][\"latitude\"]\n",
    "\n",
    "iss_position = (latitude, longitude)\n",
    "print(iss_position)"
   ]
  },
  {
   "cell_type": "markdown",
   "id": "753bc536",
   "metadata": {},
   "source": [
    "## HTTP Status Code:\n",
    "- <Response [200]> is identify that it is good.\n",
    "- https://www.latlong.net/Show-Latitude-Longitude.html\n",
    "\n",
    "https://httpstatuses.com/\n",
    "## Python Request model:\n",
    "- https://docs.python-requests.org/en/latest/\n",
    "- Request Model generate the code for error code\n",
    "- The Python request model is the most popular for Python"
   ]
  }
 ],
 "metadata": {
  "kernelspec": {
   "display_name": "Python 3",
   "language": "python",
   "name": "python3"
  },
  "language_info": {
   "codemirror_mode": {
    "name": "ipython",
    "version": 3
   },
   "file_extension": ".py",
   "mimetype": "text/x-python",
   "name": "python",
   "nbconvert_exporter": "python",
   "pygments_lexer": "ipython3",
   "version": "3.8.8"
  }
 },
 "nbformat": 4,
 "nbformat_minor": 5
}
