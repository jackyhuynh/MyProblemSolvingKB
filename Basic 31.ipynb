{
 "cells": [
  {
   "cell_type": "markdown",
   "id": "16222f96",
   "metadata": {},
   "source": [
    "## Google Spreadsheet to transform csv file"
   ]
  },
  {
   "cell_type": "code",
   "execution_count": null,
   "id": "7771da0e",
   "metadata": {},
   "outputs": [],
   "source": [
    "# Use the excel sheet in google sheet for translation\n",
    "# Flash card app"
   ]
  }
 ],
 "metadata": {
  "kernelspec": {
   "display_name": "Python 3",
   "language": "python",
   "name": "python3"
  },
  "language_info": {
   "codemirror_mode": {
    "name": "ipython",
    "version": 3
   },
   "file_extension": ".py",
   "mimetype": "text/x-python",
   "name": "python",
   "nbconvert_exporter": "python",
   "pygments_lexer": "ipython3",
   "version": "3.8.8"
  }
 },
 "nbformat": 4,
 "nbformat_minor": 5
}
