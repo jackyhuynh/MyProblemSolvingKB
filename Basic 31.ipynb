{
 "cells": [
  {
   "cell_type": "markdown",
   "id": "69fa1f86",
   "metadata": {},
   "source": [
    "## Google Spreads"
   ]
  },
  {
   "cell_type": "code",
   "execution_count": null,
   "id": "024132bf",
   "metadata": {},
   "outputs": [],
   "source": [
    "# Use the excel sheet in google sheet for translation\n",
    "# Flash card app"
   ]
  }
 ],
 "metadata": {
  "kernelspec": {
   "display_name": "Python 3",
   "language": "python",
   "name": "python3"
  },
  "language_info": {
   "codemirror_mode": {
    "name": "ipython",
    "version": 3
   },
   "file_extension": ".py",
   "mimetype": "text/x-python",
   "name": "python",
   "nbconvert_exporter": "python",
   "pygments_lexer": "ipython3",
   "version": "3.8.8"
  }
 },
 "nbformat": 4,
 "nbformat_minor": 5
}
