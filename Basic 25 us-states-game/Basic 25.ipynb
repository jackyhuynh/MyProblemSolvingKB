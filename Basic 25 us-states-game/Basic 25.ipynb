{
 "cells": [
  {
   "cell_type": "markdown",
   "id": "496c658d",
   "metadata": {},
   "source": [
    "# Pandas documentation\n",
    "\n",
    "https://realpython.com/pandas-groupby/\n",
    "https://pandas.pydata.org/docs/index.html\n",
    "\n",
    "# The US States Games\n",
    "Source: https://www.udemy.com/course/100-days-of-code/\n"
   ]
  },
  {
   "cell_type": "code",
   "execution_count": 1,
   "id": "62f3eeac",
   "metadata": {},
   "outputs": [],
   "source": [
    "import turtle\n",
    "\n",
    "screen = turtle.Screen()\n",
    "screen.title(\"U.S States Game\")\n",
    "image = \"blank_states_img.gif\"\n",
    "\n",
    "# add the shape of the screen is the image\n",
    "screen.addshape(image)\n",
    "\n",
    "# add \n",
    "turtle.shape(image)\n",
    "\n",
    "screen.exitonclick()"
   ]
  }
 ],
 "metadata": {
  "kernelspec": {
   "display_name": "Python 3",
   "language": "python",
   "name": "python3"
  },
  "language_info": {
   "codemirror_mode": {
    "name": "ipython",
    "version": 3
   },
   "file_extension": ".py",
   "mimetype": "text/x-python",
   "name": "python",
   "nbconvert_exporter": "python",
   "pygments_lexer": "ipython3",
   "version": "3.8.8"
  }
 },
 "nbformat": 4,
 "nbformat_minor": 5
}
