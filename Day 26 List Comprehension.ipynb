{
 "cells": [
  {
   "cell_type": "markdown",
   "id": "ce88c136",
   "metadata": {},
   "source": [
    "# List Comprehension\n",
    "## Introduction:\n",
    "- Cut down and easier to list. for example: new list = [new item for item in list]"
   ]
  },
  {
   "cell_type": "code",
   "execution_count": 1,
   "id": "520798c2",
   "metadata": {},
   "outputs": [
    {
     "data": {
      "text/plain": [
       "[2, 3, 4]"
      ]
     },
     "execution_count": 1,
     "metadata": {},
     "output_type": "execute_result"
    }
   ],
   "source": [
    "numbers = [1,2,3]\n",
    "new_num = [n+1 for n in numbers]\n",
    "new_num"
   ]
  },
  {
   "cell_type": "code",
   "execution_count": 2,
   "id": "7a7421d0",
   "metadata": {},
   "outputs": [
    {
     "data": {
      "text/plain": [
       "['Bin']"
      ]
     },
     "execution_count": 2,
     "metadata": {},
     "output_type": "execute_result"
    }
   ],
   "source": [
    "names = ['Truc', 'Phuong', 'Bin']\n",
    "short_names = [name for name in names if len(name)<= 3]\n",
    "short_names"
   ]
  },
  {
   "cell_type": "code",
   "execution_count": null,
   "id": "b364925e",
   "metadata": {},
   "outputs": [],
   "source": []
  }
 ],
 "metadata": {
  "kernelspec": {
   "display_name": "Python 3",
   "language": "python",
   "name": "python3"
  },
  "language_info": {
   "codemirror_mode": {
    "name": "ipython",
    "version": 3
   },
   "file_extension": ".py",
   "mimetype": "text/x-python",
   "name": "python",
   "nbconvert_exporter": "python",
   "pygments_lexer": "ipython3",
   "version": "3.8.8"
  }
 },
 "nbformat": 4,
 "nbformat_minor": 5
}
