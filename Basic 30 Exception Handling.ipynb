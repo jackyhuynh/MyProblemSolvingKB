{
 "cells": [
  {
   "cell_type": "markdown",
   "id": "9b32b3d4",
   "metadata": {},
   "source": [
    "## File not found"
   ]
  },
  {
   "cell_type": "code",
   "execution_count": null,
   "id": "516e8a39",
   "metadata": {},
   "outputs": [],
   "source": [
    "try:\n",
    "    file = open(\"a_file.txt\")\n",
    "# The except key word will ignore all error in try block\n",
    "# Focus on catch a specific situation\n",
    "except FileNotFoundError:\n",
    "    open(\"a_file.txt\", \"w\")\n",
    "except KeyError as error_message:\n",
    "    print(f\"The key {error_message} does not exit.\")\n",
    "else:\n",
    "    content = file.read()\n",
    "    print(content)\n",
    "finally:\n",
    "    file.close()\n",
    "    print(\"File was close\")\n"
   ]
  },
  {
   "cell_type": "code",
   "execution_count": 4,
   "id": "7d258f91",
   "metadata": {},
   "outputs": [
    {
     "name": "stdout",
     "output_type": "stream",
     "text": [
      "Fruit Pie\n"
     ]
    }
   ],
   "source": [
    "fruits = ['Apple','Be']\n",
    "def make_pie(index):\n",
    "    # try this\n",
    "    try:\n",
    "        fruit = fruits[index]\n",
    "    except IndexError:\n",
    "        print('Fruit Pie')\n",
    "    else:\n",
    "        print(fruit+\"pie\")\n",
    "make_pie(4)"
   ]
  },
  {
   "cell_type": "markdown",
   "id": "87578977",
   "metadata": {},
   "source": [
    "## JSON"
   ]
  },
  {
   "cell_type": "markdown",
   "id": "7e9967fe",
   "metadata": {},
   "source": [
    "#### JavaScript Object Notation:\n",
    "{\n",
    "    \"Amazon\":{\n",
    "        \"email\":\"angela@gmail.com\",\n",
    "        \"password\":\"12123j1kh112\"\n",
    "        \n",
    "    }\n",
    "}"
   ]
  },
  {
   "cell_type": "code",
   "execution_count": 11,
   "id": "f564d30b",
   "metadata": {},
   "outputs": [],
   "source": [
    "# Using the Json library\n",
    "import json\n",
    "website='Amazon'\n",
    "email='jacky@gmnail.com'\n",
    "password='12354'\n",
    "\n",
    "new_data = {\n",
    "    website:{\n",
    "        \"email\" : email,\n",
    "        \"password\": password\n",
    "    }\n",
    "}\n",
    "\n",
    "with open(\"data.json\", \"r\") as data_file:\n",
    "    data = json.load(data_file)\n",
    "    \n",
    "with open(\"data.json\", \"w\") as data_file:\n",
    "    json.dump(new_data,data_file, indent=4)\n"
   ]
  },
  {
   "cell_type": "code",
   "execution_count": 12,
   "id": "ea4ffa31",
   "metadata": {},
   "outputs": [
    {
     "data": {
      "text/plain": [
       "{'Amazon': {'email': 'jacky@gmnail.com', 'password': '12354'}}"
      ]
     },
     "execution_count": 12,
     "metadata": {},
     "output_type": "execute_result"
    }
   ],
   "source": [
    "data"
   ]
  },
  {
   "cell_type": "code",
   "execution_count": null,
   "id": "a5f8c14c",
   "metadata": {},
   "outputs": [],
   "source": []
  }
 ],
 "metadata": {
  "kernelspec": {
   "display_name": "Python 3",
   "language": "python",
   "name": "python3"
  },
  "language_info": {
   "codemirror_mode": {
    "name": "ipython",
    "version": 3
   },
   "file_extension": ".py",
   "mimetype": "text/x-python",
   "name": "python",
   "nbconvert_exporter": "python",
   "pygments_lexer": "ipython3",
   "version": "3.8.8"
  }
 },
 "nbformat": 4,
 "nbformat_minor": 5
}
