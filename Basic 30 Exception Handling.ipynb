{
 "cells": [
  {
   "cell_type": "markdown",
   "id": "54d65ccd",
   "metadata": {},
   "source": [
    "## File not found"
   ]
  },
  {
   "cell_type": "code",
   "execution_count": null,
   "id": "3adab2c9",
   "metadata": {},
   "outputs": [],
   "source": [
    "try:\n",
    "    file = open(\"a_file.txt\")\n",
    "# The except key word will ignore all error in try block\n",
    "# Focus on catch a specific situation\n",
    "except FileNotFoundError:\n",
    "    open(\"a_file.txt\", \"w\")\n",
    "except KeyError as error_message:\n",
    "    print(f\"The key {error_message} does not exit.\")\n",
    "else:\n",
    "    content = file.read()\n",
    "    print(content)\n",
    "finally:\n",
    "    file.close()\n",
    "    print(\"File was close\")\n"
   ]
  },
  {
   "cell_type": "code",
   "execution_count": 4,
   "id": "d5bc294d",
   "metadata": {},
   "outputs": [
    {
     "name": "stdout",
     "output_type": "stream",
     "text": [
      "Fruit Pie\n"
     ]
    }
   ],
   "source": [
    "fruits = ['Apple','Be']\n",
    "def make_pie(index):\n",
    "    # try this\n",
    "    try:\n",
    "        fruit = fruits[index]\n",
    "    except IndexError:\n",
    "        print('Fruit Pie')\n",
    "    else:\n",
    "        print(fruit+\"pie\")\n",
    "make_pie(4)"
   ]
  },
  {
   "cell_type": "markdown",
   "id": "2dfc5b2a",
   "metadata": {},
   "source": [
    "## JSON"
   ]
  },
  {
   "cell_type": "markdown",
   "id": "f3c5ab68",
   "metadata": {},
   "source": [
    "#### JavaScript Object Notation:\n",
    "{\n",
    "    \"Amazon\":{\n",
    "        \"email\":\"angela@gmail.com\",\n",
    "        \"password\":\"12123j1kh112\"\n",
    "        \n",
    "    }\n",
    "}"
   ]
  },
  {
   "cell_type": "code",
   "execution_count": 8,
   "id": "e9139d6f",
   "metadata": {},
   "outputs": [],
   "source": [
    "# Using the Json library\n",
    "import json\n",
    "website='Amazon'\n",
    "email='jacky@gmnail.com'\n",
    "password='12354'\n",
    "\n",
    "new_data = {\n",
    "    website:{\n",
    "        \"email\" : email,\n",
    "        \"password\": password\n",
    "    }\n",
    "}\n",
    "\n",
    "with open(\"data.json\", \"w\") as data_file:\n",
    "    json.dump(new_data,data_file)\n",
    "    "
   ]
  },
  {
   "cell_type": "code",
   "execution_count": null,
   "id": "12129146",
   "metadata": {},
   "outputs": [],
   "source": []
  }
 ],
 "metadata": {
  "kernelspec": {
   "display_name": "Python 3",
   "language": "python",
   "name": "python3"
  },
  "language_info": {
   "codemirror_mode": {
    "name": "ipython",
    "version": 3
   },
   "file_extension": ".py",
   "mimetype": "text/x-python",
   "name": "python",
   "nbconvert_exporter": "python",
   "pygments_lexer": "ipython3",
   "version": "3.8.8"
  }
 },
 "nbformat": 4,
 "nbformat_minor": 5
}
