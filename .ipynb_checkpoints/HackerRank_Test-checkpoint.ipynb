{
 "cells": [
  {
   "cell_type": "markdown",
   "id": "0a376778",
   "metadata": {},
   "source": [
    "# Hex Code Converter"
   ]
  },
  {
   "cell_type": "code",
   "execution_count": null,
   "id": "d716f1af",
   "metadata": {},
   "outputs": [],
   "source": [
    "# Enter your code here. Read input from STDIN. Print output to STDOUT\n",
    "# https://docs.python.org/3/library/re.html: re package is regular expression package\n",
    "\n",
    "import re,string\n",
    "\n",
    "m = int(input()) # Get the input from user input for the line of code\n",
    "check = False # Check if the Hex code is true or false\n",
    "regexp = r'\\#[0-9A-Fa-f]+'  # The regular expression that define the code\n",
    "\n",
    "for i in range(m):\n",
    "    line = input() # The input for each line of code\n",
    "    if(line):\n",
    "        startIndex = 0\n",
    "        endIndex = len(line)\n",
    "        if(check == False and line.find('{')!=-1):\n",
    "            startIndex = line.find('{')\n",
    "            check = True\n",
    "        if(check == True and line.find('}') != -1):\n",
    "            endIndex = line.find('}')\n",
    "            line = line[startIndex:endIndex]\n",
    "            for color in re.findall(regexp,line):\n",
    "                if(len(color)==4 or len(color)==7):\n",
    "                    index = line.index(color)\n",
    "                    if(line[index+len(color)] in string.ascii_letters or line[index+len(color)] in string.digits):\n",
    "                        continue\n",
    "                    else:\n",
    "                        print (color)\n",
    "            check = False\n",
    "        if check:\n",
    "            line = line[startIndex:endIndex]\n",
    "            for color in re.findall(regexp,line):\n",
    "                if(len(color)==4 or len(color)==7):\n",
    "                    index = line.index(color)\n",
    "                    if(line[index+len(color)] in string.ascii_letters or line[index+len(color)] in string.digits):\n",
    "                        continue\n",
    "                    else:\n",
    "                        print (color)"
   ]
  },
  {
   "cell_type": "code",
   "execution_count": null,
   "id": "6ffb0f2e",
   "metadata": {},
   "outputs": [],
   "source": [
    "# calTotal(matrix) calculate a corner of the 2D array.\n",
    "\n",
    "def calTotal(matrix):\n",
    "    total=0 # Hold the return value\n",
    "    for i in range(len(matrix)//2):\n",
    "        for j in range(len(matrix[0])//2):\n",
    "            total+=matrix[i][j]\n",
    "            \n",
    "    return total # Return the total\n",
    "\n"
   ]
  },
  {
   "cell_type": "markdown",
   "id": "623cebc8",
   "metadata": {},
   "source": [
    "# ZIgZag Sequence"
   ]
  },
  {
   "cell_type": "markdown",
   "id": "ea0b56ea",
   "metadata": {},
   "source": [
    "Given an array of  distinct integers, transform the array into a zig zag sequence by permuting the array elements. A sequence will be called a zig zag sequence if the first  elements in the sequence are in increasing order and the last  elements are in decreasing order, where . You need to find the lexicographically smallest zig zag sequence of the given array."
   ]
  },
  {
   "cell_type": "code",
   "execution_count": 24,
   "id": "2cef0655",
   "metadata": {},
   "outputs": [],
   "source": [
    "from __future__ import print_function\n",
    "def findZigZagSequence(a, n):\n",
    "    a.sort()\n",
    "    mid = int((n )//2)\n",
    "    a[mid], a[n-1] = a[n-1], a[mid]\n",
    "\n",
    "    st = mid + 1\n",
    "    ed = n - 2\n",
    "    while(st <= ed):\n",
    "        a[st], a[ed] = a[ed], a[st]\n",
    "        st = st + 1\n",
    "        ed = ed - 1\n",
    "\n",
    "    for i in range (n):\n",
    "        if i == n-1:\n",
    "            print(a[i])\n",
    "        else:\n",
    "            print(a[i], end = ' ')\n",
    "    return"
   ]
  },
  {
   "cell_type": "code",
   "execution_count": 25,
   "id": "5327912b",
   "metadata": {},
   "outputs": [
    {
     "name": "stdout",
     "output_type": "stream",
     "text": [
      "1 2 3 4 11 9 8 6 5\n"
     ]
    }
   ],
   "source": [
    "a=[2,3,5,1,4,6,8,9,11]\n",
    "findZigZagSequence(a, len(a))"
   ]
  },
  {
   "cell_type": "markdown",
   "id": "52dc7f50",
   "metadata": {},
   "source": [
    "#  Caesar's cipher"
   ]
  },
  {
   "cell_type": "markdown",
   "id": "1c4fcf92",
   "metadata": {},
   "source": [
    "Julius Caesar protected his confidential information by encrypting it using a cipher. Caesar's cipher shifts each letter by a number of letters. If the shift takes you past the end of the alphabet, just rotate back to the front of the alphabet. In the case of a rotation by 3, w, x, y and z would map to z, a, b and c.\n",
    "\n",
    "Original alphabet:      abcdefghijklmnopqrstuvwxyz\n",
    "Alphabet rotated +3:    defghijklmnopqrstuvwxyzabc"
   ]
  },
  {
   "cell_type": "code",
   "execution_count": null,
   "id": "294688e0",
   "metadata": {},
   "outputs": [],
   "source": [
    "#!/bin/python3\n",
    "\n",
    "import math\n",
    "import os\n",
    "import random\n",
    "import re\n",
    "import sys\n",
    "\n",
    "#\n",
    "# Complete the 'caesarCipher' function below.\n",
    "#\n",
    "# The function is expected to return a STRING.\n",
    "# The function accepts following parameters:\n",
    "#  1. STRING s\n",
    "#  2. INTEGER k\n",
    "#\n",
    "\n",
    "def caesarCipher(myString, k):\n",
    "    \n",
    "    Alphabet=['a','b','c','d','e','f','g','h','i','j','k','l','m','n','o','p','q','r','s','t','u','v','w','x','y','z'] # Alphabet will hold the 26 Alphabet character\n",
    "    Hash_Table = dict() # Store the hash code\n",
    "    Hash_string='' # Hold the return value\n",
    "    \n",
    "    # Intialize the hash table (Hash function)\n",
    "    for i in range(len(Alphabet)):\n",
    "        Hash_Table[Alphabet[i]]=Alphabet[(i+k)%26] # %26 to return the circle\n",
    "    \n",
    "    # Convert the string to encrypt version\n",
    "    for i in range(len(myString)):\n",
    "        if myString[i].lower() in Hash_Table: # Convert the chars to specific characters\n",
    "            if myString[i].islower(): # if the character is lower, add it to the Hash string\n",
    "                Hash_string+=Hash_Table.get(myString[i])\n",
    "            else: # if not get the characters from the Hash Table and convert it to Upper\n",
    "                Hash_string+=(Hash_Table.get(myString[i].lower())).upper()\n",
    "        else:\n",
    "            Hash_string+=myString[i].lower() # Keep the non alphabet char the same\n",
    "        \n",
    "    # print (Hash_string)       \n",
    "    return Hash_string\n",
    "\n",
    "\n",
    "if __name__ == '__main__':\n",
    "    fptr = open(os.environ['OUTPUT_PATH'], 'w')\n",
    "\n",
    "    n = int(input().strip())\n",
    "\n",
    "    s = input()\n",
    "\n",
    "    k = int(input().strip())\n",
    "\n",
    "    result = caesarCipher(s, k)\n",
    "\n",
    "    fptr.write(result + '\\n')\n",
    "\n",
    "    fptr.close()\n"
   ]
  },
  {
   "cell_type": "markdown",
   "id": "4f963e7b",
   "metadata": {},
   "source": [
    "# Tower Breakers"
   ]
  },
  {
   "cell_type": "markdown",
   "id": "39f2d97e",
   "metadata": {},
   "source": [
    "Two players are playing a game of Tower Breakers! Player  always moves first, and both players always play optimally.The rules of the game are as follows:\n",
    "\n",
    "Initially there are  towers.\n",
    "Each tower is of height .\n",
    "The players move in alternating turns.\n",
    "In each turn, a player can choose a tower of height  and reduce its height to , where  and  evenly divides .\n",
    "If the current player is unable to make a move, they lose the game.\n",
    "Given the values of  and , determine which player will win. If the first player wins, return . Otherwise, return ."
   ]
  },
  {
   "cell_type": "code",
   "execution_count": null,
   "id": "d82a86ae",
   "metadata": {},
   "outputs": [],
   "source": [
    "#!/bin/python3\n",
    "\n",
    "import math\n",
    "import os\n",
    "import random\n",
    "import re\n",
    "import sys\n",
    "\n",
    "#\n",
    "# Complete the 'towerBreakers' function below.\n",
    "#\n",
    "# The function is expected to return an INTEGER.\n",
    "# The function accepts following parameters:\n",
    "#  1. INTEGER n\n",
    "#  2. INTEGER m\n",
    "#\n",
    "\n",
    "def towerBreakers(n, m):\n",
    "    # Write your code here\n",
    "     return 2 if n%2 == 0 or m==1 else 1\n",
    "    \n",
    "if __name__ == '__main__':\n",
    "    fptr = open(os.environ['OUTPUT_PATH'], 'w')\n",
    "\n",
    "    t = int(input().strip())\n",
    "\n",
    "    for t_itr in range(t):\n",
    "        first_multiple_input = input().rstrip().split()\n",
    "\n",
    "        n = int(first_multiple_input[0])\n",
    "\n",
    "        m = int(first_multiple_input[1])\n",
    "\n",
    "        result = towerBreakers(n, m)\n",
    "\n",
    "        fptr.write(str(result) + '\\n')\n",
    "\n",
    "    fptr.close()"
   ]
  },
  {
   "cell_type": "markdown",
   "id": "eeb34c07",
   "metadata": {},
   "source": [
    "# Palindrome Validation"
   ]
  },
  {
   "cell_type": "markdown",
   "id": "36e5e95c",
   "metadata": {},
   "source": [
    "Given a string of lowercase letters in the range ascii[a-z], determine the index of a character that can be\n",
    "removed to make the string a palindrome. There may be more than one solution, but any will do. If the word\n",
    "is already a palindrome or there is no solution, return -1. Otherwise, return the index of a character to\n",
    "remove.\n",
    "#### Example\n",
    "s='bcbc'\n",
    "Either remove 'b' at index or 'c' at index .\n",
    "#### Function Description\n",
    "Complete the palindromeIndex function in the editor below.\n",
    "palindromeIndex has the following parameter(s):\n",
    "string s: a string to analyze\n",
    "Returns\n",
    "int: the index of the character to remove or\n",
    "Input Format\n",
    "The first line contains an integer , the number of queries.\n",
    "Each of the next lines contains a query string ."
   ]
  },
  {
   "cell_type": "code",
   "execution_count": null,
   "id": "15116813",
   "metadata": {},
   "outputs": [],
   "source": [
    "# palindrome take one parameter String and return an integer\n",
    "\n",
    "# Same concept as the Zigzag to compare value \n",
    "def isPalindrome(string: str, low: int, high: int) -> bool:\n",
    "    while low < high:\n",
    "        if string[low] != string[high]:\n",
    "            return False\n",
    "        low += 1\n",
    "        high -= 1\n",
    "        \n",
    "    return True\n",
    "\n",
    "def palindromeIndex(string):\n",
    "# Initialize low and right by both the ends of the string\n",
    "    low = 0\n",
    "    high = len(string) - 1\n",
    "    while low < high: # loop until low and high cross each other\n",
    "    # If both characters are equal then move both pointer towards end\n",
    "        if string[low] == string[high]:\n",
    "            low += 1\n",
    "            high -= 1\n",
    "        else:\n",
    "            # If removing str[low] makes the whole string palindrome.\n",
    "            if isPalindrome(string, low + 1, high):\n",
    "                return low\n",
    "            # If removing str[high] makes the whole string palindrome\n",
    "            if isPalindrome(string, low, high - 1):\n",
    "                return high\n",
    "            #return -1\n",
    "    # We reach here when complete string will be palindrome\n",
    "    # if complete string is palindrome then return mid character\n",
    "    return -1"
   ]
  },
  {
   "cell_type": "markdown",
   "id": "ddbb46ba",
   "metadata": {},
   "source": [
    "#  Ascending Alphabetical Order Validation"
   ]
  },
  {
   "cell_type": "markdown",
   "id": "fdc44acc",
   "metadata": {},
   "source": [
    "Given a square grid of characters in the range ascii[a-z], rearrange elements of each row alphabetically, ascending. Determine if the columns are also in ascending alphabetical order, top to bottom. Return YES if they are or NO if they are not."
   ]
  },
  {
   "cell_type": "code",
   "execution_count": null,
   "id": "cd6ca5c7",
   "metadata": {},
   "outputs": [],
   "source": [
    "# Sorted_List sort the list and return an alphabetical 2d List\n",
    "def Sorted_Table(grid):\n",
    "    Lists=[]\n",
    "    for i in grid:\n",
    "        Lists.append(sorted(i))\n",
    "    \n",
    "    return Lists\n",
    "\n",
    "def check_column_sorted(grid,index):\n",
    "    string=''\n",
    "    for i in range\n",
    "    \n"
   ]
  },
  {
   "cell_type": "code",
   "execution_count": 113,
   "id": "0eabcf6d",
   "metadata": {},
   "outputs": [],
   "source": [
    "\n",
    "def createList(s):\n",
    "    listRes = list(s.split(\" \"))\n",
    "    return listRes\n",
    "\n",
    "def swapList(listRes):\n",
    "    middle = len(listRes)//2\n",
    "    last=len(listRes)-1\n",
    "    start=0\n",
    "    while start<middle:\n",
    "        listRes[start], listRes[last]=listRes[last],listRes[start]\n",
    "        start+=1\n",
    "        last-=1\n",
    "    return listRes\n",
    "\n",
    "def createCharSplit(s):\n",
    "    listS=[]\n",
    "    for i in s:\n",
    "        listS.append(i)\n",
    "    return listS\n",
    "\n",
    "def reverse_words_order_and_swap_cases(sentence):\n",
    "    ListSentence = createList(sentence)\n",
    "    print (1,ListSentence)\n",
    "    ListSentence = swapList(ListSentence)\n",
    "    print (2,ListSentence)\n",
    "\n",
    "    NewList=[]\n",
    "    for i in ListSentence:\n",
    "        Temp=createCharSplit(i)\n",
    "        for chars in Temp:\n",
    "            NewList.append(chars)\n",
    "        \n",
    "        NewList.append(' ')\n",
    "    print (NewList)\n",
    "    \n",
    "    NewList.pop()\n",
    "    strR=''\n",
    "    for i in NewList:\n",
    "        if i.isupper():\n",
    "            i=i.lower()\n",
    "        else:\n",
    "            i=i.upper()\n",
    "        strR+=i\n",
    "    print(strR)\n",
    "    print(NewList)\n"
   ]
  },
  {
   "cell_type": "code",
   "execution_count": 109,
   "id": "2d7e8828",
   "metadata": {},
   "outputs": [],
   "source": [
    "a=\"aWESOME is cODING\"\n",
    "b=\"dOOg Big\"\n"
   ]
  },
  {
   "cell_type": "code",
   "execution_count": 66,
   "id": "3436c7cf",
   "metadata": {},
   "outputs": [
    {
     "name": "stdout",
     "output_type": "stream",
     "text": [
      "['ddasdd', 'ccccc', 'asd', 'bbbb', 'aaa']\n"
     ]
    }
   ],
   "source": [
    "print(swapList(b))"
   ]
  },
  {
   "cell_type": "code",
   "execution_count": 82,
   "id": "102df4fe",
   "metadata": {},
   "outputs": [
    {
     "name": "stdout",
     "output_type": "stream",
     "text": [
      "['a', 'D', 'c']\n"
     ]
    }
   ],
   "source": [
    "c='aDc'\n",
    "d=(createCharSplit(c))\n",
    "print(d)\n"
   ]
  },
  {
   "cell_type": "code",
   "execution_count": 114,
   "id": "861df2c6",
   "metadata": {},
   "outputs": [
    {
     "name": "stdout",
     "output_type": "stream",
     "text": [
      "1 ['dOOg', 'Big']\n",
      "2 ['Big', 'dOOg']\n",
      "['B', 'i', 'g', ' ', 'd', 'O', 'O', 'g', ' ']\n",
      "bIG DooG\n",
      "['B', 'i', 'g', ' ', 'd', 'O', 'O', 'g']\n"
     ]
    }
   ],
   "source": [
    "reverse_words_order_and_swap_cases(a)"
   ]
  },
  {
   "cell_type": "code",
   "execution_count": null,
   "id": "e875b33c",
   "metadata": {},
   "outputs": [],
   "source": [
    "def pairs(k, arr):\n",
    "    # Write your code here\n",
    "    counter=0\n",
    "    arr.sort()\n",
    "    arrD=arr.copy()\n",
    "    arrD.sort(reverse=True)\n",
    "    \n",
    "    for i in  arr:\n",
    "        for j in  arrD:\n",
    "            if i>j and i-j == k:\n",
    "                counter+=1\n",
    "    \n",
    "    return counter"
   ]
  }
 ],
 "metadata": {
  "kernelspec": {
   "display_name": "Python 3 (ipykernel)",
   "language": "python",
   "name": "python3"
  },
  "language_info": {
   "codemirror_mode": {
    "name": "ipython",
    "version": 3
   },
   "file_extension": ".py",
   "mimetype": "text/x-python",
   "name": "python",
   "nbconvert_exporter": "python",
   "pygments_lexer": "ipython3",
   "version": "3.8.5"
  }
 },
 "nbformat": 4,
 "nbformat_minor": 5
}
