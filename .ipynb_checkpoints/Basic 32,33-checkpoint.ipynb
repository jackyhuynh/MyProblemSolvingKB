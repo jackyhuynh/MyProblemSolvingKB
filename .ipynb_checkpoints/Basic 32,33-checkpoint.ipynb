{
 "cells": [
  {
   "cell_type": "markdown",
   "id": "d9c3a827",
   "metadata": {},
   "source": [
    "## Google Spreadsheet to transform csv file"
   ]
  },
  {
   "cell_type": "code",
   "execution_count": null,
   "id": "4090dd56",
   "metadata": {},
   "outputs": [],
   "source": [
    "# Use the excel sheet in google sheet for translation\n",
    "# Flash card app"
   ]
  },
  {
   "cell_type": "markdown",
   "id": "55fb1552",
   "metadata": {},
   "source": [
    "- SMTP: emails protocal client"
   ]
  },
  {
   "cell_type": "markdown",
   "id": "22cc2aaf",
   "metadata": {},
   "source": [
    "https://www.pythonanywhere.com/user/jackyhuynh87Pyt/files/home/jackyhuynh87Pyt/main.py?edit\n",
    "- Use this to automate task (sending email, script, schedule task) same as AWS but this is free. "
   ]
  }
 ],
 "metadata": {
  "kernelspec": {
   "display_name": "Python 3",
   "language": "python",
   "name": "python3"
  },
  "language_info": {
   "codemirror_mode": {
    "name": "ipython",
    "version": 3
   },
   "file_extension": ".py",
   "mimetype": "text/x-python",
   "name": "python",
   "nbconvert_exporter": "python",
   "pygments_lexer": "ipython3",
   "version": "3.8.8"
  }
 },
 "nbformat": 4,
 "nbformat_minor": 5
}
