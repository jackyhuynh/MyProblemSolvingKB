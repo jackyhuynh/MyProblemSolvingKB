{
 "cells": [
  {
   "cell_type": "markdown",
   "id": "ce88c136",
   "metadata": {},
   "source": [
    "# List Comprehension\n",
    "## Introduction:\n",
    "- Cut down and easier to list. for example: new list = [new item for item in list]\n",
    "\n",
    "### Lesson:\n",
    "1. \"String\"=='String'. Use ' can return the double quote inside."
   ]
  },
  {
   "cell_type": "code",
   "execution_count": 1,
   "id": "520798c2",
   "metadata": {},
   "outputs": [
    {
     "data": {
      "text/plain": [
       "[2, 3, 4]"
      ]
     },
     "execution_count": 1,
     "metadata": {},
     "output_type": "execute_result"
    }
   ],
   "source": [
    "numbers = [1,2,3]\n",
    "new_num = [n+1 for n in numbers]\n",
    "new_num"
   ]
  },
  {
   "cell_type": "code",
   "execution_count": 2,
   "id": "7a7421d0",
   "metadata": {},
   "outputs": [
    {
     "data": {
      "text/plain": [
       "['Bin']"
      ]
     },
     "execution_count": 2,
     "metadata": {},
     "output_type": "execute_result"
    }
   ],
   "source": [
    "names = ['Truc', 'Phuong', 'Bin']\n",
    "short_names = [name for name in names if len(name)<= 3]\n",
    "short_names"
   ]
  },
  {
   "cell_type": "markdown",
   "id": "5852dd63",
   "metadata": {},
   "source": [
    "### Dictionary comprehension"
   ]
  },
  {
   "cell_type": "code",
   "execution_count": 4,
   "id": "b364925e",
   "metadata": {},
   "outputs": [],
   "source": [
    "## Exercise 1\n",
    "import random as rd\n",
    "\n",
    "# Create the student list name \n",
    "names = ['Truc', 'Phuong', 'Anna', 'Bin', 'Mica']\n",
    "\n",
    "# Assign random score\n",
    "students = {name:rd.randint(1,100) for name in names}\n",
    "\n",
    "# Dictionary comprehension\n",
    "passed_students = {key:value for (key,value) in students.items() if value >= 50}\n",
    "\n",
    "passed_students"
   ]
  },
  {
   "cell_type": "code",
   "execution_count": 10,
   "id": "c0dc584d",
   "metadata": {},
   "outputs": [
    {
     "name": "stdout",
     "output_type": "stream",
     "text": [
      "{'What is the Airspeed Velocity of an Unladen Swallow?': 52}\n"
     ]
    }
   ],
   "source": [
    "sentences = \"What is the Airspeed Velocity of an Unladen Swallow?\"\n",
    "\n",
    "# Slit the chars using split function of string\n",
    "list_chars = sentences.split(' ')\n",
    "#print(list_chars)\n",
    "\n",
    "dictionary_ = {char_:len(char_) for char_ in list_chars}\n",
    "\n",
    "print(dictionary_)\n"
   ]
  },
  {
   "cell_type": "code",
   "execution_count": 11,
   "id": "b0504702",
   "metadata": {},
   "outputs": [],
   "source": [
    "### Using Pandas to loop through dictionary\n",
    "\n",
    "students={ \n",
    "    'students':['Phuong', 'Bin', 'Truc'],\n",
    "    'scores': [100, 23,57]\n",
    "}\n",
    "\n",
    "import pandas as pd\n",
    "students_data_frame = pd.DataFrame(students)"
   ]
  },
  {
   "cell_type": "code",
   "execution_count": 14,
   "id": "e5ea69a1",
   "metadata": {},
   "outputs": [
    {
     "name": "stdout",
     "output_type": "stream",
     "text": [
      "students    Phuong\n",
      "scores         100\n",
      "Name: 0, dtype: object\n",
      "students    Bin\n",
      "scores       23\n",
      "Name: 1, dtype: object\n",
      "students    Truc\n",
      "scores        57\n",
      "Name: 2, dtype: object\n"
     ]
    }
   ],
   "source": [
    "for (index, row) in students_data_frame.iterrows():\n",
    "    print (row)"
   ]
  }
 ],
 "metadata": {
  "kernelspec": {
   "display_name": "Python 3",
   "language": "python",
   "name": "python3"
  },
  "language_info": {
   "codemirror_mode": {
    "name": "ipython",
    "version": 3
   },
   "file_extension": ".py",
   "mimetype": "text/x-python",
   "name": "python",
   "nbconvert_exporter": "python",
   "pygments_lexer": "ipython3",
   "version": "3.8.8"
  }
 },
 "nbformat": 4,
 "nbformat_minor": 5
}
