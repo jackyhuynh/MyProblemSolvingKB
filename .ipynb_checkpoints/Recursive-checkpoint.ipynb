{
 "cells": [
  {
   "cell_type": "code",
   "execution_count": 4,
   "metadata": {},
   "outputs": [],
   "source": [
    "'''\n",
    "Define a function count_vowels that takes ine one list parameter words which contains some number of Strings. This function should return the total number of vowels that appear in all the Strings in words. This should include both upper and lower case vowels.\n",
    "\n",
    "Test Cases\n",
    "\n",
    "count_vowels(['Hearts', 'Clubs', 'Spades', 'Diamonds']) ⇒ 8\n",
    "count_vowels(['One', 'Two', 'Three', 'Four', 'Five']) ⇒ 9\n",
    "count_vowels(['dog', 'cat', 'cow', 'rabbit']) ⇒ 5\n",
    "'''\n",
    "\n",
    "\n",
    "def count_vowels(words):\n",
    "    # Enter your implementation here\n",
    "    vowel=['a','e','o','u','i']\n",
    "    count = 0\n",
    "    for i in words:\n",
    "        for j in i:\n",
    "            if j.lower() in vowel:\n",
    "                count+=1\n",
    "    return count"
   ]
  },
  {
   "cell_type": "code",
   "execution_count": 1,
   "metadata": {},
   "outputs": [],
   "source": [
    "import turtle\n",
    "\n",
    "def drawTriangle(points,color,myTurtle):\n",
    "    myTurtle.fillcolor(color)\n",
    "    myTurtle.up()\n",
    "    myTurtle.goto(points[0][0],points[0][1])\n",
    "    myTurtle.down()\n",
    "    myTurtle.begin_fill()\n",
    "    myTurtle.goto(points[1][0],points[1][1])\n",
    "    myTurtle.goto(points[2][0],points[2][1])\n",
    "    myTurtle.goto(points[0][0],points[0][1])\n",
    "    myTurtle.end_fill()\n",
    "\n",
    "def getMid(p1,p2):\n",
    "    return ( (p1[0]+p2[0]) / 2, (p1[1] + p2[1]) / 2)\n",
    "\n",
    "def sierpinski(points,degree,myTurtle):\n",
    "    colormap = ['blue','red','green','white','yellow',\n",
    "                'violet','orange']\n",
    "    drawTriangle(points,colormap[degree],myTurtle)\n",
    "    if degree > 0:\n",
    "        sierpinski([points[0],\n",
    "                        getMid(points[0], points[1]),\n",
    "                        getMid(points[0], points[2])],\n",
    "                   degree-1, myTurtle)\n",
    "        sierpinski([points[1],\n",
    "                        getMid(points[0], points[1]),\n",
    "                        getMid(points[1], points[2])],\n",
    "                   degree-1, myTurtle)\n",
    "        sierpinski([points[2],\n",
    "                        getMid(points[2], points[1]),\n",
    "                        getMid(points[0], points[2])],\n",
    "                   degree-1, myTurtle)\n",
    "\n",
    "def main():\n",
    "   myTurtle = turtle.Turtle()\n",
    "   myWin = turtle.Screen()\n",
    "   myPoints = [[-100,-50],[0,100],[100,-50]]\n",
    "   sierpinski(myPoints,3,myTurtle)\n",
    "   myWin.exitonclick()\n",
    "\n",
    "main()\n"
   ]
  },
  {
   "cell_type": "code",
   "execution_count": 8,
   "metadata": {},
   "outputs": [
    {
     "name": "stdout",
     "output_type": "stream",
     "text": [
      "Ordered\n",
      "['2 of Hearts', '3 of Hearts', '4 of Hearts', '5 of Hearts', '6 of Hearts', '7 of Hearts', '8 of Hearts', '9 of Hearts', '10 of Hearts', 'Jack of Hearts', 'Queen of Hearts', 'King of Hearts', 'Ace of Hearts', '2 of Spades', '3 of Spades', '4 of Spades', '5 of Spades', '6 of Spades', '7 of Spades', '8 of Spades', '9 of Spades', '10 of Spades', 'Jack of Spades', 'Queen of Spades', 'King of Spades', 'Ace of Spades', '2 of Clubs', '3 of Clubs', '4 of Clubs', '5 of Clubs', '6 of Clubs', '7 of Clubs', '8 of Clubs', '9 of Clubs', '10 of Clubs', 'Jack of Clubs', 'Queen of Clubs', 'King of Clubs', 'Ace of Clubs', '2 of Diamonds', '3 of Diamonds', '4 of Diamonds', '5 of Diamonds', '6 of Diamonds', '7 of Diamonds', '8 of Diamonds', '9 of Diamonds', '10 of Diamonds', 'Jack of Diamonds', 'Queen of Diamonds', 'King of Diamonds', 'Ace of Diamonds']\n",
      "Shuffled\n",
      "['10 of Clubs', '8 of Hearts', 'Jack of Hearts', '8 of Diamonds', 'Jack of Diamonds', 'Queen of Hearts', '10 of Hearts', '4 of Spades', 'King of Diamonds', '3 of Hearts', '9 of Hearts', '7 of Diamonds', '9 of Clubs', 'Ace of Spades', '8 of Spades', 'King of Clubs', 'Ace of Hearts', '10 of Diamonds', '10 of Spades', 'Queen of Spades', '4 of Hearts', '2 of Hearts', '3 of Spades', '6 of Hearts', '6 of Clubs', '6 of Spades', 'Queen of Diamonds', '5 of Spades', '7 of Hearts', '7 of Clubs', '7 of Spades', '4 of Diamonds', 'Jack of Spades', 'Ace of Diamonds', '3 of Diamonds', 'King of Hearts', '6 of Diamonds', '5 of Clubs', '2 of Clubs', 'Ace of Clubs', '4 of Clubs', 'Jack of Clubs', '8 of Clubs', 'Queen of Clubs', 'King of Spades', '9 of Spades', '3 of Clubs', '9 of Diamonds', '5 of Hearts', '2 of Diamonds', '2 of Spades', '5 of Diamonds']\n"
     ]
    }
   ],
   "source": [
    "# Reshuffe Card\n",
    "import random as r\n",
    "\n",
    "def shuffle(items):\n",
    "    for i in range(len(items)):\n",
    "    # Generate a random number between 0 and 51, inclusive\n",
    "        rand_idx = r.randint(0, len(items)-1)\n",
    "        temp = items[i] # Store the original value in a temp variable\n",
    "        items[i] = items[rand_idx] # Save the random \"card\" to it\n",
    "        items[rand_idx] = temp # And move the original card there\n",
    "\n",
    "    return items\n",
    "\n",
    "def main():\n",
    "    deck = []\n",
    "\n",
    "    # A Nested loop to traverse each suite\n",
    "    for suite in [\"Hearts\", \"Spades\", \"Clubs\", \"Diamonds\"]:\n",
    "        # as well as its cards\n",
    "        for card_num in range(2, 11):\n",
    "            name = [str(card_num), \"of\", suite]\n",
    "            card = \" \".join(name)\n",
    "            deck.append(card) # Append adds the string to the deck\n",
    "\n",
    "        for face in [\"Jack\", \"Queen\", \"King\", \"Ace\"]:\n",
    "            name = [face, \"of\", suite]\n",
    "            card = \" \".join(name)\n",
    "            deck.append(card)\n",
    "\n",
    "    print(\"Ordered\")\n",
    "    print(deck)\n",
    "    # Lists are complex, so if we update the list in a function\n",
    "    # it will update in the original list too!\n",
    "    shuffle(deck)\n",
    "    print(\"Shuffled\")\n",
    "    print(deck)\n",
    "\n",
    "if __name__ == '__main__':\n",
    "    main()"
   ]
  },
  {
   "cell_type": "code",
   "execution_count": 9,
   "metadata": {},
   "outputs": [
    {
     "name": "stdout",
     "output_type": "stream",
     "text": [
      "6\n",
      "5\n",
      "4\n",
      "3\n",
      "2\n",
      "1\n"
     ]
    }
   ],
   "source": [
    "# Traverse Nested List backward\n",
    "\n",
    "array = [[1,2],[3,4],[5,6]]\n",
    "for i in range(len(array)-1, -1, -1):\n",
    "  row = array[i]\n",
    "  for j in range(len(row)-1, -1, -1):\n",
    "    col = row[j]\n",
    "    print(col)"
   ]
  },
  {
   "cell_type": "code",
   "execution_count": 11,
   "metadata": {},
   "outputs": [
    {
     "name": "stdout",
     "output_type": "stream",
     "text": [
      "3\n",
      "1\n",
      "3\n",
      "Sum: 24\n"
     ]
    }
   ],
   "source": [
    "# Summing Elements in a Nested List\n",
    "def sum_2d_list(nested_list):\n",
    "  total = 0\n",
    "  for i in range(len(nested_list)):\n",
    "    print(nested_list[i][0])\n",
    "    for j in range(len(nested_list[i])):\n",
    "      total += nested_list[i][j]\n",
    "  return total\n",
    "\n",
    "if __name__ == '__main__':\n",
    "  numbers = [\n",
    "              [3,2,1],\n",
    "              [1,2,3],\n",
    "              [3,4,5]\n",
    "            ]\n",
    "  total = sum_2d_list(numbers)\n",
    "  print(\"Sum:\", total)"
   ]
  },
  {
   "cell_type": "code",
   "execution_count": 12,
   "metadata": {},
   "outputs": [
    {
     "name": "stdout",
     "output_type": "stream",
     "text": [
      "Max: 85\n",
      "Min: 20\n",
      "Avg: 58.6\n"
     ]
    }
   ],
   "source": [
    "import random as r\n",
    "\n",
    "def list_stats(numbers):\n",
    "  \"\"\" Provides the max, min, and average of a list of numbers\n",
    "  \"\"\"\n",
    "  max_num = max(numbers)\n",
    "  min_num = min(numbers)\n",
    "  total = 0\n",
    "  for num in numbers:\n",
    "    total += num\n",
    "  avg = total / len(numbers)\n",
    "\n",
    "  return [max_num, min_num, avg]\n",
    "\n",
    "if __name__ == '__main__':\n",
    "  number_list = [36, 56, 34, 65, 75, 71, 75, 85, 20, 69]\n",
    "\n",
    "  stats = list_stats(number_list)\n",
    "  print(\"Max: {0}\".format(stats[0]))\n",
    "  print(\"Min: {0}\".format(stats[1]))\n",
    "  print(\"Avg: {0}\".format(stats[2]))"
   ]
  },
  {
   "cell_type": "code",
   "execution_count": 19,
   "metadata": {},
   "outputs": [],
   "source": [
    "'''\n",
    "Area of a Triangle From Points \n",
    "\n",
    "Define a function triangle_area that expects a 3x2 points list, where points[0][0] is the x-coordinate and points[0][1] is the y-coordinate for the first point. Utilize the provided distance function to calculate the area of a triangle using Heron's Formula to calculate your sides.\n",
    "\n",
    "Test Cases\n",
    "\n",
    "triangle_area([[1.5, -3.4], [4.6, 5.0], [9.5, -3.4]]) ⇒ 33.6\n",
    "triangle_area([[2.5, 2.0], [5.0, -1.0], [4.0, 2.0]]) ⇒ 2.25\n",
    "triangle_area([[2.0, 2.0], [4.0, 4.0], [6.0, 6.0]]) ⇒ 0.0\n",
    "'''\n",
    "import math\n",
    "def distance(p0, p1):\n",
    "    x1 = p0[0]\n",
    "    y1 = p0[1]\n",
    "    x2 = p1[0]\n",
    "    y2 = p1[1]\n",
    "\n",
    "    return math.sqrt((x2-x1)**2+(y2-y1)**2)\n",
    "\n",
    "def triangle_area(points):\n",
    "    # Enter your implementation here\n",
    "    p1=points[0]\n",
    "    p2=points[1]\n",
    "    p3=points[2]\n",
    "    \n",
    "    #distance between \n",
    "    d1=distance(p1, p2)\n",
    "    d2=distance(p2, p3)\n",
    "    d3=distance(p3, p1)\n",
    "  \n",
    "    s=(d1+d2+d3)/2\n",
    "    result=math.sqrt(s*(s-d1)*(s-d2)*(s-d3))\n",
    "    return result\n",
    "  "
   ]
  },
  {
   "cell_type": "code",
   "execution_count": 20,
   "metadata": {},
   "outputs": [
    {
     "data": {
      "text/plain": [
       "33.600000000000016"
      ]
     },
     "execution_count": 20,
     "metadata": {},
     "output_type": "execute_result"
    }
   ],
   "source": [
    "points= [[1.5, -3.4], [4.6, 5.0], [9.5, -3.4]]\n",
    "triangle_area(points)\n"
   ]
  }
 ],
 "metadata": {
  "kernelspec": {
   "display_name": "Python 3",
   "language": "python",
   "name": "python3"
  },
  "language_info": {
   "codemirror_mode": {
    "name": "ipython",
    "version": 3
   },
   "file_extension": ".py",
   "mimetype": "text/x-python",
   "name": "python",
   "nbconvert_exporter": "python",
   "pygments_lexer": "ipython3",
   "version": "3.8.5"
  }
 },
 "nbformat": 4,
 "nbformat_minor": 4
}
