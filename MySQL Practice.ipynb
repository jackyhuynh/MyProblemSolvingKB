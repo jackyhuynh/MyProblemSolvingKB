{
 "cells": [
  {
   "cell_type": "markdown",
   "id": "ba72452b",
   "metadata": {},
   "source": [
    "# MYSQL DATABASE"
   ]
  },
  {
   "cell_type": "markdown",
   "id": "d9a0a42f",
   "metadata": {},
   "source": [
    "- select: select (*, or any specific column)\n",
    "- from: table\n",
    "- where: condition\n",
    "- left: take left parameter. Left(column,number)\n",
    "- right: take right parameter. right(column, number)\n",
    "- order by: sort the return queue by\n",
    "- group by: group the return value by\n",
    "- regexp: regular expression\n",
    "- asc: ascending order\n",
    "- desc: descending order:\n",
    "    * Note in a multiple condition that require sort, please use the \"order by\", instead of \"where\"\n",
    "- round: round to a specific number\n",
    "- sqrt: return square root of a selected single value. Ex: sqrt(number)\n",
    "- power: return the power of a single number. Ex: power(number,2)\n",
    "- max: return the maximum of a number in a list. Ex: max(list)\n",
    "- min: return the minimun of a number in a list. Ex: min(list)\n",
    "- substring: return the substring of a string. Ex: substring(string, start, end)\n",
    "- concat: concat all string together. concat('a','b',...,'n')\n",
    "- upper: string to upper or lower case. upper(string)\n",
    "- lower: string to lower case\n",
    "- CASE\n",
    "    * WHEN condition1 THEN result1\n",
    "    * WHEN condition2 THEN result2\n",
    "    * WHEN conditionN THEN resultN\n",
    "    * ELSE result\n",
    "    * END;\n",
    "- set @r1 -> after go to the statement: @r1:=@r1+1\n",
    "- count: retutn the count of a column\n",
    "- sum: the sum of all specific value. example: select sum(population) from city where district = 'California';\n",
    "- ceil: convert to full integer (round it up)\n",
    "- floor: round it down\n",
    "- decimal(p,d): The DECIMAL(P,D) means that the column can store up to P digits with D decimals. The actual range of the decimal column depends on the precision and scale.\n",
    "- between 38.7880 and 137.2345: between 2 numbers.\n",
    "- in: pass to test the argument in a list\n",
    "\n",
    "SQL Incremental design.\n",
    "\n",
    "##### Query the NAME field for all American cities in the CITY table with populations larger than 120000. The CountryCode for America is USA.\n",
    "SELECT NAME FROM CITY WHERE CITY.POPULATION > 120000 AND CITY.COUNTRYCODE=\"USA\"\n",
    "\n",
    "##### Query all columns (attributes) for every row in the CITY table.\n",
    "SELECT * FROM CITY;\n",
    "\n",
    "##### Query all columns for a city in CITY with the ID 1661.\n",
    "SELECT * FROM CITY WHERE CITY.ID = 1661;\n",
    "\n",
    "SELECT * FROM CITY WHERE CITY.COUNTRYCODE = 'JPN';\n",
    "\n",
    "##### Query a list of CITY names from STATION for cities that have an even ID number. Print the results in any order, but exclude duplicates from the answer.\n",
    "\n",
    "SELECT CITY FROM STATION WHERE MOD(ID, 2) = 0  GROUP BY CITY;\n",
    "\n",
    "##### Find the difference between the total number of CITY entries in the table and the number of distinct CITY entries in the table.\n",
    "SELECT (COUNT(CITY) - COUNT(DISTINCT CITY)) FROM STATION;\n",
    "\n",
    "\n",
    "##### Query the two cities in STATION with the shortest and longest CITY names, as well as their respective lengths (i.e.: number of characters in the name). If there is more than one smallest or largest city, choose the one that comes first when ordered alphabetically.\n",
    "select city, length(city) from station order by length(city),city asc limit 1;\n",
    "select city, length(city) from station order by length(city),city desc limit 1;\n",
    "\n",
    "##### Query the list of CITY names from STATION that do not start with vowels and do not end with vowels. Your result cannot contain duplicates.\n",
    "select distinct city from station where city not regexp '^[aeiou]' and city not regexp '[aeiou]$';\n",
    "\n",
    "##### Write a query that prints a list of employee names (i.e.: the name attribute) from the Employee table in alphabetical order.\n",
    "select name from employee order by name asc;\n",
    "order by: give an order list\n",
    "\n",
    "##### Write a query that prints a list of employee names (i.e.: the name attribute) for employees in Employee having a salary greater than  per month who have been employees for less than  months. Sort your result by ascending employee_id.\n",
    "select name from employee where salary > 2000 and months < 10 order by employee_id asc;\n",
    "\n",
    "##### Query the Western Longitude (LONG_W)where the smallest Northern Latitude (LAT_N) in STATION is greater than . Round your answer to  decimal places.\n",
    "1: select round(long_w,4) from station where lat_n>38.7780 order by lat_n asc limit 1;\n",
    "2: select round(long_w,4) from station where lat_n=(select min(lat_n) from station where lat_n>38.7780); (suppose to be faster)\n",
    "\n",
    "##### Consider  and  to be two points on a 2D plane.\n",
    " happens to equal the minimum value in Northern Latitude (LAT_N in STATION).\n",
    " happens to equal the minimum value in Western Longitude (LONG_W in STATION).\n",
    " happens to equal the maximum value in Northern Latitude (LAT_N in STATION).\n",
    " happens to equal the maximum value in Western Longitude (LONG_W in STATION).\n",
    "Query the Manhattan Distance between points  and  and round it to a scale of  decimal places.\n",
    "\n",
    "SELECT ROUND( MAX(lat_n)-MIN(lat_n) + MAX(long_w)-MIN(long_w), 4) FROM Station;\n",
    "\n",
    "##### Generate the following two result sets:\n",
    "\n",
    "Query an alphabetically ordered list of all names in OCCUPATIONS, immediately followed by the first letter of each profession as a parenthetical (i.e.: enclosed in parentheses). For example: AnActorName(A), ADoctorName(D), AProfessorName(P), and ASingerName(S).\n",
    "Query the number of ocurrences of each occupation in OCCUPATIONS. Sort the occurrences in ascending order, and output them in the following format:\n",
    "\n",
    "There are a total of [occupation_count] [occupation]s.\n",
    "where [occupation_count] is the number of occurrences of an occupation in OCCUPATIONS and [occupation] is the lowercase occupation name. If more than one Occupation has the same [occupation_count], they should be ordered alphabetically.\n",
    "\n",
    "select concat(name,'(',left(occupation,1),')') from occupations order by name;\n",
    "select concat('There are a total of ',count(name),' ', lower(occupation),'s.') as total from occupations group by occupation order by total;\n",
    "\n",
    "##### select employee.months*employee.salary as earning, count(*) from employee group by 1 order by earning desc limit 1;\n",
    "\n",
    "##### select round(max(lat_n),4) from station where lat_n < 137.2345;\n",
    "\n",
    "##### Query the Western Longitude (LONG_W) for the largest Northern Latitude (LAT_N) in STATION that is less than . Round your answer to  decimal places.\n",
    "select round(long_w,4) from station where lat_n = (select max(lat_n) from station where lat_n<137.2345);\n",
    "\n",
    "##### Given the CITY and COUNTRY tables, query the sum of the populations of all cities where the CONTINENT is 'Asia'.\n",
    "select sum(population) from city where countrycode in (select code from country where continent= 'Asia');\n",
    "\n",
    "##### Given the CITY and COUNTRY tables, query the names of all the continents (COUNTRY.Continent) and their respective average city populations (CITY.Population) rounded down to the nearest integer.\n",
    "/*\n",
    "select continent from country group by continent;\n",
    "select count(code) from country group by continent;\n",
    "*/\n",
    "select country.continent, \n",
    "    floor(avg(city.population)) \n",
    "    from city inner join country on city.countrycode = country.code \n",
    "    group by country.continent;\n",
    "    \n",
    "##### no join, find the value between\n",
    "Ketty gives Eve a task to generate a report containing three columns: Name, Grade and Mark. Ketty doesn't want the NAMES of those students who received a grade lower than 8. The report must be in descending order by grade -- i.e. higher grades are entered first. If there is more than one student with the same grade (8-10) assigned to them, order those particular students by their name alphabetically. Finally, if the grade is lower than 8, use \"NULL\" as their name and list them by their grades in descending order. If there is more than one student with the same grade (1-7) assigned to them, order those particular students by their marks in ascending order.\n",
    "\n",
    "select case\n",
    "    when grades.grade < 8 then \"NULL\"\n",
    "    else students.name end, grades.grade, students.marks \n",
    "    from grades, students \n",
    "    where students.marks between grades.min_mark and grades.max_mark \n",
    "    order by grades.grade desc, students.name asc ;\n",
    "Write a query to help Eve.\n",
    "set @number = 21;\n",
    "\n",
    "##### select repeat('* ', @number := @number - 1) from information_schema.tables;"
   ]
  },
  {
   "cell_type": "code",
   "execution_count": 1,
   "id": "2e262c7a",
   "metadata": {},
   "outputs": [],
   "source": [
    "mydict = {\"cat\":12, \"dog\":6, \n",
    "          \"elephant\":23, \"bear\":20}\n",
    "\n",
    "keylist = list(mydict.keys())"
   ]
  },
  {
   "cell_type": "code",
   "execution_count": 14,
   "id": "b88c27ad",
   "metadata": {},
   "outputs": [
    {
     "name": "stdout",
     "output_type": "stream",
     "text": [
      "18\n"
     ]
    }
   ],
   "source": [
    "mydict[\"mouse\"] = mydict.get(\"cat\") + mydict.get(\"dog\")\n",
    "\n",
    "print(mydict.get(\"mouse\"))"
   ]
  },
  {
   "cell_type": "code",
   "execution_count": null,
   "id": "113254df",
   "metadata": {},
   "outputs": [],
   "source": []
  },
  {
   "cell_type": "code",
   "execution_count": 15,
   "id": "f0f7fd0b",
   "metadata": {},
   "outputs": [],
   "source": [
    "import numpy as np\n",
    "a = np.array([5, 9, -3, 12, 1, 6.14])\n",
    "b = np.arange(6, dtype=float)"
   ]
  },
  {
   "cell_type": "code",
   "execution_count": 27,
   "id": "53830bbe",
   "metadata": {},
   "outputs": [],
   "source": [
    "c = np.array( [ [4, 5, 6], [1, 2, 3] ] )\n",
    "d = np.array( [ [6, 2, -3], [14, -1, 6] ] )"
   ]
  },
  {
   "cell_type": "code",
   "execution_count": null,
   "id": "f243be24",
   "metadata": {},
   "outputs": [],
   "source": []
  }
 ],
 "metadata": {
  "kernelspec": {
   "display_name": "Python 3 (ipykernel)",
   "language": "python",
   "name": "python3"
  },
  "language_info": {
   "codemirror_mode": {
    "name": "ipython",
    "version": 3
   },
   "file_extension": ".py",
   "mimetype": "text/x-python",
   "name": "python",
   "nbconvert_exporter": "python",
   "pygments_lexer": "ipython3",
   "version": "3.8.5"
  }
 },
 "nbformat": 4,
 "nbformat_minor": 5
}
