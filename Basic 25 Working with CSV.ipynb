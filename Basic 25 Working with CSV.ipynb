{
 "cells": [
  {
   "cell_type": "code",
   "execution_count": 4,
   "id": "ca40bd87",
   "metadata": {},
   "outputs": [
    {
     "name": "stdout",
     "output_type": "stream",
     "text": [
      "['day', 'temp', 'condition']\n",
      "['Monday', '12', 'Sunny']\n",
      "['Tuesday', '14', 'Rain']\n",
      "['Wednesday', '15', 'Rain']\n",
      "['Thursday', '14', 'Cloudy']\n",
      "['Friday', '21', 'Sunny']\n",
      "['Saturday', '22', 'Sunny']\n",
      "['Sunday', '24', 'Sunny']\n"
     ]
    }
   ],
   "source": [
    "import pandas as pd\n",
    "import csv\n",
    "\n",
    "with open(\"weather_data.csv\") as data_file:\n",
    "    data = csv.reader(data_file)\n",
    "    for row in data:\n",
    "        print (row)"
   ]
  },
  {
   "cell_type": "code",
   "execution_count": 6,
   "id": "a3c4455a",
   "metadata": {},
   "outputs": [
    {
     "name": "stdout",
     "output_type": "stream",
     "text": [
      "         day  temp condition\n",
      "0     Monday    12     Sunny\n",
      "1    Tuesday    14      Rain\n",
      "2  Wednesday    15      Rain\n",
      "3   Thursday    14    Cloudy\n",
      "4     Friday    21     Sunny\n",
      "5   Saturday    22     Sunny\n",
      "6     Sunday    24     Sunny\n"
     ]
    }
   ],
   "source": [
    "import pandas as pd\n",
    "\n",
    "# Use padas for faster and pretier print\n",
    "# First row is the name of the column\n",
    "# Pandas for data science\n",
    "# Easy to hold a frame of data to sove particular problem\n",
    "# Pandas convert the column into a object (treat as an dictionary or an object)\n",
    "data = pd.read_csv(\"weather_data.csv\")\n",
    "print (data)"
   ]
  },
  {
   "cell_type": "code",
   "execution_count": 8,
   "id": "b5e800b1",
   "metadata": {},
   "outputs": [
    {
     "name": "stdout",
     "output_type": "stream",
     "text": [
      "{'day': {0: 'Monday', 1: 'Tuesday', 2: 'Wednesday', 3: 'Thursday', 4: 'Friday', 5: 'Saturday', 6: 'Sunday'}, 'temp': {0: 12, 1: 14, 2: 15, 3: 14, 4: 21, 5: 22, 6: 24}, 'condition': {0: 'Sunny', 1: 'Rain', 2: 'Rain', 3: 'Cloudy', 4: 'Sunny', 5: 'Sunny', 6: 'Sunny'}}\n"
     ]
    }
   ],
   "source": [
    "\"\"\"\n",
    "Pandas\n",
    "    CONSTRUCTOR\n",
    "        CONVERT TO HTML, CSV.\n",
    "    PANDAS DATA FRAME TO DICTIONARY\n",
    "\n",
    "\"\"\"\n",
    "data_dict = data.to_dict()\n",
    "print (data_dict)"
   ]
  },
  {
   "cell_type": "markdown",
   "id": "02c47920",
   "metadata": {},
   "source": [
    "## Get data in columns:"
   ]
  },
  {
   "cell_type": "code",
   "execution_count": 14,
   "id": "6bcb0387",
   "metadata": {},
   "outputs": [
    {
     "data": {
      "text/plain": [
       "[12, 14, 15, 14, 21, 22, 24]"
      ]
     },
     "execution_count": 14,
     "metadata": {},
     "output_type": "execute_result"
    }
   ],
   "source": [
    "# Convert a column to list\n",
    "data[\"temp\"].to_list()"
   ]
  },
  {
   "cell_type": "code",
   "execution_count": 15,
   "id": "33e3c397",
   "metadata": {},
   "outputs": [
    {
     "data": {
      "text/plain": [
       "17.428571428571427"
      ]
     },
     "execution_count": 15,
     "metadata": {},
     "output_type": "execute_result"
    }
   ],
   "source": [
    "# Build in avg, mean, max, min\n",
    "data[\"temp\"].mean()"
   ]
  },
  {
   "cell_type": "code",
   "execution_count": 16,
   "id": "79a55697",
   "metadata": {},
   "outputs": [
    {
     "data": {
      "text/plain": [
       "0     Sunny\n",
       "1      Rain\n",
       "2      Rain\n",
       "3    Cloudy\n",
       "4     Sunny\n",
       "5     Sunny\n",
       "6     Sunny\n",
       "Name: condition, dtype: object"
      ]
     },
     "execution_count": 16,
     "metadata": {},
     "output_type": "execute_result"
    }
   ],
   "source": [
    "data[\"condition\"]"
   ]
  },
  {
   "cell_type": "markdown",
   "id": "35c8dd02",
   "metadata": {},
   "source": [
    "## Get data in rows:"
   ]
  },
  {
   "cell_type": "code",
   "execution_count": 17,
   "id": "c9b84448",
   "metadata": {},
   "outputs": [
    {
     "name": "stdout",
     "output_type": "stream",
     "text": [
      "      day  temp condition\n",
      "0  Monday    12     Sunny\n"
     ]
    }
   ],
   "source": [
    "print(data[data.day == \"Monday\"])"
   ]
  },
  {
   "cell_type": "code",
   "execution_count": 23,
   "id": "1ac1ab9e",
   "metadata": {},
   "outputs": [
    {
     "name": "stdout",
     "output_type": "stream",
     "text": [
      "      day  temp condition\n",
      "6  Sunday    24     Sunny\n"
     ]
    }
   ],
   "source": [
    "# Print the row where the data.temp is equal to the maximum or any \n",
    "print(data[data.temp == data.temp.max()])"
   ]
  },
  {
   "cell_type": "markdown",
   "id": "6ca6eac7",
   "metadata": {},
   "source": [
    "## Create a dataframe from dictionary"
   ]
  },
  {
   "cell_type": "code",
   "execution_count": 25,
   "id": "138d5002",
   "metadata": {},
   "outputs": [
    {
     "name": "stdout",
     "output_type": "stream",
     "text": [
      "  students  scores\n",
      "0     Truc     100\n",
      "1   Phuong     500\n",
      "2      Bin      50\n"
     ]
    }
   ],
   "source": [
    "## Create a dataframe from dictionary\n",
    "data_dict = {\n",
    "    \"students\":[\"Truc\", \"Phuong\", \"Bin\"],\n",
    "    \"scores\": [100,500,50]\n",
    "}\n",
    "data = pd.DataFrame(data_dict)\n",
    "print (data)"
   ]
  },
  {
   "cell_type": "code",
   "execution_count": null,
   "id": "e2c18fc5",
   "metadata": {},
   "outputs": [],
   "source": []
  }
 ],
 "metadata": {
  "kernelspec": {
   "display_name": "Python 3",
   "language": "python",
   "name": "python3"
  },
  "language_info": {
   "codemirror_mode": {
    "name": "ipython",
    "version": 3
   },
   "file_extension": ".py",
   "mimetype": "text/x-python",
   "name": "python",
   "nbconvert_exporter": "python",
   "pygments_lexer": "ipython3",
   "version": "3.8.8"
  }
 },
 "nbformat": 4,
 "nbformat_minor": 5
}
